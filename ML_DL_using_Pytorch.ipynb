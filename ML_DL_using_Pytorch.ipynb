{
  "nbformat": 4,
  "nbformat_minor": 0,
  "metadata": {
    "colab": {
      "provenance": [],
      "gpuType": "T4"
    },
    "kernelspec": {
      "name": "python3",
      "display_name": "Python 3"
    },
    "language_info": {
      "name": "python"
    },
    "accelerator": "GPU"
  },
  "cells": [
    {
      "cell_type": "markdown",
      "source": [
        "#First tut"
      ],
      "metadata": {
        "id": "JBW0PfZInM1H"
      }
    },
    {
      "cell_type": "code",
      "source": [
        "import torch"
      ],
      "metadata": {
        "id": "vluEH8VO1UEd"
      },
      "execution_count": 1,
      "outputs": []
    },
    {
      "cell_type": "code",
      "source": [
        "x=torch.empty(2,3)\n",
        "x"
      ],
      "metadata": {
        "colab": {
          "base_uri": "https://localhost:8080/"
        },
        "id": "f60XUL7N1eL-",
        "outputId": "2f8525b3-795c-4c79-e060-2775841023e6"
      },
      "execution_count": 2,
      "outputs": [
        {
          "output_type": "execute_result",
          "data": {
            "text/plain": [
              "tensor([[-8.7131e+29,  4.5377e-41, -8.9896e+29],\n",
              "        [ 4.5377e-41, -8.9897e+29,  4.5377e-41]])"
            ]
          },
          "metadata": {},
          "execution_count": 2
        }
      ]
    },
    {
      "cell_type": "code",
      "source": [
        "x=torch.rand(2,2)\n",
        "print(x)"
      ],
      "metadata": {
        "colab": {
          "base_uri": "https://localhost:8080/"
        },
        "id": "4UbJH64W4ohF",
        "outputId": "2da3fd37-3616-4667-9871-c4c0b7c0b225"
      },
      "execution_count": 3,
      "outputs": [
        {
          "output_type": "stream",
          "name": "stdout",
          "text": [
            "tensor([[0.2598, 0.6133],\n",
            "        [0.5480, 0.2610]])\n"
          ]
        }
      ]
    },
    {
      "cell_type": "code",
      "source": [
        "x=torch.zeros(2,2)\n",
        "print(x)"
      ],
      "metadata": {
        "colab": {
          "base_uri": "https://localhost:8080/"
        },
        "id": "wW1DrB7B4o9_",
        "outputId": "14f7bd83-18a3-4a43-fa49-362bf059a7f4"
      },
      "execution_count": 4,
      "outputs": [
        {
          "output_type": "stream",
          "name": "stdout",
          "text": [
            "tensor([[0., 0.],\n",
            "        [0., 0.]])\n"
          ]
        }
      ]
    },
    {
      "cell_type": "code",
      "source": [
        "x=torch.ones(2,2)\n",
        "print(x)"
      ],
      "metadata": {
        "colab": {
          "base_uri": "https://localhost:8080/"
        },
        "id": "E7aRD8nDhsTS",
        "outputId": "8734519e-d2ec-4c95-e8f4-aaaa8ce182bc"
      },
      "execution_count": 5,
      "outputs": [
        {
          "output_type": "stream",
          "name": "stdout",
          "text": [
            "tensor([[1., 1.],\n",
            "        [1., 1.]])\n"
          ]
        }
      ]
    },
    {
      "cell_type": "code",
      "source": [
        "x=torch.ones(2,2,dtype=torch.float16)\n",
        "print(x.size())"
      ],
      "metadata": {
        "colab": {
          "base_uri": "https://localhost:8080/"
        },
        "id": "58WBu8Oyhta5",
        "outputId": "a7f03dcc-abb4-4da0-a46e-f62e2e38d3e5"
      },
      "execution_count": 6,
      "outputs": [
        {
          "output_type": "stream",
          "name": "stdout",
          "text": [
            "torch.Size([2, 2])\n"
          ]
        }
      ]
    },
    {
      "cell_type": "code",
      "source": [
        "x=torch.tensor([2.5,0.1])\n",
        "print(x)"
      ],
      "metadata": {
        "colab": {
          "base_uri": "https://localhost:8080/"
        },
        "id": "G1axu6Z9hzYd",
        "outputId": "68383076-70d3-46c2-e96c-48d455005041"
      },
      "execution_count": 7,
      "outputs": [
        {
          "output_type": "stream",
          "name": "stdout",
          "text": [
            "tensor([2.5000, 0.1000])\n"
          ]
        }
      ]
    },
    {
      "cell_type": "code",
      "source": [
        "x=torch.rand(2,2)\n",
        "y=torch.rand(2,2)\n",
        "print(x)\n",
        "print(y)\n",
        "z=x*y\n",
        "z=torch.add(x,y)\n",
        "print(z)"
      ],
      "metadata": {
        "colab": {
          "base_uri": "https://localhost:8080/"
        },
        "id": "e7iyknJah44Y",
        "outputId": "ac293c6f-56e4-43ab-9713-aa8d9827a55b"
      },
      "execution_count": 8,
      "outputs": [
        {
          "output_type": "stream",
          "name": "stdout",
          "text": [
            "tensor([[0.8041, 0.7547],\n",
            "        [0.0627, 0.2813]])\n",
            "tensor([[0.7922, 0.0489],\n",
            "        [0.8227, 0.3605]])\n",
            "tensor([[1.5963, 0.8036],\n",
            "        [0.8854, 0.6418]])\n"
          ]
        }
      ]
    },
    {
      "cell_type": "code",
      "source": [
        "y.add_(x)\n",
        "print(y)#inplace"
      ],
      "metadata": {
        "colab": {
          "base_uri": "https://localhost:8080/"
        },
        "id": "GRqPzfFtiBhN",
        "outputId": "dd8db566-01ed-40a4-b36f-bfb82984e84d"
      },
      "execution_count": 9,
      "outputs": [
        {
          "output_type": "stream",
          "name": "stdout",
          "text": [
            "tensor([[1.5963, 0.8036],\n",
            "        [0.8854, 0.6418]])\n"
          ]
        }
      ]
    },
    {
      "cell_type": "code",
      "source": [
        "z=x-y\n",
        "z=torch.sub(x,y)\n",
        "print(z)"
      ],
      "metadata": {
        "colab": {
          "base_uri": "https://localhost:8080/"
        },
        "id": "YazbUU9tiIW4",
        "outputId": "2774caf2-de65-46c0-df8d-e392b861e7e0"
      },
      "execution_count": 10,
      "outputs": [
        {
          "output_type": "stream",
          "name": "stdout",
          "text": [
            "tensor([[-0.7922, -0.0489],\n",
            "        [-0.8227, -0.3605]])\n"
          ]
        }
      ]
    },
    {
      "cell_type": "code",
      "source": [
        "z=x-y\n",
        "z=torch.mul(x,y)#elementwise multiplication\n",
        "print(z)"
      ],
      "metadata": {
        "colab": {
          "base_uri": "https://localhost:8080/"
        },
        "id": "MusyYyJ7iSBg",
        "outputId": "47835dd4-6b7f-4aed-8b5d-085ecdc2bc22"
      },
      "execution_count": 11,
      "outputs": [
        {
          "output_type": "stream",
          "name": "stdout",
          "text": [
            "tensor([[1.2836, 0.6064],\n",
            "        [0.0555, 0.1805]])\n"
          ]
        }
      ]
    },
    {
      "cell_type": "code",
      "source": [
        "z=torch.div(x,y)#elementwise\n",
        "print(z)"
      ],
      "metadata": {
        "colab": {
          "base_uri": "https://localhost:8080/"
        },
        "id": "jUI-6dwkidl9",
        "outputId": "ea1fc24b-0afa-4326-ac66-eeeae9940d20"
      },
      "execution_count": 12,
      "outputs": [
        {
          "output_type": "stream",
          "name": "stdout",
          "text": [
            "tensor([[0.5037, 0.9392],\n",
            "        [0.0708, 0.4383]])\n"
          ]
        }
      ]
    },
    {
      "cell_type": "code",
      "source": [
        "x=torch.rand(5,3)\n",
        "print(x)\n",
        "print(x[:,0])\n",
        "print(x[1,1])\n",
        "print(x[1,1].item())"
      ],
      "metadata": {
        "colab": {
          "base_uri": "https://localhost:8080/"
        },
        "id": "_zkrDsH2igJF",
        "outputId": "9daa0c12-9a57-48c4-e651-7a941a6a5e0c"
      },
      "execution_count": 13,
      "outputs": [
        {
          "output_type": "stream",
          "name": "stdout",
          "text": [
            "tensor([[0.3757, 0.6567, 0.5530],\n",
            "        [0.9452, 0.1693, 0.6243],\n",
            "        [0.2695, 0.1435, 0.4435],\n",
            "        [0.7510, 0.2189, 0.0314],\n",
            "        [0.8247, 0.4564, 0.6685]])\n",
            "tensor([0.3757, 0.9452, 0.2695, 0.7510, 0.8247])\n",
            "tensor(0.1693)\n",
            "0.1692989468574524\n"
          ]
        }
      ]
    },
    {
      "cell_type": "code",
      "source": [
        "x=torch.rand(4,4)\n",
        "print(x)\n",
        "y=x.view(16)\n",
        "print(y)\n",
        "y=x.view(-1,8)#-1 automatic\n",
        "print(y)"
      ],
      "metadata": {
        "colab": {
          "base_uri": "https://localhost:8080/"
        },
        "id": "NrfhpEmWi5mn",
        "outputId": "5d801615-6b41-4ca5-ea8d-33cadd09742f"
      },
      "execution_count": 14,
      "outputs": [
        {
          "output_type": "stream",
          "name": "stdout",
          "text": [
            "tensor([[0.1906, 0.2744, 0.8242, 0.9165],\n",
            "        [0.3902, 0.5975, 0.9544, 0.4461],\n",
            "        [0.2894, 0.7043, 0.0571, 0.6582],\n",
            "        [0.3248, 0.9508, 0.8135, 0.2023]])\n",
            "tensor([0.1906, 0.2744, 0.8242, 0.9165, 0.3902, 0.5975, 0.9544, 0.4461, 0.2894,\n",
            "        0.7043, 0.0571, 0.6582, 0.3248, 0.9508, 0.8135, 0.2023])\n",
            "tensor([[0.1906, 0.2744, 0.8242, 0.9165, 0.3902, 0.5975, 0.9544, 0.4461],\n",
            "        [0.2894, 0.7043, 0.0571, 0.6582, 0.3248, 0.9508, 0.8135, 0.2023]])\n"
          ]
        }
      ]
    },
    {
      "cell_type": "code",
      "source": [
        "import torch\n",
        "import numpy as np\n"
      ],
      "metadata": {
        "id": "pl21MXd5jO0Z"
      },
      "execution_count": 15,
      "outputs": []
    },
    {
      "cell_type": "code",
      "source": [
        "a=torch.ones(5)\n",
        "print(a)\n",
        "b=a.numpy()\n",
        "print(b)"
      ],
      "metadata": {
        "colab": {
          "base_uri": "https://localhost:8080/"
        },
        "id": "h01CRtYVjaZK",
        "outputId": "c20aaecb-2dca-4ce4-d60a-c6789e4a2493"
      },
      "execution_count": 16,
      "outputs": [
        {
          "output_type": "stream",
          "name": "stdout",
          "text": [
            "tensor([1., 1., 1., 1., 1.])\n",
            "[1. 1. 1. 1. 1.]\n"
          ]
        }
      ]
    },
    {
      "cell_type": "code",
      "source": [
        "a.add_(1)\n",
        "print(a)\n",
        "print(b)"
      ],
      "metadata": {
        "colab": {
          "base_uri": "https://localhost:8080/"
        },
        "id": "ZL3mP9gdjf_M",
        "outputId": "04645ecf-9e81-41b1-d3d2-a1426f64f3e3"
      },
      "execution_count": 17,
      "outputs": [
        {
          "output_type": "stream",
          "name": "stdout",
          "text": [
            "tensor([2., 2., 2., 2., 2.])\n",
            "[2. 2. 2. 2. 2.]\n"
          ]
        }
      ]
    },
    {
      "cell_type": "code",
      "source": [
        "a=np.ones(5)\n",
        "print(a)\n",
        "b=torch.from_numpy(a)\n",
        "print(b)"
      ],
      "metadata": {
        "colab": {
          "base_uri": "https://localhost:8080/"
        },
        "id": "hTMrxRLUjnnw",
        "outputId": "78e11b1d-e71b-4752-ce88-e5cd7776b829"
      },
      "execution_count": 18,
      "outputs": [
        {
          "output_type": "stream",
          "name": "stdout",
          "text": [
            "[1. 1. 1. 1. 1.]\n",
            "tensor([1., 1., 1., 1., 1.], dtype=torch.float64)\n"
          ]
        }
      ]
    },
    {
      "cell_type": "code",
      "source": [
        "a+=1\n",
        "print(a)\n",
        "print(b)"
      ],
      "metadata": {
        "colab": {
          "base_uri": "https://localhost:8080/"
        },
        "id": "b6c8XR_Mjv3b",
        "outputId": "be5d1389-2704-4b93-dfbd-85e3094b5090"
      },
      "execution_count": 19,
      "outputs": [
        {
          "output_type": "stream",
          "name": "stdout",
          "text": [
            "[2. 2. 2. 2. 2.]\n",
            "tensor([2., 2., 2., 2., 2.], dtype=torch.float64)\n"
          ]
        }
      ]
    },
    {
      "cell_type": "code",
      "source": [
        "if torch.cuda.is_available():\n",
        "  device=torch.device(\"cuda\")\n",
        "  x=torch.ones(5,device=device)\n",
        "  y=torch.ones(5)\n",
        "  y=y.to(device)\n",
        "  z=x+y\n",
        "  # print(z)\n",
        "  z=z.to(\"cpu\")\n",
        "  print(z)"
      ],
      "metadata": {
        "colab": {
          "base_uri": "https://localhost:8080/"
        },
        "id": "YqEMgoZXj4oa",
        "outputId": "fabb5c63-2afd-453a-8826-665931ec367d"
      },
      "execution_count": 20,
      "outputs": [
        {
          "output_type": "stream",
          "name": "stdout",
          "text": [
            "tensor([2., 2., 2., 2., 2.])\n"
          ]
        }
      ]
    },
    {
      "cell_type": "code",
      "source": [
        "torch.cuda.is_available()"
      ],
      "metadata": {
        "colab": {
          "base_uri": "https://localhost:8080/"
        },
        "id": "l7VFJLg9kFpl",
        "outputId": "45c1ab63-7bd5-4f74-9b5b-34db683e3f89"
      },
      "execution_count": 21,
      "outputs": [
        {
          "output_type": "execute_result",
          "data": {
            "text/plain": [
              "True"
            ]
          },
          "metadata": {},
          "execution_count": 21
        }
      ]
    },
    {
      "cell_type": "code",
      "source": [
        "x=torch.ones(5,requires_grad=True)\n",
        "print(x)"
      ],
      "metadata": {
        "colab": {
          "base_uri": "https://localhost:8080/"
        },
        "id": "TgCzW5BekYyE",
        "outputId": "ddb89193-ede1-40cb-e99c-194a2da35306"
      },
      "execution_count": 22,
      "outputs": [
        {
          "output_type": "stream",
          "name": "stdout",
          "text": [
            "tensor([1., 1., 1., 1., 1.], requires_grad=True)\n"
          ]
        }
      ]
    },
    {
      "cell_type": "markdown",
      "source": [
        "# Second Tut"
      ],
      "metadata": {
        "id": "tby6AhBBnRCm"
      }
    },
    {
      "cell_type": "code",
      "source": [
        "import torch\n",
        "x=torch.randn(3,requires_grad=True)\n",
        "print(x)\n"
      ],
      "metadata": {
        "colab": {
          "base_uri": "https://localhost:8080/"
        },
        "id": "MVLHNgBQk2t-",
        "outputId": "6459792a-522b-4fbd-d833-3cd3a7544a13"
      },
      "execution_count": 23,
      "outputs": [
        {
          "output_type": "stream",
          "name": "stdout",
          "text": [
            "tensor([0.1014, 0.6859, 0.5666], requires_grad=True)\n"
          ]
        }
      ]
    },
    {
      "cell_type": "code",
      "source": [
        "y=x+2\n",
        "print(y)\n",
        "z=y*y*2\n",
        "print(z)\n",
        "z=z.mean()\n",
        "print(z)\n",
        "z.backward() #dz/dx\n",
        "print(x.grad)"
      ],
      "metadata": {
        "colab": {
          "base_uri": "https://localhost:8080/"
        },
        "id": "wtG2Gp_8na1q",
        "outputId": "e64613d5-0302-4b77-b013-02d5fc1a814b"
      },
      "execution_count": 24,
      "outputs": [
        {
          "output_type": "stream",
          "name": "stdout",
          "text": [
            "tensor([2.1014, 2.6859, 2.5666], grad_fn=<AddBackward0>)\n",
            "tensor([ 8.8317, 14.4286, 13.1752], grad_fn=<MulBackward0>)\n",
            "tensor(12.1452, grad_fn=<MeanBackward0>)\n",
            "tensor([2.8019, 3.5813, 3.4222])\n"
          ]
        }
      ]
    },
    {
      "cell_type": "code",
      "source": [
        "z=y*y*2\n",
        "v=torch.tensor([0.1,1.0,0.01],dtype=torch.float32)\n",
        "z.backward(v)\n",
        "print(x.grad)"
      ],
      "metadata": {
        "colab": {
          "base_uri": "https://localhost:8080/"
        },
        "id": "sZK5vsyQpprp",
        "outputId": "d9d035ca-4c3f-473a-8239-af7fdd576eb8"
      },
      "execution_count": 25,
      "outputs": [
        {
          "output_type": "stream",
          "name": "stdout",
          "text": [
            "tensor([ 3.6424, 14.3250,  3.5248])\n"
          ]
        }
      ]
    },
    {
      "cell_type": "code",
      "source": [
        "x.requires_grad_(False)\n",
        "print(x)"
      ],
      "metadata": {
        "colab": {
          "base_uri": "https://localhost:8080/"
        },
        "id": "0_T6-cpfngfC",
        "outputId": "a016dc94-6c64-401c-b6ff-95af13389a34"
      },
      "execution_count": 26,
      "outputs": [
        {
          "output_type": "stream",
          "name": "stdout",
          "text": [
            "tensor([0.1014, 0.6859, 0.5666])\n"
          ]
        }
      ]
    },
    {
      "cell_type": "code",
      "source": [
        "y=x.detach()\n",
        "print(y)"
      ],
      "metadata": {
        "colab": {
          "base_uri": "https://localhost:8080/"
        },
        "id": "jhYedCo4qUX6",
        "outputId": "6c868697-0c42-4dcf-ac89-23b3395bcfdc"
      },
      "execution_count": 27,
      "outputs": [
        {
          "output_type": "stream",
          "name": "stdout",
          "text": [
            "tensor([0.1014, 0.6859, 0.5666])\n"
          ]
        }
      ]
    },
    {
      "cell_type": "code",
      "source": [
        "with torch.no_grad():\n",
        "  y=x+2\n",
        "  print(y)"
      ],
      "metadata": {
        "colab": {
          "base_uri": "https://localhost:8080/"
        },
        "id": "1IExx1OlrsYb",
        "outputId": "e5e167fa-1276-485a-f757-0ff29d026163"
      },
      "execution_count": 28,
      "outputs": [
        {
          "output_type": "stream",
          "name": "stdout",
          "text": [
            "tensor([2.1014, 2.6859, 2.5666])\n"
          ]
        }
      ]
    },
    {
      "cell_type": "code",
      "source": [
        "weights=torch.ones(4,requires_grad=True)\n",
        "\n",
        "for epoch in range(3):\n",
        "  model_output=(weights*3).sum()\n",
        "  model_output.backward()\n",
        "\n",
        "  print(weights.grad)\n",
        "  # weights.grad.zero_()\n"
      ],
      "metadata": {
        "colab": {
          "base_uri": "https://localhost:8080/"
        },
        "id": "Tzpt8Z5ur0Bd",
        "outputId": "0e3ef488-d1fa-4254-d4c3-34228e67f4e8"
      },
      "execution_count": 29,
      "outputs": [
        {
          "output_type": "stream",
          "name": "stdout",
          "text": [
            "tensor([3., 3., 3., 3.])\n",
            "tensor([6., 6., 6., 6.])\n",
            "tensor([9., 9., 9., 9.])\n"
          ]
        }
      ]
    },
    {
      "cell_type": "code",
      "source": [],
      "metadata": {
        "id": "9oqmkV_4yOi_"
      },
      "execution_count": 29,
      "outputs": []
    },
    {
      "cell_type": "markdown",
      "source": [
        "# Backpropagation Theory"
      ],
      "metadata": {
        "id": "grBKb8vryTPk"
      }
    },
    {
      "cell_type": "code",
      "source": [
        "import torch\n",
        "x=torch.tensor(1.0)\n",
        "y=torch.tensor(2.0)\n",
        "\n",
        "w=torch.tensor(1.0,requires_grad=True)\n",
        "\n",
        "y_hat=w*x\n",
        "loss=(y_hat-y)**2\n",
        "print(loss)\n",
        "loss.backward()\n",
        "print(w.grad)\n",
        "#backward pass above\n",
        "#update weights\n",
        "#next forward and backward pass"
      ],
      "metadata": {
        "colab": {
          "base_uri": "https://localhost:8080/"
        },
        "id": "RmowH2j8scxU",
        "outputId": "21822936-3cb2-42f2-cd8b-4f6b230589ed"
      },
      "execution_count": 30,
      "outputs": [
        {
          "output_type": "stream",
          "name": "stdout",
          "text": [
            "tensor(1., grad_fn=<PowBackward0>)\n",
            "tensor(-2.)\n"
          ]
        }
      ]
    },
    {
      "cell_type": "markdown",
      "source": [
        "#Gradientg Descent with AutoGrad and Bakckprop"
      ],
      "metadata": {
        "id": "VUVNP4ss2PWq"
      }
    },
    {
      "cell_type": "code",
      "source": [
        "import numpy as np\n",
        "\n",
        "#f=w*x\n",
        "#f=2*x\n",
        "\n",
        "X=np.array([1,2,3,4],dtype=np.float32)\n",
        "Y=np.array([2,4,6,8],dtype=np.float32)\n",
        "\n",
        "w=0.0\n",
        "\n",
        "#model prediction\n",
        "def forward(x):\n",
        "  return w * x\n",
        "\n",
        "# loss - MSE\n",
        "\n",
        "def loss(y,y_predicted):\n",
        "  return ((y_predicted-y)**2).mean()\n",
        "\n",
        "# gradient\n",
        "#MSE =1/N *(w*x-y)**2\n",
        "#dj/dx=1/N 2x(w*x-y)\n",
        "\n",
        "def gradient(x,y,y_predicted):\n",
        "  return np.dot(2*x,y_predicted-y).mean()\n",
        "\n",
        "\n",
        "print(\"Predictions before training:\" +str(forward(5)))\n",
        "\n",
        "#Training\n",
        "learning_rate=0.01\n",
        "n_iters=10\n",
        "\n",
        "for epoch in range(n_iters):\n",
        "  #predictions=forward pass\n",
        "  y_pred=forward(X)\n",
        "\n",
        "  #loss\n",
        "  l=loss(Y,y_pred)\n",
        "\n",
        "  #gradients\n",
        "  dw=gradient(X,Y,y_pred)\n",
        "\n",
        "  #update weights\n",
        "  w-=learning_rate*dw\n",
        "  if epoch%2 ==0:\n",
        "    print(f'epoch {epoch+1}: w={w:.3f}, loss={l:.8f}')\n",
        "\n",
        "print(\"Predictions after training:\" +str(forward(5)))\n"
      ],
      "metadata": {
        "colab": {
          "base_uri": "https://localhost:8080/"
        },
        "id": "AkbXdwlQ30bR",
        "outputId": "0a188a19-130c-4eb4-cd17-99e28434dd33"
      },
      "execution_count": 31,
      "outputs": [
        {
          "output_type": "stream",
          "name": "stdout",
          "text": [
            "Predictions before training:0.0\n",
            "epoch 1: w=1.200, loss=30.00000000\n",
            "epoch 3: w=1.872, loss=0.76800019\n",
            "epoch 5: w=1.980, loss=0.01966083\n",
            "epoch 7: w=1.997, loss=0.00050332\n",
            "epoch 9: w=1.999, loss=0.00001288\n",
            "Predictions after training:9.998952\n"
          ]
        }
      ]
    },
    {
      "cell_type": "code",
      "source": [
        "import torch\n",
        "#f=w*x\n",
        "#f=2*x\n",
        "\n",
        "X=torch.tensor([1,2,3,4],dtype=torch.float32)\n",
        "Y=torch.tensor([2,4,6,8],dtype=torch.float32)\n",
        "\n",
        "w=torch.tensor(0.0,dtype=torch.float32,requires_grad=True)\n",
        "\n",
        "#model prediction\n",
        "def forward(x):\n",
        "  return w * x\n",
        "\n",
        "# loss - MSE\n",
        "\n",
        "def loss(y,y_predicted):\n",
        "  return ((y_predicted-y)**2).mean()\n",
        "\n",
        "# gradient\n",
        "#MSE =1/N *(w*x-y)**2\n",
        "#dj/dx=1/N 2x(w*x-y)\n",
        "\n",
        "def gradient(x,y,y_predicted):\n",
        "  return np.dot(2*x,y_predicted-y).mean()\n",
        "\n",
        "\n",
        "print(\"Predictions before training:\" +str(forward(5)))\n",
        "\n",
        "#Training\n",
        "learning_rate=0.01\n",
        "n_iters=100\n",
        "\n",
        "for epoch in range(n_iters):\n",
        "  #predictions=forward pass\n",
        "  y_pred=forward(X)\n",
        "\n",
        "  #loss\n",
        "  l=loss(Y,y_pred)\n",
        "\n",
        "  #gradients\n",
        "  l.backward()\n",
        "\n",
        "  #update weights\n",
        "  with torch.no_grad():\n",
        "    w-=learning_rate*w.grad\n",
        "  w.grad.zero_()\n",
        "  if epoch%10 ==0:\n",
        "    print(f'epoch {epoch+1}: w={w:.3f}, loss={l:.8f}')\n",
        "\n",
        "print(\"Predictions after training:\" +str(forward(5)))\n"
      ],
      "metadata": {
        "colab": {
          "base_uri": "https://localhost:8080/"
        },
        "id": "eqNxSMHW5UVu",
        "outputId": "81f04525-84b8-4264-b207-e957dde222fd"
      },
      "execution_count": 32,
      "outputs": [
        {
          "output_type": "stream",
          "name": "stdout",
          "text": [
            "Predictions before training:tensor(0., grad_fn=<MulBackward0>)\n",
            "epoch 1: w=0.300, loss=30.00000000\n",
            "epoch 11: w=1.665, loss=1.16278565\n",
            "epoch 21: w=1.934, loss=0.04506890\n",
            "epoch 31: w=1.987, loss=0.00174685\n",
            "epoch 41: w=1.997, loss=0.00006770\n",
            "epoch 51: w=1.999, loss=0.00000262\n",
            "epoch 61: w=2.000, loss=0.00000010\n",
            "epoch 71: w=2.000, loss=0.00000000\n",
            "epoch 81: w=2.000, loss=0.00000000\n",
            "epoch 91: w=2.000, loss=0.00000000\n",
            "Predictions after training:tensor(10.0000, grad_fn=<MulBackward0>)\n"
          ]
        }
      ]
    },
    {
      "cell_type": "markdown",
      "source": [
        "#Pytorch Loss and Optimizer"
      ],
      "metadata": {
        "id": "tDyj1TFX6g_f"
      }
    },
    {
      "cell_type": "code",
      "source": [
        "#1 Design model,input and output size ,forward pass\n",
        "#2 Construct loss and optimizer\n",
        "#3 Training oss\n",
        "# - forwards pass: compute Prediction\n",
        "# - backward pass: gradients\n",
        "# - update weights\n",
        "\n",
        "\n",
        "import torch\n",
        "import torch.nn as nn\n",
        "#f=w*x\n",
        "#f=2*x\n",
        "\n",
        "X=torch.tensor([1,2,3,4],dtype=torch.float32)\n",
        "Y=torch.tensor([2,4,6,8],dtype=torch.float32)\n",
        "\n",
        "w=torch.tensor(0.0,dtype=torch.float32,requires_grad=True)\n",
        "\n",
        "#model prediction\n",
        "def forward(x):\n",
        "  return w * x\n",
        "\n",
        "# loss - MSE\n",
        "\n",
        "\n",
        "\n",
        "# gradient\n",
        "#MSE =1/N *(w*x-y)**2\n",
        "#dj/dx=1/N 2x(w*x-y)\n",
        "\n",
        "def gradient(x,y,y_predicted):\n",
        "  return np.dot(2*x,y_predicted-y).mean()\n",
        "\n",
        "\n",
        "print(\"Predictions before training:\" +str(forward(5)))\n",
        "\n",
        "#Training\n",
        "learning_rate=0.01\n",
        "n_iters=100\n",
        "\n",
        "losee=nn.MSELoss()\n",
        "optimizer=torch.optim.SGD([w],lr=learning_rate)\n",
        "\n",
        "for epoch in range(n_iters):\n",
        "  #predictions=forward pass\n",
        "  y_pred=forward(X)\n",
        "\n",
        "  #loss\n",
        "  l=loss(Y,y_pred)\n",
        "\n",
        "  #gradients\n",
        "  l.backward()\n",
        "\n",
        "  #update weights\n",
        "  optimizer.step()\n",
        "  optimizer.zero_grad()\n",
        "\n",
        "  if epoch%10 ==0:\n",
        "    print(f'epoch {epoch+1}: w={w:.3f}, loss={l:.8f}')\n",
        "\n",
        "print(\"Predictions after training:\" +str(forward(5)))\n"
      ],
      "metadata": {
        "colab": {
          "base_uri": "https://localhost:8080/"
        },
        "id": "GhjgZqXy57gB",
        "outputId": "6993ab1c-993f-4c2d-fa97-d08e5a017688"
      },
      "execution_count": 33,
      "outputs": [
        {
          "output_type": "stream",
          "name": "stdout",
          "text": [
            "Predictions before training:tensor(0., grad_fn=<MulBackward0>)\n",
            "epoch 1: w=0.300, loss=30.00000000\n",
            "epoch 11: w=1.665, loss=1.16278565\n",
            "epoch 21: w=1.934, loss=0.04506890\n",
            "epoch 31: w=1.987, loss=0.00174685\n",
            "epoch 41: w=1.997, loss=0.00006770\n",
            "epoch 51: w=1.999, loss=0.00000262\n",
            "epoch 61: w=2.000, loss=0.00000010\n",
            "epoch 71: w=2.000, loss=0.00000000\n",
            "epoch 81: w=2.000, loss=0.00000000\n",
            "epoch 91: w=2.000, loss=0.00000000\n",
            "Predictions after training:tensor(10.0000, grad_fn=<MulBackward0>)\n"
          ]
        }
      ]
    },
    {
      "cell_type": "code",
      "source": [
        "#1 Design model,input and output size ,forward pass\n",
        "#2 Construct loss and optimizer\n",
        "#3 Training oss\n",
        "# - forwards pass: compute Prediction\n",
        "# - backward pass: gradients\n",
        "# - update weights\n",
        "\n",
        "\n",
        "import torch\n",
        "import torch.nn as nn\n",
        "#f=w*x\n",
        "#f=2*x\n",
        "\n",
        "X=torch.tensor([[1],[2],[3],[4]],dtype=torch.float32)\n",
        "Y=torch.tensor([[2],[4],[6],[8]],dtype=torch.float32)\n",
        "\n",
        "X_test=torch.tensor([5],dtype=torch.float32)\n",
        "\n",
        "n_samples,n_features=X.shape\n",
        "print(n_samples,n_features)\n",
        "input_size=n_features\n",
        "output_size=n_features\n",
        "\n",
        "#model=nn.Linear(input_size,output_size)\n",
        "model=nn.Linear(input_size,output_size)\n",
        "\n",
        "\n",
        "print(\"Predictions before training:\" +str(model(X_test).item()))\n",
        "\n",
        "#Training\n",
        "learning_rate=0.01\n",
        "n_iters=100\n",
        "\n",
        "losee=nn.MSELoss()\n",
        "optimizer=torch.optim.SGD(model.parameters(),lr=learning_rate)\n",
        "\n",
        "for epoch in range(n_iters):\n",
        "  #predictions=forward pass\n",
        "  y_pred=model(X)\n",
        "\n",
        "  #loss\n",
        "  l=loss(Y,y_pred)\n",
        "\n",
        "  #gradients\n",
        "  l.backward()\n",
        "\n",
        "  #update weights\n",
        "  optimizer.step()\n",
        "  optimizer.zero_grad()\n",
        "\n",
        "  if epoch%10 ==0:\n",
        "    [w,b]=model.parameters()\n",
        "    print(f'epoch {epoch+1}: w={w[0][0].item():.3f}, loss={l:.8f}')\n",
        "\n",
        "print(\"Predictions after training:\" +str(model(X_test).item()))\n"
      ],
      "metadata": {
        "colab": {
          "base_uri": "https://localhost:8080/"
        },
        "id": "14Mqzkkf74Vi",
        "outputId": "a750ce82-db4b-4943-dee1-33087e1fa0a0"
      },
      "execution_count": 34,
      "outputs": [
        {
          "output_type": "stream",
          "name": "stdout",
          "text": [
            "4 1\n",
            "Predictions before training:-3.7600951194763184\n",
            "epoch 1: w=-0.399, loss=55.33649445\n",
            "epoch 11: w=1.313, loss=1.61599970\n",
            "epoch 21: w=1.597, loss=0.21539468\n",
            "epoch 31: w=1.651, loss=0.16905421\n",
            "epoch 41: w=1.668, loss=0.15833963\n",
            "epoch 51: w=1.679, loss=0.14910085\n",
            "epoch 61: w=1.689, loss=0.14042176\n",
            "epoch 71: w=1.698, loss=0.13224842\n",
            "epoch 81: w=1.707, loss=0.12455101\n",
            "epoch 91: w=1.716, loss=0.11730137\n",
            "Predictions after training:9.430187225341797\n"
          ]
        }
      ]
    },
    {
      "cell_type": "code",
      "source": [
        "#1 Design model,input and output size ,forward pass\n",
        "#2 Construct loss and optimizer\n",
        "#3 Training oss\n",
        "# - forwards pass: compute Prediction\n",
        "# - backward pass: gradients\n",
        "# - update weights\n",
        "\n",
        "\n",
        "import torch\n",
        "import torch.nn as nn\n",
        "#f=w*x\n",
        "#f=2*x\n",
        "\n",
        "X=torch.tensor([[1],[2],[3],[4]],dtype=torch.float32)\n",
        "Y=torch.tensor([[2],[4],[6],[8]],dtype=torch.float32)\n",
        "\n",
        "X_test=torch.tensor([5],dtype=torch.float32)\n",
        "\n",
        "n_samples,n_features=X.shape\n",
        "print(n_samples,n_features)\n",
        "input_size=n_features\n",
        "output_size=n_features\n",
        "\n",
        "#model=nn.Linear(input_size,output_size)\n",
        "# model=nn.Linear(input_size,output_size)\n",
        "\n",
        "\n",
        "# 1 Design model, input and output size, forward pass\n",
        "class LinearRegression(nn.Module):\n",
        "\n",
        "  def __init__(self, input_dim, output_dim):  # Corrected: __init__ not _init_\n",
        "    super(LinearRegression, self).__init__()\n",
        "    # define layers\n",
        "    self.lin = nn.Linear(input_dim, output_dim)\n",
        "\n",
        "  def forward(self, x):\n",
        "    return self.lin(x)\n",
        "\n",
        "\n",
        "model = LinearRegression(input_size, output_size)\n",
        "\n",
        "\n",
        "print(\"Predictions before training:\" +str(model(X_test).item()))\n",
        "\n",
        "#Training\n",
        "learning_rate=0.01\n",
        "n_iters=100\n",
        "\n",
        "losee=nn.MSELoss()\n",
        "optimizer=torch.optim.SGD(model.parameters(),lr=learning_rate)\n",
        "\n",
        "for epoch in range(n_iters):\n",
        "  #predictions=forward pass\n",
        "  y_pred=model(X)\n",
        "\n",
        "  #loss\n",
        "  l=loss(Y,y_pred)\n",
        "\n",
        "  #gradients\n",
        "  l.backward()\n",
        "\n",
        "  #update weights\n",
        "  optimizer.step()\n",
        "  optimizer.zero_grad()\n",
        "\n",
        "  if epoch%10 ==0:\n",
        "    [w,b]=model.parameters()\n",
        "    print(f'epoch {epoch+1}: w={w[0][0].item():.3f}, loss={l:.8f}')\n",
        "\n",
        "print(\"Predictions after training:\" +str(model(X_test).item()))\n"
      ],
      "metadata": {
        "colab": {
          "base_uri": "https://localhost:8080/"
        },
        "id": "POlq_SYB9v45",
        "outputId": "fbaa9f3f-7e84-4ac2-eba3-8c7775651dc8"
      },
      "execution_count": 35,
      "outputs": [
        {
          "output_type": "stream",
          "name": "stdout",
          "text": [
            "4 1\n",
            "Predictions before training:-1.7090098857879639\n",
            "epoch 1: w=0.024, loss=41.44714737\n",
            "epoch 11: w=1.504, loss=1.13685203\n",
            "epoch 21: w=1.747, loss=0.09017318\n",
            "epoch 31: w=1.791, loss=0.05955669\n",
            "epoch 41: w=1.803, loss=0.05543382\n",
            "epoch 51: w=1.810, loss=0.05219028\n",
            "epoch 61: w=1.816, loss=0.04915214\n",
            "epoch 71: w=1.821, loss=0.04629121\n",
            "epoch 81: w=1.827, loss=0.04359683\n",
            "epoch 91: w=1.832, loss=0.04105924\n",
            "Predictions after training:9.662879943847656\n"
          ]
        }
      ]
    },
    {
      "cell_type": "markdown",
      "source": [
        "#Linear Regression using Pytorch"
      ],
      "metadata": {
        "id": "zDYBi3UyASjf"
      }
    },
    {
      "cell_type": "code",
      "source": [
        "#1 Design (input size,output size,forward pass)\n",
        "#2 Construct loss and optimizer\n",
        "#3 Training Loop\n",
        "    # -forward pass: compute predictions and loss\n",
        "    # -backward pass: gradients\n",
        "    # -update weights\n",
        "import torch\n",
        "import torch.nn as nn\n",
        "import numpy as np\n",
        "from sklearn import datasets\n",
        "import matplotlib.pyplot as plt\n",
        "\n",
        "x_numpy,y_numpy = datasets.make_regression(n_samples=100,n_features=1,noise=20,random_state=1)\n",
        "X=torch.from_numpy(x_numpy.astype(np.float32))\n",
        "Y=torch.from_numpy(y_numpy.astype(np.float32))\n",
        "Y=Y.view(Y.shape[0],1)\n",
        "n_samples,n_features=X.shape\n",
        "#Model\n",
        "input_size=n_features\n",
        "output_size=1\n",
        "model=nn.Linear(input_size,output_size)\n",
        "criteria=nn.MSELoss()\n",
        "optimizer=torch.optim.SGD(model.parameters(),lr=0.01)\n",
        "\n",
        "#Training\n",
        "num_epochs=100\n",
        "for epoch in range(num_epochs):\n",
        "  #forward pass and loss\n",
        "  y_predicted=model(X)\n",
        "  loss=criteria(y_predicted,Y)\n",
        "  #backward pass\n",
        "  loss.backward()\n",
        "  #update\n",
        "  optimizer.step()\n",
        "  #empty gradients\n",
        "  optimizer.zero_grad()\n",
        "\n",
        "  if epoch%10==0:\n",
        "    [w,b]=model.parameters()\n",
        "    print(f'epoch {epoch+1}: w={w[0][0].item():.3f}, loss={loss:.4f}')\n",
        "\n",
        " #plot\n",
        "predicted=model(X).detach().numpy()\n",
        "plt.plot(x_numpy,y_numpy,'ro')\n",
        "plt.plot(x_numpy,predicted,'b')\n",
        "plt.show()\n",
        "\n",
        "\n"
      ],
      "metadata": {
        "colab": {
          "base_uri": "https://localhost:8080/",
          "height": 604
        },
        "id": "kcpviQsD-9Ut",
        "outputId": "7686e449-c4ef-4c26-b4b6-ff1c62ca5ed9"
      },
      "execution_count": 36,
      "outputs": [
        {
          "output_type": "stream",
          "name": "stdout",
          "text": [
            "epoch 1: w=1.367, loss=5745.7114\n",
            "epoch 11: w=13.310, loss=4253.5723\n",
            "epoch 21: w=23.484, loss=3175.5444\n",
            "epoch 31: w=32.154, loss=2395.7856\n",
            "epoch 41: w=39.542, loss=1831.1553\n",
            "epoch 51: w=45.841, loss=1421.8879\n",
            "epoch 61: w=51.211, loss=1124.9575\n",
            "epoch 71: w=55.791, loss=909.3428\n",
            "epoch 81: w=59.696, loss=752.6505\n",
            "epoch 91: w=63.028, loss=638.6953\n"
          ]
        },
        {
          "output_type": "display_data",
          "data": {
            "text/plain": [
              "<Figure size 640x480 with 1 Axes>"
            ],
            "image/png": "[encoded data removed]"
          },
          "metadata": {}
        }
      ]
    },
    {
      "cell_type": "markdown",
      "source": [
        "#Logistic Regression using Pytorch"
      ],
      "metadata": {
        "id": "NeoPElSNDVlB"
      }
    },
    {
      "cell_type": "code",
      "source": [
        "#1 Design (input size,output size,forward pass)\n",
        "#2 Construct loss and optimizer\n",
        "#3 Training Loop\n",
        "    # -forward pass: compute predictions and loss\n",
        "    # -backward pass: gradients\n",
        "    # -update weights\n",
        "import torch\n",
        "import torch.nn as nn\n",
        "import numpy as np\n",
        "from sklearn import datasets\n",
        "from sklearn.preprocessing import StandardScaler\n",
        "from sklearn.model_selection import train_test_split\n",
        "import matplotlib.pyplot as plt\n",
        "\n",
        "bc=datasets.load_breast_cancer()\n",
        "X,y=bc.data,bc.target\n",
        "\n",
        "n_samples,n_features=X.shape\n",
        "X_train,X_test,y_train,y_test=train_test_split(X,y,test_size=0.2,random_state=1234)\n",
        "sc=StandardScaler()\n",
        "X_train=sc.fit_transform(X_train)\n",
        "X_test=sc.transform(X_test)\n",
        "X_train=torch.from_numpy(X_train.astype(np.float32))\n",
        "X_test=torch.from_numpy(X_test.astype(np.float32))\n",
        "y_train=torch.from_numpy(y_train.astype(np.float32))\n",
        "y_test=torch.from_numpy(y_test.astype(np.float32))\n",
        "y_train=y_train.view(y_train.shape[0],1)\n",
        "y_test=y_test.view(y_test.shape[0],1)\n",
        "\n",
        "#f=wx+b,sigmoid at the end\n",
        "class LogisticRegression(nn.Module):\n",
        "  def __init__(self,n_input_features):\n",
        "    super(LogisticRegression,self).__init__()\n",
        "    self.linear=nn.Linear(n_input_features,1)\n",
        "\n",
        "  def forward(self,x):\n",
        "    y_predicted=torch.sigmoid(self.linear(x))\n",
        "    return y_predicted\n",
        "\n",
        "#Model\n",
        "model=LogisticRegression(n_features)\n",
        "#Loss and Optimizer\n",
        "criteria=nn.BCELoss()\n",
        "optimizer=torch.optim.SGD(model.parameters(),lr=0.01)\n",
        "\n",
        "#Training\n",
        "num_epochs=100\n",
        "for epoch in range(num_epochs):\n",
        "  #forward pass and loss\n",
        "  y_predicted=model(X_train)\n",
        "  loss=criteria(y_predicted,y_train)\n",
        "  #backward pass\n",
        "  loss.backward()\n",
        "  #update\n",
        "  optimizer.step()\n",
        "  #empty gradients\n",
        "  optimizer.zero_grad()\n",
        "\n",
        "  if (epoch+1)%10==0:\n",
        "    [w,b]=model.parameters()\n",
        "    print(f'epoch {epoch+1}: loss={loss:.4f}')\n",
        "\n",
        "with torch.no_grad():\n",
        "  y_predicted=model(X_test)\n",
        "  y_predicted_cls=y_predicted.round()\n",
        "  acc=y_predicted_cls.eq(y_test).sum()/float(y_test.shape[0])\n",
        "  print(f'accuracy={acc:.4f}')\n",
        "\n",
        "\n"
      ],
      "metadata": {
        "colab": {
          "base_uri": "https://localhost:8080/"
        },
        "id": "npa8pXioC-1M",
        "outputId": "8020f3bf-1f5c-4c94-cd69-c98f765d70b0"
      },
      "execution_count": 37,
      "outputs": [
        {
          "output_type": "stream",
          "name": "stdout",
          "text": [
            "epoch 10: loss=0.4900\n",
            "epoch 20: loss=0.4249\n",
            "epoch 30: loss=0.3796\n",
            "epoch 40: loss=0.3459\n",
            "epoch 50: loss=0.3196\n",
            "epoch 60: loss=0.2984\n",
            "epoch 70: loss=0.2809\n",
            "epoch 80: loss=0.2661\n",
            "epoch 90: loss=0.2533\n",
            "epoch 100: loss=0.2423\n",
            "accuracy=0.8947\n"
          ]
        }
      ]
    },
    {
      "cell_type": "markdown",
      "source": [
        "#Dataset and DataLoader"
      ],
      "metadata": {
        "id": "n4E5gx46HX3t"
      }
    },
    {
      "cell_type": "code",
      "source": [
        "'''\n",
        "epoch = 1 forward and backward pass of ALL training samples\n",
        "batch_size= number of training sample in one forward and backward pass\n",
        "number of iterations = number of passes,each pass using[batch_size] number of samples\n",
        "e.g 100 samples,batch_size=20 -->100/20=5 iterations for 1 epoch\n",
        "'''\n",
        "\n",
        "import torch\n",
        "import torchvision\n",
        "from torch.utils.data import Dataset,DataLoader\n",
        "import numpy as np\n",
        "import math\n",
        "\n",
        "class WineDataset(Dataset):\n",
        "  def __init__(self):\n",
        "    #data loading\n",
        "    xy= np.loadtxt('/content/WineQT.csv',delimiter=\",\",dtype=np.float32,skiprows=1)\n",
        "    self.x=torch.from_numpy(xy[:,1:])\n",
        "    self.y=torch.from_numpy(xy[:,[0]])\n",
        "    self.n_samples=xy.shape[0]\n",
        "\n",
        "  def __getitem__(self,index):\n",
        "    return self.x[index],self.y[index]\n",
        "\n",
        "  def __len__(self):\n",
        "    return self.n_samples\n",
        "\n",
        "\n",
        "dataset = WineDataset()\n",
        "# first_data = dataset[0]\n",
        "# features,labels = first_data\n",
        "# print(features,labels)\n",
        "\n",
        "dataloader=DataLoader(dataset=dataset,batch_size=4,shuffle=True,num_workers=2)\n",
        "datatiter=iter(dataloader)\n",
        "data=next(datatiter)\n",
        "features,labels=data\n",
        "print(features,labels)\n",
        "\n",
        "\n",
        "#training loop\n",
        "num_epochs=2\n",
        "total_samples=len(dataset)\n",
        "n_iterations=math.ceil(total_samples/4)\n",
        "print(total_samples,n_iterations)\n",
        "for epoch in range(num_epochs):\n",
        "  for i,(inputs,labels) in enumerate(dataloader):\n",
        "     # forward and backward,update (placeholders for actual model logic)\n",
        "\n",
        "     # --- ADDED CONDITION HERE TO MATCH VIDEO'S PRINT FREQUENCY ---\n",
        "     if (i + 1) % 5 == 0: # Print every 5th step\n",
        "       print(f'epoch {epoch+1}/{num_epochs}, step {i+1}/{n_iterations}, inputs shape: {inputs.shape}')\n",
        "\n",
        "print(\"\\nTraining loop simulation complete.\")\n",
        "\n",
        "# torchvision.datasets.MNIST()\n",
        "#fashion=mnist,tifar,coco\n"
      ],
      "metadata": {
        "colab": {
          "base_uri": "https://localhost:8080/"
        },
        "id": "GmXfMt-zGc-I",
        "outputId": "0655ece9-a8d8-47a6-b987-165880a5cb76"
      },
      "execution_count": 39,
      "outputs": [
        {
          "output_type": "stream",
          "name": "stdout",
          "text": [
            "tensor([[3.4000e-01, 5.2000e-01, 3.2000e+00, 9.4000e-02, 1.7000e+01, 5.3000e+01,\n",
            "         1.0014e+00, 3.0500e+00, 8.1000e-01, 9.5000e+00, 6.0000e+00, 2.9400e+02],\n",
            "        [6.9000e-01, 0.0000e+00, 1.6500e+00, 5.5000e-02, 7.0000e+00, 1.2000e+01,\n",
            "         9.9162e-01, 3.4700e+00, 5.3000e-01, 1.2900e+01, 6.0000e+00, 9.9900e+02],\n",
            "        [9.0000e-01, 0.0000e+00, 1.6000e+00, 5.2000e-02, 9.0000e+00, 1.7000e+01,\n",
            "         9.9467e-01, 3.5000e+00, 6.3000e-01, 1.0900e+01, 6.0000e+00, 1.4550e+03],\n",
            "        [4.3000e-01, 3.4000e-01, 2.5000e+00, 8.0000e-02, 2.6000e+01, 8.6000e+01,\n",
            "         9.9870e-01, 3.3800e+00, 6.2000e-01, 9.5000e+00, 6.0000e+00, 4.1000e+02]]) tensor([[13.3000],\n",
            "        [ 6.4000],\n",
            "        [ 6.5000],\n",
            "        [ 9.0000]])\n",
            "1143 286\n",
            "epoch 1/2, step 5/286, inputs shape: torch.Size([4, 12])\n",
            "epoch 1/2, step 10/286, inputs shape: torch.Size([4, 12])\n",
            "epoch 1/2, step 15/286, inputs shape: torch.Size([4, 12])\n",
            "epoch 1/2, step 20/286, inputs shape: torch.Size([4, 12])\n",
            "epoch 1/2, step 25/286, inputs shape: torch.Size([4, 12])\n",
            "epoch 1/2, step 30/286, inputs shape: torch.Size([4, 12])\n",
            "epoch 1/2, step 35/286, inputs shape: torch.Size([4, 12])\n",
            "epoch 1/2, step 40/286, inputs shape: torch.Size([4, 12])\n",
            "epoch 1/2, step 45/286, inputs shape: torch.Size([4, 12])\n",
            "epoch 1/2, step 50/286, inputs shape: torch.Size([4, 12])\n",
            "epoch 1/2, step 55/286, inputs shape: torch.Size([4, 12])\n",
            "epoch 1/2, step 60/286, inputs shape: torch.Size([4, 12])\n",
            "epoch 1/2, step 65/286, inputs shape: torch.Size([4, 12])\n",
            "epoch 1/2, step 70/286, inputs shape: torch.Size([4, 12])\n",
            "epoch 1/2, step 75/286, inputs shape: torch.Size([4, 12])\n",
            "epoch 1/2, step 80/286, inputs shape: torch.Size([4, 12])\n",
            "epoch 1/2, step 85/286, inputs shape: torch.Size([4, 12])\n",
            "epoch 1/2, step 90/286, inputs shape: torch.Size([4, 12])\n",
            "epoch 1/2, step 95/286, inputs shape: torch.Size([4, 12])\n",
            "epoch 1/2, step 100/286, inputs shape: torch.Size([4, 12])\n",
            "epoch 1/2, step 105/286, inputs shape: torch.Size([4, 12])\n",
            "epoch 1/2, step 110/286, inputs shape: torch.Size([4, 12])\n",
            "epoch 1/2, step 115/286, inputs shape: torch.Size([4, 12])\n",
            "epoch 1/2, step 120/286, inputs shape: torch.Size([4, 12])\n",
            "epoch 1/2, step 125/286, inputs shape: torch.Size([4, 12])\n",
            "epoch 1/2, step 130/286, inputs shape: torch.Size([4, 12])\n",
            "epoch 1/2, step 135/286, inputs shape: torch.Size([4, 12])\n",
            "epoch 1/2, step 140/286, inputs shape: torch.Size([4, 12])\n",
            "epoch 1/2, step 145/286, inputs shape: torch.Size([4, 12])\n",
            "epoch 1/2, step 150/286, inputs shape: torch.Size([4, 12])\n",
            "epoch 1/2, step 155/286, inputs shape: torch.Size([4, 12])\n",
            "epoch 1/2, step 160/286, inputs shape: torch.Size([4, 12])\n",
            "epoch 1/2, step 165/286, inputs shape: torch.Size([4, 12])\n",
            "epoch 1/2, step 170/286, inputs shape: torch.Size([4, 12])\n",
            "epoch 1/2, step 175/286, inputs shape: torch.Size([4, 12])\n",
            "epoch 1/2, step 180/286, inputs shape: torch.Size([4, 12])\n",
            "epoch 1/2, step 185/286, inputs shape: torch.Size([4, 12])\n",
            "epoch 1/2, step 190/286, inputs shape: torch.Size([4, 12])\n",
            "epoch 1/2, step 195/286, inputs shape: torch.Size([4, 12])\n",
            "epoch 1/2, step 200/286, inputs shape: torch.Size([4, 12])\n",
            "epoch 1/2, step 205/286, inputs shape: torch.Size([4, 12])\n",
            "epoch 1/2, step 210/286, inputs shape: torch.Size([4, 12])\n",
            "epoch 1/2, step 215/286, inputs shape: torch.Size([4, 12])\n",
            "epoch 1/2, step 220/286, inputs shape: torch.Size([4, 12])\n",
            "epoch 1/2, step 225/286, inputs shape: torch.Size([4, 12])\n",
            "epoch 1/2, step 230/286, inputs shape: torch.Size([4, 12])\n",
            "epoch 1/2, step 235/286, inputs shape: torch.Size([4, 12])\n",
            "epoch 1/2, step 240/286, inputs shape: torch.Size([4, 12])\n",
            "epoch 1/2, step 245/286, inputs shape: torch.Size([4, 12])\n",
            "epoch 1/2, step 250/286, inputs shape: torch.Size([4, 12])\n",
            "epoch 1/2, step 255/286, inputs shape: torch.Size([4, 12])\n",
            "epoch 1/2, step 260/286, inputs shape: torch.Size([4, 12])\n",
            "epoch 1/2, step 265/286, inputs shape: torch.Size([4, 12])\n",
            "epoch 1/2, step 270/286, inputs shape: torch.Size([4, 12])\n",
            "epoch 1/2, step 275/286, inputs shape: torch.Size([4, 12])\n",
            "epoch 1/2, step 280/286, inputs shape: torch.Size([4, 12])\n",
            "epoch 1/2, step 285/286, inputs shape: torch.Size([4, 12])\n",
            "epoch 2/2, step 5/286, inputs shape: torch.Size([4, 12])\n",
            "epoch 2/2, step 10/286, inputs shape: torch.Size([4, 12])\n",
            "epoch 2/2, step 15/286, inputs shape: torch.Size([4, 12])\n",
            "epoch 2/2, step 20/286, inputs shape: torch.Size([4, 12])\n",
            "epoch 2/2, step 25/286, inputs shape: torch.Size([4, 12])\n",
            "epoch 2/2, step 30/286, inputs shape: torch.Size([4, 12])\n",
            "epoch 2/2, step 35/286, inputs shape: torch.Size([4, 12])\n",
            "epoch 2/2, step 40/286, inputs shape: torch.Size([4, 12])\n",
            "epoch 2/2, step 45/286, inputs shape: torch.Size([4, 12])\n",
            "epoch 2/2, step 50/286, inputs shape: torch.Size([4, 12])\n",
            "epoch 2/2, step 55/286, inputs shape: torch.Size([4, 12])\n",
            "epoch 2/2, step 60/286, inputs shape: torch.Size([4, 12])\n",
            "epoch 2/2, step 65/286, inputs shape: torch.Size([4, 12])\n",
            "epoch 2/2, step 70/286, inputs shape: torch.Size([4, 12])\n",
            "epoch 2/2, step 75/286, inputs shape: torch.Size([4, 12])\n",
            "epoch 2/2, step 80/286, inputs shape: torch.Size([4, 12])\n",
            "epoch 2/2, step 85/286, inputs shape: torch.Size([4, 12])\n",
            "epoch 2/2, step 90/286, inputs shape: torch.Size([4, 12])\n",
            "epoch 2/2, step 95/286, inputs shape: torch.Size([4, 12])\n",
            "epoch 2/2, step 100/286, inputs shape: torch.Size([4, 12])\n",
            "epoch 2/2, step 105/286, inputs shape: torch.Size([4, 12])\n",
            "epoch 2/2, step 110/286, inputs shape: torch.Size([4, 12])\n",
            "epoch 2/2, step 115/286, inputs shape: torch.Size([4, 12])\n",
            "epoch 2/2, step 120/286, inputs shape: torch.Size([4, 12])\n",
            "epoch 2/2, step 125/286, inputs shape: torch.Size([4, 12])\n",
            "epoch 2/2, step 130/286, inputs shape: torch.Size([4, 12])\n",
            "epoch 2/2, step 135/286, inputs shape: torch.Size([4, 12])\n",
            "epoch 2/2, step 140/286, inputs shape: torch.Size([4, 12])\n",
            "epoch 2/2, step 145/286, inputs shape: torch.Size([4, 12])\n",
            "epoch 2/2, step 150/286, inputs shape: torch.Size([4, 12])\n",
            "epoch 2/2, step 155/286, inputs shape: torch.Size([4, 12])\n",
            "epoch 2/2, step 160/286, inputs shape: torch.Size([4, 12])\n",
            "epoch 2/2, step 165/286, inputs shape: torch.Size([4, 12])\n",
            "epoch 2/2, step 170/286, inputs shape: torch.Size([4, 12])\n",
            "epoch 2/2, step 175/286, inputs shape: torch.Size([4, 12])\n",
            "epoch 2/2, step 180/286, inputs shape: torch.Size([4, 12])\n",
            "epoch 2/2, step 185/286, inputs shape: torch.Size([4, 12])\n",
            "epoch 2/2, step 190/286, inputs shape: torch.Size([4, 12])\n",
            "epoch 2/2, step 195/286, inputs shape: torch.Size([4, 12])\n",
            "epoch 2/2, step 200/286, inputs shape: torch.Size([4, 12])\n",
            "epoch 2/2, step 205/286, inputs shape: torch.Size([4, 12])\n",
            "epoch 2/2, step 210/286, inputs shape: torch.Size([4, 12])\n",
            "epoch 2/2, step 215/286, inputs shape: torch.Size([4, 12])\n",
            "epoch 2/2, step 220/286, inputs shape: torch.Size([4, 12])\n",
            "epoch 2/2, step 225/286, inputs shape: torch.Size([4, 12])\n",
            "epoch 2/2, step 230/286, inputs shape: torch.Size([4, 12])\n",
            "epoch 2/2, step 235/286, inputs shape: torch.Size([4, 12])\n",
            "epoch 2/2, step 240/286, inputs shape: torch.Size([4, 12])\n",
            "epoch 2/2, step 245/286, inputs shape: torch.Size([4, 12])\n",
            "epoch 2/2, step 250/286, inputs shape: torch.Size([4, 12])\n",
            "epoch 2/2, step 255/286, inputs shape: torch.Size([4, 12])\n",
            "epoch 2/2, step 260/286, inputs shape: torch.Size([4, 12])\n",
            "epoch 2/2, step 265/286, inputs shape: torch.Size([4, 12])\n",
            "epoch 2/2, step 270/286, inputs shape: torch.Size([4, 12])\n",
            "epoch 2/2, step 275/286, inputs shape: torch.Size([4, 12])\n",
            "epoch 2/2, step 280/286, inputs shape: torch.Size([4, 12])\n",
            "epoch 2/2, step 285/286, inputs shape: torch.Size([4, 12])\n",
            "\n",
            "Training loop simulation complete.\n"
          ]
        }
      ]
    },
    {
      "cell_type": "markdown",
      "source": [
        "#DataSet Transforms"
      ],
      "metadata": {
        "id": "ZJh9PDJ3QyVz"
      }
    },
    {
      "cell_type": "code",
      "source": [
        "# import torch\n",
        "# import torchvision\n",
        "\n",
        "# # dataset=torchvision.datasets.MNIST(\n",
        "# #     root='./data',transform=torchvision.transforms.ToTensor()\n",
        "# # )\n",
        "\n",
        "# '''\n",
        "# Transforms can be applied to PIL images,tensors,ndarrays or custom data\n",
        "# during creation of the Dataset\n",
        "\n",
        "\n",
        "# On Images:CeterCrop,Grayscale,Pad,RandomAffine,RandomCrop,RandomHorizontalFlip\n",
        "# ,RandomRotation,Resize,Scale\n",
        "\n",
        "# On Tensors\n",
        "# LinearTransformation,Normalize,RandomErasing\n",
        "\n",
        "# Conversion\n",
        "# TopIImage: from tensor or ndarray\n",
        "# ToTensor: from numpy.ndarray or PILImage\n",
        "\n",
        "# Generic\n",
        "# Write own class\n",
        "\n",
        "# Compose Multiple Transform\n",
        "# composed=transform.Compose([Rescale[256],RandomCrop(224)])\n",
        "# torchvision.transform.ReScale(256)\n",
        "# torchvision.transform.ToTensor()\n",
        "# '''\n",
        "\n",
        "\n",
        "# '''\n",
        "# epoch = 1 forward and backward pass of ALL training samples\n",
        "# batch_size= number of training sample in one forward and backward pass\n",
        "# number of iterations = number of passes,each pass using[batch_size] number of samples\n",
        "# e.g 100 samples,batch_size=20 -->100/20=5 iterations for 1 epoch\n",
        "# '''\n",
        "\n",
        "# import torch\n",
        "# import torchvision\n",
        "# from torch.utils.data import Dataset,DataLoader\n",
        "# import numpy as np\n",
        "# import math\n",
        "\n",
        "# class WineDataset(Dataset):\n",
        "#   def __init__(self,transform=None):\n",
        "#     #data loading\n",
        "#     xy= np.loadtxt('/content/WineQT.csv',delimiter=\",\",dtype=np.float32,skiprows=1)\n",
        "#     self.x=torch.from_numpy(xy[:,1:])\n",
        "#     self.y=torch.from_numpy(xy[:,[0]])\n",
        "#     self.n_samples=xy.shape[0]\n",
        "\n",
        "#   def __getitem__(self, index):\n",
        "#     inputs = self.x[index]\n",
        "#     targets = self.y[index]\n",
        "\n",
        "#     sample = {'inputs': inputs, 'targets': targets}\n",
        "\n",
        "#     if self.transform:\n",
        "#       sample = self.transform(sample)\n",
        "\n",
        "#     return sample['inputs'], sample['targets']\n",
        "\n",
        "#   def __len__(self):\n",
        "#     return self.n_samples\n",
        "\n",
        "\n",
        "# class ToTensor:\n",
        "#   def __call__(self,sample):\n",
        "#     inputs,targets=sample\n",
        "#     return torch.from_numpy(inputs),torch.from_numpy(targets)\n",
        "\n",
        "# class MulTransform:\n",
        "#   def __init__(self,factor):\n",
        "#     self.factor=factor\n",
        "\n",
        "#   def __call__(self,sample):\n",
        "#     inputs,targets=sample\n",
        "#     inputs*=self.factor\n",
        "#     return inputs,targets\n",
        "\n",
        "\n",
        "# dataset = WineDataset(transform=ToTensor())\n",
        "# first_data = dataset[0]\n",
        "# features,labels = first_data\n",
        "# print(type(features),type(labels))\n",
        "\n",
        "# composed=torchvision.transforms.Compose([ToTensor(),MulTransform(4)])\n",
        "# dataset = WineDataset(transform=composed)\n",
        "# first_data = dataset[0]\n",
        "# features,labels = first_data\n",
        "# print(type(features),type(labels))\n",
        "\n",
        "# #\n",
        "\n",
        "# # dataloader=DataLoader(dataset=dataset,batch_size=4,shuffle=True,num_workers=2)\n",
        "# # datatiter=iter(dataloader)\n",
        "# # data=next(datatiter)\n",
        "# # features,labels=data\n",
        "# # print(features,labels)\n",
        "\n",
        "\n",
        "# # #training loop\n",
        "# # num_epochs=2\n",
        "# # total_samples=len(dataset)\n",
        "# # n_iterations=math.ceil(total_samples/4)\n",
        "# # print(total_samples,n_iterations)\n",
        "# # for epoch in range(num_epochs):\n",
        "# #   for i,(inputs,labels) in enumerate(dataloader):\n",
        "# #      # forward and backward,update (placeholders for actual model logic)\n",
        "\n",
        "# #      # --- ADDED CONDITION HERE TO MATCH VIDEO'S PRINT FREQUENCY ---\n",
        "# #      if (i + 1) % 5 == 0: # Print every 5th step\n",
        "# #        print(f'epoch {epoch+1}/{num_epochs}, step {i+1}/{n_iterations}, inputs shape: {inputs.shape}')\n",
        "\n",
        "# print(\"\\nTraining loop simulation complete.\")\n",
        "\n",
        "# # torchvision.datasets.MNIST()\n",
        "# #fashion=mnist,tifar,coco\n",
        "\n"
      ],
      "metadata": {
        "id": "rTcQZWAzLiOH"
      },
      "execution_count": 52,
      "outputs": []
    },
    {
      "cell_type": "code",
      "source": [
        "import torch\n",
        "import torchvision\n",
        "from torch.utils.data import Dataset, DataLoader\n",
        "import numpy as np\n",
        "import math\n",
        "\n",
        "class WineDataset(Dataset):\n",
        "    def __init__(self,transform=None):\n",
        "        #data laoding\n",
        "        xy = np.loadtxt('/content/WineQT.csv',delimiter=',',dtype=np.float32,skiprows=1)\n",
        "        self.x = torch.from_numpy(xy[:,1:])\n",
        "        self.y = torch.from_numpy(xy[:,[0]])# n_samples,1\n",
        "        self.n_samples = xy.shape[0]\n",
        "\n",
        "        self.transform = transform\n",
        "\n",
        "    def __getitem__(self,index):\n",
        "        #dataset[0]\n",
        "        sample = self.x[index], self.y[index]\n",
        "        if(self.transform):\n",
        "            sample = self.transform(sample)\n",
        "        return sample\n",
        "\n",
        "    def __len__(self):\n",
        "        #lenght of the dataset\n",
        "        return self.n_samples\n",
        "\n",
        "\n",
        "dataset = WineDataset()\n",
        "dataloader = DataLoader(dataset=dataset,batch_size=4,shuffle=True,num_workers=2)\n",
        "\n",
        "#training loop\n",
        "num_epochs    = 2\n",
        "total_samples = len(dataset)\n",
        "n_iterations  = math.ceil(total_samples / 4)\n",
        "print(total_samples,n_iterations)\n",
        "\n",
        "for epoch in range(num_epochs):\n",
        "    for i, (inputs,labels) in enumerate(dataloader):\n",
        "        #forward, backward, update\n",
        "        if(i + 1) % 5 == 0:\n",
        "            print(f'epoch {epoch+1}/{num_epochs},step {i+1}/{n_iterations}, inputs {inputs.shape}')"
      ],
      "metadata": {
        "colab": {
          "base_uri": "https://localhost:8080/"
        },
        "id": "7vFB_UTYocSQ",
        "outputId": "8e84d442-27f1-497c-be89-18e8dfad16e1"
      },
      "execution_count": 53,
      "outputs": [
        {
          "output_type": "stream",
          "name": "stdout",
          "text": [
            "1143 286\n",
            "epoch 1/2,step 5/286, inputs torch.Size([4, 12])\n",
            "epoch 1/2,step 10/286, inputs torch.Size([4, 12])\n",
            "epoch 1/2,step 15/286, inputs torch.Size([4, 12])\n",
            "epoch 1/2,step 20/286, inputs torch.Size([4, 12])\n",
            "epoch 1/2,step 25/286, inputs torch.Size([4, 12])\n",
            "epoch 1/2,step 30/286, inputs torch.Size([4, 12])\n",
            "epoch 1/2,step 35/286, inputs torch.Size([4, 12])\n",
            "epoch 1/2,step 40/286, inputs torch.Size([4, 12])\n",
            "epoch 1/2,step 45/286, inputs torch.Size([4, 12])\n",
            "epoch 1/2,step 50/286, inputs torch.Size([4, 12])\n",
            "epoch 1/2,step 55/286, inputs torch.Size([4, 12])\n",
            "epoch 1/2,step 60/286, inputs torch.Size([4, 12])\n",
            "epoch 1/2,step 65/286, inputs torch.Size([4, 12])\n",
            "epoch 1/2,step 70/286, inputs torch.Size([4, 12])\n",
            "epoch 1/2,step 75/286, inputs torch.Size([4, 12])\n",
            "epoch 1/2,step 80/286, inputs torch.Size([4, 12])\n",
            "epoch 1/2,step 85/286, inputs torch.Size([4, 12])\n",
            "epoch 1/2,step 90/286, inputs torch.Size([4, 12])\n",
            "epoch 1/2,step 95/286, inputs torch.Size([4, 12])\n",
            "epoch 1/2,step 100/286, inputs torch.Size([4, 12])\n",
            "epoch 1/2,step 105/286, inputs torch.Size([4, 12])\n",
            "epoch 1/2,step 110/286, inputs torch.Size([4, 12])\n",
            "epoch 1/2,step 115/286, inputs torch.Size([4, 12])\n",
            "epoch 1/2,step 120/286, inputs torch.Size([4, 12])\n",
            "epoch 1/2,step 125/286, inputs torch.Size([4, 12])\n",
            "epoch 1/2,step 130/286, inputs torch.Size([4, 12])\n",
            "epoch 1/2,step 135/286, inputs torch.Size([4, 12])\n",
            "epoch 1/2,step 140/286, inputs torch.Size([4, 12])\n",
            "epoch 1/2,step 145/286, inputs torch.Size([4, 12])\n",
            "epoch 1/2,step 150/286, inputs torch.Size([4, 12])\n",
            "epoch 1/2,step 155/286, inputs torch.Size([4, 12])\n",
            "epoch 1/2,step 160/286, inputs torch.Size([4, 12])\n",
            "epoch 1/2,step 165/286, inputs torch.Size([4, 12])\n",
            "epoch 1/2,step 170/286, inputs torch.Size([4, 12])\n",
            "epoch 1/2,step 175/286, inputs torch.Size([4, 12])\n",
            "epoch 1/2,step 180/286, inputs torch.Size([4, 12])\n",
            "epoch 1/2,step 185/286, inputs torch.Size([4, 12])\n",
            "epoch 1/2,step 190/286, inputs torch.Size([4, 12])\n",
            "epoch 1/2,step 195/286, inputs torch.Size([4, 12])\n",
            "epoch 1/2,step 200/286, inputs torch.Size([4, 12])\n",
            "epoch 1/2,step 205/286, inputs torch.Size([4, 12])\n",
            "epoch 1/2,step 210/286, inputs torch.Size([4, 12])\n",
            "epoch 1/2,step 215/286, inputs torch.Size([4, 12])\n",
            "epoch 1/2,step 220/286, inputs torch.Size([4, 12])\n",
            "epoch 1/2,step 225/286, inputs torch.Size([4, 12])\n",
            "epoch 1/2,step 230/286, inputs torch.Size([4, 12])\n",
            "epoch 1/2,step 235/286, inputs torch.Size([4, 12])\n",
            "epoch 1/2,step 240/286, inputs torch.Size([4, 12])\n",
            "epoch 1/2,step 245/286, inputs torch.Size([4, 12])\n",
            "epoch 1/2,step 250/286, inputs torch.Size([4, 12])\n",
            "epoch 1/2,step 255/286, inputs torch.Size([4, 12])\n",
            "epoch 1/2,step 260/286, inputs torch.Size([4, 12])\n",
            "epoch 1/2,step 265/286, inputs torch.Size([4, 12])\n",
            "epoch 1/2,step 270/286, inputs torch.Size([4, 12])\n",
            "epoch 1/2,step 275/286, inputs torch.Size([4, 12])\n",
            "epoch 1/2,step 280/286, inputs torch.Size([4, 12])\n",
            "epoch 1/2,step 285/286, inputs torch.Size([4, 12])\n",
            "epoch 2/2,step 5/286, inputs torch.Size([4, 12])\n",
            "epoch 2/2,step 10/286, inputs torch.Size([4, 12])\n",
            "epoch 2/2,step 15/286, inputs torch.Size([4, 12])\n",
            "epoch 2/2,step 20/286, inputs torch.Size([4, 12])\n",
            "epoch 2/2,step 25/286, inputs torch.Size([4, 12])\n",
            "epoch 2/2,step 30/286, inputs torch.Size([4, 12])\n",
            "epoch 2/2,step 35/286, inputs torch.Size([4, 12])\n",
            "epoch 2/2,step 40/286, inputs torch.Size([4, 12])\n",
            "epoch 2/2,step 45/286, inputs torch.Size([4, 12])\n",
            "epoch 2/2,step 50/286, inputs torch.Size([4, 12])\n",
            "epoch 2/2,step 55/286, inputs torch.Size([4, 12])\n",
            "epoch 2/2,step 60/286, inputs torch.Size([4, 12])\n",
            "epoch 2/2,step 65/286, inputs torch.Size([4, 12])\n",
            "epoch 2/2,step 70/286, inputs torch.Size([4, 12])\n",
            "epoch 2/2,step 75/286, inputs torch.Size([4, 12])\n",
            "epoch 2/2,step 80/286, inputs torch.Size([4, 12])\n",
            "epoch 2/2,step 85/286, inputs torch.Size([4, 12])\n",
            "epoch 2/2,step 90/286, inputs torch.Size([4, 12])\n",
            "epoch 2/2,step 95/286, inputs torch.Size([4, 12])\n",
            "epoch 2/2,step 100/286, inputs torch.Size([4, 12])\n",
            "epoch 2/2,step 105/286, inputs torch.Size([4, 12])\n",
            "epoch 2/2,step 110/286, inputs torch.Size([4, 12])\n",
            "epoch 2/2,step 115/286, inputs torch.Size([4, 12])\n",
            "epoch 2/2,step 120/286, inputs torch.Size([4, 12])\n",
            "epoch 2/2,step 125/286, inputs torch.Size([4, 12])\n",
            "epoch 2/2,step 130/286, inputs torch.Size([4, 12])\n",
            "epoch 2/2,step 135/286, inputs torch.Size([4, 12])\n",
            "epoch 2/2,step 140/286, inputs torch.Size([4, 12])\n",
            "epoch 2/2,step 145/286, inputs torch.Size([4, 12])\n",
            "epoch 2/2,step 150/286, inputs torch.Size([4, 12])\n",
            "epoch 2/2,step 155/286, inputs torch.Size([4, 12])\n",
            "epoch 2/2,step 160/286, inputs torch.Size([4, 12])\n",
            "epoch 2/2,step 165/286, inputs torch.Size([4, 12])\n",
            "epoch 2/2,step 170/286, inputs torch.Size([4, 12])\n",
            "epoch 2/2,step 175/286, inputs torch.Size([4, 12])\n",
            "epoch 2/2,step 180/286, inputs torch.Size([4, 12])\n",
            "epoch 2/2,step 185/286, inputs torch.Size([4, 12])\n",
            "epoch 2/2,step 190/286, inputs torch.Size([4, 12])\n",
            "epoch 2/2,step 195/286, inputs torch.Size([4, 12])\n",
            "epoch 2/2,step 200/286, inputs torch.Size([4, 12])\n",
            "epoch 2/2,step 205/286, inputs torch.Size([4, 12])\n",
            "epoch 2/2,step 210/286, inputs torch.Size([4, 12])\n",
            "epoch 2/2,step 215/286, inputs torch.Size([4, 12])\n",
            "epoch 2/2,step 220/286, inputs torch.Size([4, 12])\n",
            "epoch 2/2,step 225/286, inputs torch.Size([4, 12])\n",
            "epoch 2/2,step 230/286, inputs torch.Size([4, 12])\n",
            "epoch 2/2,step 235/286, inputs torch.Size([4, 12])\n",
            "epoch 2/2,step 240/286, inputs torch.Size([4, 12])\n",
            "epoch 2/2,step 245/286, inputs torch.Size([4, 12])\n",
            "epoch 2/2,step 250/286, inputs torch.Size([4, 12])\n",
            "epoch 2/2,step 255/286, inputs torch.Size([4, 12])\n",
            "epoch 2/2,step 260/286, inputs torch.Size([4, 12])\n",
            "epoch 2/2,step 265/286, inputs torch.Size([4, 12])\n",
            "epoch 2/2,step 270/286, inputs torch.Size([4, 12])\n",
            "epoch 2/2,step 275/286, inputs torch.Size([4, 12])\n",
            "epoch 2/2,step 280/286, inputs torch.Size([4, 12])\n",
            "epoch 2/2,step 285/286, inputs torch.Size([4, 12])\n"
          ]
        }
      ]
    },
    {
      "cell_type": "code",
      "source": [],
      "metadata": {
        "id": "nZRdiYWlXNqT"
      },
      "execution_count": 53,
      "outputs": []
    },
    {
      "cell_type": "markdown",
      "source": [
        "# Softmax and Cross - Entropy"
      ],
      "metadata": {
        "id": "D37kLxNtYNgU"
      }
    },
    {
      "cell_type": "code",
      "source": [
        "import torch\n",
        "import torch.nn as nn\n",
        "import numpy as np\n",
        "\n",
        "def softmax(x):\n",
        "  return np.exp(x)/np.sum(np.exp(x),axis=0)\n",
        "\n",
        "x=np.array([2.0,1.0,0.1])\n",
        "outputs=softmax(x)\n",
        "print('softmax numpy:',outputs)\n",
        "\n",
        "x=torch.tensor([2.0,1.0,0.1])\n",
        "outputs=torch.softmax(x,dim=0)\n",
        "print('softmax torch:',outputs)\n",
        "\n",
        "\n",
        "def cross_etropy(actual,predicted):\n",
        "  loss=-np.sum(actual*np.log(predicted))\n",
        "  return loss\n",
        "#y must be one hot encoded\n",
        "#if class 0: [1,0,0]\n",
        "#if class 1: [0,1,0]\n",
        "#if class 2: [0,0,1]\n",
        "#3 classes\n",
        "Y=np.array([1,0,0])\n",
        "\n",
        "#y_pred has probabilities\n",
        "Y_pred_good=np.array([0.7,0.2,0.1])\n",
        "Y_pred_bad=np.array([0.1,0.3,0.6])\n",
        "l1=cross_etropy(Y,Y_pred_good)\n",
        "l2=cross_etropy(Y,Y_pred_bad)\n",
        "print(f'Loss1 numpy: {l1:.4f}')\n",
        "print(f'Loss2 numpy: {l2:.4f}')\n",
        "\n",
        "#torch\n",
        "loss=nn.CrossEntropyLoss()\n",
        "#nn.crossentropy loss applies : nn.LogSoftmax + nn.NLLLoss(Negative Log Likelihood Loss)\n",
        "#No Softmax in last layer\n",
        "#Y has class labels, not One Hot!\n",
        "#Y Pred has raw scores(logits),no Softmax!\n",
        "#\n",
        "Y=torch.tensor([0])\n",
        "#size=n_samples*n_classes=1*3\n",
        "Y_pred_good=torch.tensor([[2.0,1.0,0.1]])\n",
        "Y_pred_bad=torch.tensor([[0.5,2.0,0.3]])\n",
        "\n",
        "l1 = loss(Y_pred_good,Y)\n",
        "l2 = loss(Y_pred_bad,Y)\n",
        "print(l1.item())\n",
        "print(l2.item())\n",
        "\n",
        "_,predictions1=torch.max(Y_pred_good,1)\n",
        "_,predicitions2=torch.max(Y_pred_bad,1)\n",
        "print(predictions1)\n",
        "print(predicitions2)\n",
        "\n",
        "#3 samples\n",
        "Y=torch.tensor([2,0,1])\n",
        "#size=n_samples*n_classes=1*3\n",
        "Y_pred_good=torch.tensor([[0.1,1.0,2.1],[2.0,1.0,0.1],[0.1,3.0,0.1]])\n",
        "Y_pred_bad=torch.tensor([[2.1,1.0,0.1],[0.1,1.0,2.1],[0.1,3.0,0.1]])\n",
        "\n",
        "l1 = loss(Y_pred_good,Y)\n",
        "l2 = loss(Y_pred_bad,Y)\n",
        "print(l1.item())\n",
        "print(l2.item())\n",
        "\n",
        "_,predictions1=torch.max(Y_pred_good,1)\n",
        "_,predicitions2=torch.max(Y_pred_bad,1)\n",
        "print(predictions1)\n",
        "print(predicitions2)\n"
      ],
      "metadata": {
        "id": "J2x6-flCHq6e",
        "colab": {
          "base_uri": "https://localhost:8080/"
        },
        "outputId": "576e2797-36a5-4192-967d-b716f0c0c3ef"
      },
      "execution_count": 57,
      "outputs": [
        {
          "output_type": "stream",
          "name": "stdout",
          "text": [
            "softmax numpy: [0.65900114 0.24243297 0.09856589]\n",
            "softmax torch: tensor([0.6590, 0.2424, 0.0986])\n",
            "Loss1 numpy: 0.3567\n",
            "Loss2 numpy: 2.3026\n",
            "0.4170299470424652\n",
            "1.840616226196289\n",
            "tensor([0])\n",
            "tensor([1])\n",
            "0.3018244206905365\n",
            "1.6241613626480103\n",
            "tensor([2, 0, 1])\n",
            "tensor([0, 2, 1])\n"
          ]
        }
      ]
    },
    {
      "cell_type": "code",
      "source": [
        "import torch\n",
        "import torch.nn as nn\n",
        "\n",
        "#Multiclass problem\n",
        "class NeuralNet2(nn.Module):\n",
        "  def __init__(self,input_size,hidden_size,num_classes):\n",
        "    super(NeuralNet2,self).__init__()\n",
        "    self.linear1=nn.Linear(input_size,hidden_size)\n",
        "    self.relu=nn.ReLU()\n",
        "    self.linear2=nn.Linear(hidden_size,num_classes)\n",
        "\n",
        "  def forward(self,x):\n",
        "    out=self.linear1(x)\n",
        "    out=self.relu(out)\n",
        "    out=self.linear2(out)\n",
        "    #no softmax at the end\n",
        "    return out\n",
        "\n",
        "model=NeuralNet2(input_size=28*28,hidden_size=5,num_classes=3)\n",
        "criterion=nn.CrossEntropyLoss() #applies Softmax\n"
      ],
      "metadata": {
        "id": "JJiEAbeoq1Q7"
      },
      "execution_count": 58,
      "outputs": []
    },
    {
      "cell_type": "code",
      "source": [
        "import torch\n",
        "import torch.nn as nn\n",
        "\n",
        "#Multiclass problem\n",
        "class NeuralNet2(nn.Module):\n",
        "  def __init__(self,input_size,hidden_size,num_classes):\n",
        "    super(NeuralNet2,self).__init__()\n",
        "    self.linear1=nn.Linear(input_size,hidden_size)\n",
        "    self.relu=nn.ReLU()\n",
        "    self.linear2=nn.Linear(hidden_size,1)\n",
        "\n",
        "  def forward(self,x):\n",
        "    out=self.linear1(x)\n",
        "    out=self.relu(out)\n",
        "    out=self.linear2(out)\n",
        "    #no softmax at the end\n",
        "    y_pred=torch.sigmoid(out)\n",
        "    return y_pred\n",
        "\n",
        "model=NeuralNet2(input_size=28*28,hidden_size=5,num_classes=2)\n",
        "criterion=nn.BCELoss() #applies Softmax\n"
      ],
      "metadata": {
        "id": "QH0x935frjx3"
      },
      "execution_count": 59,
      "outputs": []
    },
    {
      "cell_type": "markdown",
      "source": [
        "# Activation Fuctions"
      ],
      "metadata": {
        "id": "VyA1SKv2rzVT"
      }
    },
    {
      "cell_type": "markdown",
      "source": [
        "step is very simple and not used in practise\n",
        "sigmoid is a popular choice and outputs prob  used in last layer of binary classifications\n",
        "tanh function hyperbolic tanget function outputs value from -1 to 1\n",
        "used in hidden layers a lot\n",
        "relu is max(0,x) is most popular for hidden if you don't know which activation to use in hidden layer just use relu\n",
        "leaky relu is also used to solve the vanishing gradient problem in hidden layers\n",
        "since in relu if x is less than 0 the value obtained is 0 which leads to gradient becoming 0 further on leading to these weights never being updated these neurons won't learn anything and hence dead so leaky relu is to counter that.\n",
        "softmax is most populat used for multi class setting"
      ],
      "metadata": {
        "id": "oqdx6ue3s5XG"
      }
    },
    {
      "cell_type": "code",
      "source": [
        "import torch\n",
        "import torch.nn as nn\n",
        "import torch.nn.functional as F\n",
        "\n",
        "#option 1 (create nn modules)\n",
        "class NeuralNet(nn.Module):\n",
        "  def __init__(self,input_size,hidden_size):\n",
        "    super(NeuralNet,self).__init__()\n",
        "    self.linear1=nn.Linear(input_size,hidden_size)\n",
        "    self.relu=nn.Relu()\n",
        "    # nn.Sigmoid\n",
        "    # nn.Softmax\n",
        "    # nn.TanH\n",
        "    # nn.LeakyRelu\n",
        "    self.linear2=nn.Linear(hidden_size,1)\n",
        "    self.sigmoid=nn.Sigmoid()\n",
        "\n",
        "  def forward(self,x):\n",
        "    out=self.linear1(x)\n",
        "    out=self.relu(out)\n",
        "    out=self.linear2(out)\n",
        "    out=self.sigmoid(out)\n",
        "    return out\n",
        "\n",
        "#option 2 use activation functions directly in forward pass\n",
        "class NeuralNet(nn.Module):\n",
        "  def __init__(self,input_size,hidden_size):\n",
        "    super(NeuralNet,self).__init__()\n",
        "    self.linear1=nn.Linear(input_size,hidden_size)\n",
        "    self.linear2=nn.Linear(hidden_size,1)\n",
        "\n",
        "\n",
        "  def forward(self,x):\n",
        "    out=torch.relu(self.linear1(x))\n",
        "    out=torch.sigmoid(self.lineaer2(out))\n",
        "    # torch.softmax\n",
        "    # torch.tanh\n",
        "    #leaky relu in torch.functional module as F.leaky_relu()\n",
        "    return out\n"
      ],
      "metadata": {
        "id": "rb87oBEaXm2n"
      },
      "execution_count": 60,
      "outputs": []
    },
    {
      "cell_type": "markdown",
      "source": [
        "# Fully Feed Forward Neural Network"
      ],
      "metadata": {
        "id": "SC2ClcBrvpr-"
      }
    },
    {
      "cell_type": "code",
      "source": [
        "#MNIST\n",
        "#DataLoader,Transforomation\n",
        "#Multilayer,Neural Net,activation function\n",
        "#Loss and Optimizer\n",
        "#Training Loop(batch training)\n",
        "#Model evaluation\n",
        "#GPU Support\n",
        "\n",
        "\n",
        "import torch\n",
        "import torch.nn as nn\n",
        "import torchvision\n",
        "import torchvision.transforms as transforms\n",
        "import matplotlib.pyplot as plt\n",
        "\n",
        "#device config\n",
        "device=torch.device('cuda' if torch.cuda.is_available() else 'cpu')\n",
        "\n",
        "#hyper parameters\n",
        "input_size=784 # 28x28\n",
        "hidden_size=100\n",
        "num_classes=10\n",
        "num_epochs=2\n",
        "batch_size=100\n",
        "learning_rate=0.001\n",
        "\n",
        "#MNIST\n",
        "train_dataset=torchvision.datasets.MNIST(root='./data',train=True,\n",
        "        transform=transforms.ToTensor(),download=True)\n",
        "\n",
        "test_dataset=torchvision.datasets.MNIST(root='./data',train=False,\n",
        "        transform=transforms.ToTensor())\n",
        "\n",
        "train_loader=torch.utils.data.DataLoader(dataset=train_dataset,batch_size=batch_size,\n",
        "                              shuffle=True)\n",
        "\n",
        "test_loader=torch.utils.data.DataLoader(dataset=test_dataset,batch_size=batch_size,\n",
        "                              shuffle=False)\n",
        "\n",
        "examples=iter(train_loader)\n",
        "samples,labels=next(examples)\n",
        "print(samples.shape,labels.shape)\n",
        "\n",
        "for i in range(6):\n",
        "  plt.subplot(2,3,i+1)\n",
        "  plt.imshow(samples[i][0],cmap='gray')\n",
        "\n"
      ],
      "metadata": {
        "colab": {
          "base_uri": "https://localhost:8080/",
          "height": 428
        },
        "id": "HCgZUtszvo3G",
        "outputId": "d428699b-8209-4e6e-f04a-0c83cf22f8ad"
      },
      "execution_count": 1,
      "outputs": [
        {
          "output_type": "stream",
          "name": "stdout",
          "text": [
            "torch.Size([100, 1, 28, 28]) torch.Size([100])\n"
          ]
        },
        {
          "output_type": "display_data",
          "data": {
            "text/plain": [
              "<Figure size 640x480 with 6 Axes>"
            ],
            "image/png": "[encoded data removed]"
          },
          "metadata": {}
        }
      ]
    },
    {
      "cell_type": "code",
      "source": [
        "class NeuralNet(nn.Module):\n",
        "  def __init__(self,input_size,hidden_size,num_classes):\n",
        "    super(NeuralNet,self).__init__()\n",
        "    self.l1=nn.Linear(input_size,hidden_size)\n",
        "    self.relu=nn.ReLU()\n",
        "    self.l2=nn.Linear(hidden_size,num_classes)\n",
        "\n",
        "  def forward(self,x):\n",
        "    out=self.l1(x)\n",
        "    out=self.relu(out)\n",
        "    out=self.l2(out)\n",
        "\n",
        "    return out\n",
        "\n",
        "device = torch.device('cuda' if torch.cuda.is_available() else 'cpu')\n",
        "model = NeuralNet(input_size, hidden_size, num_classes).to(device)\n",
        "\n",
        "\n",
        "\n",
        "#loss and optimizer\n",
        "criterion=nn.CrossEntropyLoss()\n",
        "optimizer=torch.optim.Adam(model.parameters(),lr=learning_rate)\n",
        "\n",
        "#training loop\n",
        "n_total_steps=len(train_loader)\n",
        "for epoch in range(num_epochs):\n",
        "  for i,(images,labels) in enumerate(train_loader):\n",
        "    #100, 1, 28 ,28\n",
        "    #100, 784\n",
        "    images= images.reshape(-1,28*28).to(device)\n",
        "    labels=labels.to(device)\n",
        "\n",
        "    #forward\n",
        "    outputs=model(images)\n",
        "    loss=criterion(outputs,labels)\n",
        "\n",
        "    #backwards\n",
        "    optimizer.zero_grad()\n",
        "    loss.backward()\n",
        "    optimizer.step()\n",
        "\n",
        "\n",
        "    if(i+1)% 100 ==0:\n",
        "      print(f'epoch {epoch+1}/{num_epochs},step {i+1}/{n_total_steps},loss={loss.item():.4f}')\n",
        "\n",
        "#test\n",
        "with torch.no_grad():\n",
        "  n_correct=0\n",
        "  n_samples=0\n",
        "  for images,labels in test_loader:\n",
        "    images=images.reshape(-1,28*28).to(device)\n",
        "    labels=labels.to(device)\n",
        "    outputs=model(images)\n",
        "\n",
        "    _,predictions=torch.max(outputs,1)\n",
        "    n_samples+=labels.shape[0]\n",
        "    n_correct+=(predictions==labels).sum().item()\n",
        "\n",
        "  acc=100.0*n_correct/n_samples\n",
        "  print(f'accuracy={acc}')\n",
        "\n",
        "\n"
      ],
      "metadata": {
        "colab": {
          "base_uri": "https://localhost:8080/"
        },
        "id": "jwjESjFcwRR2",
        "outputId": "d23bd4ff-6dc3-4772-d785-48a67dd01a5d"
      },
      "execution_count": 12,
      "outputs": [
        {
          "output_type": "stream",
          "name": "stdout",
          "text": [
            "epoch 1/2,step 100/600,loss=0.5696\n",
            "epoch 1/2,step 200/600,loss=0.5328\n",
            "epoch 1/2,step 300/600,loss=0.3206\n",
            "epoch 1/2,step 400/600,loss=0.2718\n",
            "epoch 1/2,step 500/600,loss=0.2011\n",
            "epoch 1/2,step 600/600,loss=0.2754\n",
            "epoch 2/2,step 100/600,loss=0.1857\n",
            "epoch 2/2,step 200/600,loss=0.2318\n",
            "epoch 2/2,step 300/600,loss=0.2564\n",
            "epoch 2/2,step 400/600,loss=0.0818\n",
            "epoch 2/2,step 500/600,loss=0.2274\n",
            "epoch 2/2,step 600/600,loss=0.1473\n",
            "accuracy=95.22\n"
          ]
        }
      ]
    },
    {
      "cell_type": "code",
      "source": [],
      "metadata": {
        "id": "s4G5jsVAv8mQ"
      },
      "execution_count": 11,
      "outputs": []
    },
    {
      "cell_type": "code",
      "source": [],
      "metadata": {
        "id": "VqY7TWQZ1gHf"
      },
      "execution_count": null,
      "outputs": []
    }
  ]
}