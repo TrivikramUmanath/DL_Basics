{
  "nbformat": 4,
  "nbformat_minor": 0,
  "metadata": {
    "colab": {
      "provenance": [],
      "gpuType": "T4"
    },
    "kernelspec": {
      "name": "python3",
      "display_name": "Python 3"
    },
    "language_info": {
      "name": "python"
    },
    "accelerator": "GPU"
  },
  "cells": [
    {
      "cell_type": "markdown",
      "source": [
        "#First tut"
      ],
      "metadata": {
        "id": "JBW0PfZInM1H"
      }
    },
    {
      "cell_type": "code",
      "source": [
        "import torch"
      ],
      "metadata": {
        "id": "vluEH8VO1UEd"
      },
      "execution_count": 2,
      "outputs": []
    },
    {
      "cell_type": "code",
      "source": [
        "x=torch.empty(2,3)\n",
        "x"
      ],
      "metadata": {
        "colab": {
          "base_uri": "https://localhost:8080/"
        },
        "id": "f60XUL7N1eL-",
        "outputId": "e26f7fd5-3a14-48e0-face-0f1269be6adc"
      },
      "execution_count": 3,
      "outputs": [
        {
          "output_type": "execute_result",
          "data": {
            "text/plain": [
              "tensor([[-3.0595e-17,  4.4736e-41, -3.0596e-17],\n",
              "        [ 4.4736e-41, -3.0684e-17,  4.4736e-41]])"
            ]
          },
          "metadata": {},
          "execution_count": 3
        }
      ]
    },
    {
      "cell_type": "code",
      "source": [
        "x=torch.rand(2,2)\n",
        "print(x)"
      ],
      "metadata": {
        "colab": {
          "base_uri": "https://localhost:8080/"
        },
        "id": "4UbJH64W4ohF",
        "outputId": "84a5be2a-283e-4555-bada-516a87dcd42e"
      },
      "execution_count": 4,
      "outputs": [
        {
          "output_type": "stream",
          "name": "stdout",
          "text": [
            "tensor([[0.5994, 0.0820],\n",
            "        [0.2763, 0.3542]])\n"
          ]
        }
      ]
    },
    {
      "cell_type": "code",
      "source": [
        "x=torch.zeros(2,2)\n",
        "print(x)"
      ],
      "metadata": {
        "colab": {
          "base_uri": "https://localhost:8080/"
        },
        "id": "wW1DrB7B4o9_",
        "outputId": "bb1082f4-ff47-4780-d233-55964fb1adac"
      },
      "execution_count": 5,
      "outputs": [
        {
          "output_type": "stream",
          "name": "stdout",
          "text": [
            "tensor([[0., 0.],\n",
            "        [0., 0.]])\n"
          ]
        }
      ]
    },
    {
      "cell_type": "code",
      "source": [
        "x=torch.ones(2,2)\n",
        "print(x)"
      ],
      "metadata": {
        "colab": {
          "base_uri": "https://localhost:8080/"
        },
        "id": "E7aRD8nDhsTS",
        "outputId": "3e3c0101-4656-4201-d783-fa9af7fa8326"
      },
      "execution_count": 6,
      "outputs": [
        {
          "output_type": "stream",
          "name": "stdout",
          "text": [
            "tensor([[1., 1.],\n",
            "        [1., 1.]])\n"
          ]
        }
      ]
    },
    {
      "cell_type": "code",
      "source": [
        "x=torch.ones(2,2,dtype=torch.float16)\n",
        "print(x.size())"
      ],
      "metadata": {
        "colab": {
          "base_uri": "https://localhost:8080/"
        },
        "id": "58WBu8Oyhta5",
        "outputId": "337a6bc5-43a2-4842-ccff-3b978ac763a7"
      },
      "execution_count": 7,
      "outputs": [
        {
          "output_type": "stream",
          "name": "stdout",
          "text": [
            "torch.Size([2, 2])\n"
          ]
        }
      ]
    },
    {
      "cell_type": "code",
      "source": [
        "x=torch.tensor([2.5,0.1])\n",
        "print(x)"
      ],
      "metadata": {
        "colab": {
          "base_uri": "https://localhost:8080/"
        },
        "id": "G1axu6Z9hzYd",
        "outputId": "5e666623-1983-4547-e207-3d1cf726646b"
      },
      "execution_count": 8,
      "outputs": [
        {
          "output_type": "stream",
          "name": "stdout",
          "text": [
            "tensor([2.5000, 0.1000])\n"
          ]
        }
      ]
    },
    {
      "cell_type": "code",
      "source": [
        "x=torch.rand(2,2)\n",
        "y=torch.rand(2,2)\n",
        "print(x)\n",
        "print(y)\n",
        "z=x*y\n",
        "z=torch.add(x,y)\n",
        "print(z)"
      ],
      "metadata": {
        "colab": {
          "base_uri": "https://localhost:8080/"
        },
        "id": "e7iyknJah44Y",
        "outputId": "a6e0eab1-6e24-456c-f742-07820e4949e2"
      },
      "execution_count": 9,
      "outputs": [
        {
          "output_type": "stream",
          "name": "stdout",
          "text": [
            "tensor([[0.4064, 0.3744],\n",
            "        [0.0338, 0.4242]])\n",
            "tensor([[0.9030, 0.7314],\n",
            "        [0.2148, 0.5032]])\n",
            "tensor([[1.3094, 1.1057],\n",
            "        [0.2486, 0.9274]])\n"
          ]
        }
      ]
    },
    {
      "cell_type": "code",
      "source": [
        "y.add_(x)\n",
        "print(y)#inplace"
      ],
      "metadata": {
        "colab": {
          "base_uri": "https://localhost:8080/"
        },
        "id": "GRqPzfFtiBhN",
        "outputId": "435391bf-a3bb-4a42-fada-1365efcaa8df"
      },
      "execution_count": 10,
      "outputs": [
        {
          "output_type": "stream",
          "name": "stdout",
          "text": [
            "tensor([[1.3094, 1.1057],\n",
            "        [0.2486, 0.9274]])\n"
          ]
        }
      ]
    },
    {
      "cell_type": "code",
      "source": [
        "z=x-y\n",
        "z=torch.sub(x,y)\n",
        "print(z)"
      ],
      "metadata": {
        "colab": {
          "base_uri": "https://localhost:8080/"
        },
        "id": "YazbUU9tiIW4",
        "outputId": "947b2957-6b43-4cc6-eb80-dcb737af15e2"
      },
      "execution_count": 11,
      "outputs": [
        {
          "output_type": "stream",
          "name": "stdout",
          "text": [
            "tensor([[-0.9030, -0.7314],\n",
            "        [-0.2148, -0.5032]])\n"
          ]
        }
      ]
    },
    {
      "cell_type": "code",
      "source": [
        "z=x-y\n",
        "z=torch.mul(x,y)#elementwise multiplication\n",
        "print(z)"
      ],
      "metadata": {
        "colab": {
          "base_uri": "https://localhost:8080/"
        },
        "id": "MusyYyJ7iSBg",
        "outputId": "de2d2ccd-34d2-4f78-c6bb-d53b4efd2937"
      },
      "execution_count": 12,
      "outputs": [
        {
          "output_type": "stream",
          "name": "stdout",
          "text": [
            "tensor([[0.5322, 0.4140],\n",
            "        [0.0084, 0.3934]])\n"
          ]
        }
      ]
    },
    {
      "cell_type": "code",
      "source": [
        "z=torch.div(x,y)#elementwise\n",
        "print(z)"
      ],
      "metadata": {
        "colab": {
          "base_uri": "https://localhost:8080/"
        },
        "id": "jUI-6dwkidl9",
        "outputId": "96a230eb-6f08-48c0-9199-117441d8dc66"
      },
      "execution_count": 14,
      "outputs": [
        {
          "output_type": "stream",
          "name": "stdout",
          "text": [
            "tensor([[0.3104, 0.3386],\n",
            "        [0.1359, 0.4574]])\n"
          ]
        }
      ]
    },
    {
      "cell_type": "code",
      "source": [
        "x=torch.rand(5,3)\n",
        "print(x)\n",
        "print(x[:,0])\n",
        "print(x[1,1])\n",
        "print(x[1,1].item())"
      ],
      "metadata": {
        "colab": {
          "base_uri": "https://localhost:8080/"
        },
        "id": "_zkrDsH2igJF",
        "outputId": "0075c816-2073-4cae-cb95-ba9f9556b1ac"
      },
      "execution_count": 20,
      "outputs": [
        {
          "output_type": "stream",
          "name": "stdout",
          "text": [
            "tensor([[0.8937, 0.8367, 0.5882],\n",
            "        [0.1751, 0.4855, 0.2875],\n",
            "        [0.5273, 0.1506, 0.6809],\n",
            "        [0.6013, 0.7376, 0.5326],\n",
            "        [0.6135, 0.0779, 0.3270]])\n",
            "tensor([0.8937, 0.1751, 0.5273, 0.6013, 0.6135])\n",
            "tensor(0.4855)\n",
            "0.48547083139419556\n"
          ]
        }
      ]
    },
    {
      "cell_type": "code",
      "source": [
        "x=torch.rand(4,4)\n",
        "print(x)\n",
        "y=x.view(16)\n",
        "print(y)\n",
        "y=x.view(-1,8)#-1 automatic\n",
        "print(y)"
      ],
      "metadata": {
        "colab": {
          "base_uri": "https://localhost:8080/"
        },
        "id": "NrfhpEmWi5mn",
        "outputId": "88915751-a56c-40e8-e793-21602837a908"
      },
      "execution_count": 22,
      "outputs": [
        {
          "output_type": "stream",
          "name": "stdout",
          "text": [
            "tensor([[0.0116, 0.2980, 0.4711, 0.3724],\n",
            "        [0.7760, 0.7229, 0.7473, 0.7523],\n",
            "        [0.4717, 0.1165, 0.1535, 0.8783],\n",
            "        [0.0966, 0.1323, 0.8184, 0.9492]])\n",
            "tensor([0.0116, 0.2980, 0.4711, 0.3724, 0.7760, 0.7229, 0.7473, 0.7523, 0.4717,\n",
            "        0.1165, 0.1535, 0.8783, 0.0966, 0.1323, 0.8184, 0.9492])\n",
            "tensor([[0.0116, 0.2980, 0.4711, 0.3724, 0.7760, 0.7229, 0.7473, 0.7523],\n",
            "        [0.4717, 0.1165, 0.1535, 0.8783, 0.0966, 0.1323, 0.8184, 0.9492]])\n"
          ]
        }
      ]
    },
    {
      "cell_type": "code",
      "source": [
        "import torch\n",
        "import numpy as np\n"
      ],
      "metadata": {
        "id": "pl21MXd5jO0Z"
      },
      "execution_count": 23,
      "outputs": []
    },
    {
      "cell_type": "code",
      "source": [
        "a=torch.ones(5)\n",
        "print(a)\n",
        "b=a.numpy()\n",
        "print(b)"
      ],
      "metadata": {
        "colab": {
          "base_uri": "https://localhost:8080/"
        },
        "id": "h01CRtYVjaZK",
        "outputId": "df99e852-beba-4173-9a48-8f7c0f02dbbd"
      },
      "execution_count": 25,
      "outputs": [
        {
          "output_type": "stream",
          "name": "stdout",
          "text": [
            "tensor([1., 1., 1., 1., 1.])\n",
            "[1. 1. 1. 1. 1.]\n"
          ]
        }
      ]
    },
    {
      "cell_type": "code",
      "source": [
        "a.add_(1)\n",
        "print(a)\n",
        "print(b)"
      ],
      "metadata": {
        "colab": {
          "base_uri": "https://localhost:8080/"
        },
        "id": "ZL3mP9gdjf_M",
        "outputId": "614b54b7-c7d1-47bb-ff8e-7700e9966ec6"
      },
      "execution_count": 26,
      "outputs": [
        {
          "output_type": "stream",
          "name": "stdout",
          "text": [
            "tensor([2., 2., 2., 2., 2.])\n",
            "[2. 2. 2. 2. 2.]\n"
          ]
        }
      ]
    },
    {
      "cell_type": "code",
      "source": [
        "a=np.ones(5)\n",
        "print(a)\n",
        "b=torch.from_numpy(a)\n",
        "print(b)"
      ],
      "metadata": {
        "colab": {
          "base_uri": "https://localhost:8080/"
        },
        "id": "hTMrxRLUjnnw",
        "outputId": "76e2e181-45c8-47db-bec9-f418d822d820"
      },
      "execution_count": 31,
      "outputs": [
        {
          "output_type": "stream",
          "name": "stdout",
          "text": [
            "[1. 1. 1. 1. 1.]\n",
            "tensor([1., 1., 1., 1., 1.], dtype=torch.float64)\n"
          ]
        }
      ]
    },
    {
      "cell_type": "code",
      "source": [
        "a+=1\n",
        "print(a)\n",
        "print(b)"
      ],
      "metadata": {
        "colab": {
          "base_uri": "https://localhost:8080/"
        },
        "id": "b6c8XR_Mjv3b",
        "outputId": "cec93884-1900-48d3-8ea4-e699ddd091c9"
      },
      "execution_count": 32,
      "outputs": [
        {
          "output_type": "stream",
          "name": "stdout",
          "text": [
            "[2. 2. 2. 2. 2.]\n",
            "tensor([2., 2., 2., 2., 2.], dtype=torch.float64)\n"
          ]
        }
      ]
    },
    {
      "cell_type": "code",
      "source": [
        "if torch.cuda.is_available():\n",
        "  device=torch.device(\"cuda\")\n",
        "  x=torch.ones(5,device=device)\n",
        "  y=torch.ones(5)\n",
        "  y=y.to(device)\n",
        "  z=x+y\n",
        "  # print(z)\n",
        "  z=z.to(\"cpu\")\n",
        "  print(z)"
      ],
      "metadata": {
        "colab": {
          "base_uri": "https://localhost:8080/"
        },
        "id": "YqEMgoZXj4oa",
        "outputId": "7145078e-4eec-4f3b-dd2c-5b415665164d"
      },
      "execution_count": 3,
      "outputs": [
        {
          "output_type": "stream",
          "name": "stdout",
          "text": [
            "tensor([2., 2., 2., 2., 2.])\n"
          ]
        }
      ]
    },
    {
      "cell_type": "code",
      "source": [
        "torch.cuda.is_available()"
      ],
      "metadata": {
        "colab": {
          "base_uri": "https://localhost:8080/"
        },
        "id": "l7VFJLg9kFpl",
        "outputId": "d633b493-76e2-4b61-f1e6-4b466d9ea571"
      },
      "execution_count": 37,
      "outputs": [
        {
          "output_type": "execute_result",
          "data": {
            "text/plain": [
              "False"
            ]
          },
          "metadata": {},
          "execution_count": 37
        }
      ]
    },
    {
      "cell_type": "code",
      "source": [
        "x=torch.ones(5,requires_grad=True)\n",
        "print(x)"
      ],
      "metadata": {
        "colab": {
          "base_uri": "https://localhost:8080/"
        },
        "id": "TgCzW5BekYyE",
        "outputId": "1c553663-19c6-4206-f05f-819d0c62efa5"
      },
      "execution_count": 38,
      "outputs": [
        {
          "output_type": "stream",
          "name": "stdout",
          "text": [
            "tensor([1., 1., 1., 1., 1.], requires_grad=True)\n"
          ]
        }
      ]
    },
    {
      "cell_type": "markdown",
      "source": [
        "# Second Tut"
      ],
      "metadata": {
        "id": "tby6AhBBnRCm"
      }
    },
    {
      "cell_type": "code",
      "source": [
        "import torch\n",
        "x=torch.randn(3,requires_grad=True)\n",
        "print(x)\n"
      ],
      "metadata": {
        "colab": {
          "base_uri": "https://localhost:8080/"
        },
        "id": "MVLHNgBQk2t-",
        "outputId": "ef9080f8-3e98-494b-df3c-210baf92e4fb"
      },
      "execution_count": 12,
      "outputs": [
        {
          "output_type": "stream",
          "name": "stdout",
          "text": [
            "tensor([-0.1933,  0.2070,  0.2451], requires_grad=True)\n"
          ]
        }
      ]
    },
    {
      "cell_type": "code",
      "source": [
        "y=x+2\n",
        "print(y)\n",
        "z=y*y*2\n",
        "print(z)\n",
        "z=z.mean()\n",
        "print(z)\n",
        "z.backward() #dz/dx\n",
        "print(x.grad)"
      ],
      "metadata": {
        "colab": {
          "base_uri": "https://localhost:8080/"
        },
        "id": "wtG2Gp_8na1q",
        "outputId": "cb61dc2c-c9ca-4719-a3e4-1e1ea011af0c"
      },
      "execution_count": 19,
      "outputs": [
        {
          "output_type": "stream",
          "name": "stdout",
          "text": [
            "tensor([1.8067, 2.2070, 2.2451], grad_fn=<AddBackward0>)\n",
            "tensor([ 6.5284,  9.7418, 10.0812], grad_fn=<MulBackward0>)\n",
            "tensor(8.7838, grad_fn=<MeanBackward0>)\n",
            "tensor([ 7.9495, 17.6561,  9.0703])\n"
          ]
        }
      ]
    },
    {
      "cell_type": "code",
      "source": [
        "z=y*y*2\n",
        "v=torch.tensor([0.1,1.0,0.01],dtype=torch.float32)\n",
        "z.backward(v)\n",
        "print(x.grad)"
      ],
      "metadata": {
        "colab": {
          "base_uri": "https://localhost:8080/"
        },
        "id": "sZK5vsyQpprp",
        "outputId": "80ee0903-2d88-4b5b-ef69-0568c928e5ba"
      },
      "execution_count": 20,
      "outputs": [
        {
          "output_type": "stream",
          "name": "stdout",
          "text": [
            "tensor([ 8.6722, 26.4842,  9.1601])\n"
          ]
        }
      ]
    },
    {
      "cell_type": "code",
      "source": [
        "x.requires_grad_(False)\n",
        "print(x)"
      ],
      "metadata": {
        "colab": {
          "base_uri": "https://localhost:8080/"
        },
        "id": "0_T6-cpfngfC",
        "outputId": "30270554-6477-46d3-9c42-5f47f3ed757e"
      },
      "execution_count": 22,
      "outputs": [
        {
          "output_type": "stream",
          "name": "stdout",
          "text": [
            "tensor([-0.1933,  0.2070,  0.2451])\n"
          ]
        }
      ]
    },
    {
      "cell_type": "code",
      "source": [
        "y=x.detach()\n",
        "print(y)"
      ],
      "metadata": {
        "colab": {
          "base_uri": "https://localhost:8080/"
        },
        "id": "jhYedCo4qUX6",
        "outputId": "46d3a19e-9eaa-448a-d102-011a1379db4b"
      },
      "execution_count": 23,
      "outputs": [
        {
          "output_type": "stream",
          "name": "stdout",
          "text": [
            "tensor([-0.1933,  0.2070,  0.2451])\n"
          ]
        }
      ]
    },
    {
      "cell_type": "code",
      "source": [
        "with torch.no_grad():\n",
        "  y=x+2\n",
        "  print(y)"
      ],
      "metadata": {
        "colab": {
          "base_uri": "https://localhost:8080/"
        },
        "id": "1IExx1OlrsYb",
        "outputId": "20cbe0b1-9184-425c-fb97-8fb570271d4c"
      },
      "execution_count": 24,
      "outputs": [
        {
          "output_type": "stream",
          "name": "stdout",
          "text": [
            "tensor([1.8067, 2.2070, 2.2451])\n"
          ]
        }
      ]
    },
    {
      "cell_type": "code",
      "source": [
        "weights=torch.ones(4,requires_grad=True)\n",
        "\n",
        "for epoch in range(3):\n",
        "  model_output=(weights*3).sum()\n",
        "  model_output.backward()\n",
        "\n",
        "  print(weights.grad)\n",
        "  # weights.grad.zero_()\n"
      ],
      "metadata": {
        "colab": {
          "base_uri": "https://localhost:8080/"
        },
        "id": "Tzpt8Z5ur0Bd",
        "outputId": "9e94054d-9f78-4f6b-fa28-938833b2d579"
      },
      "execution_count": 28,
      "outputs": [
        {
          "output_type": "stream",
          "name": "stdout",
          "text": [
            "tensor([3., 3., 3., 3.])\n",
            "tensor([3., 3., 3., 3.])\n",
            "tensor([3., 3., 3., 3.])\n"
          ]
        }
      ]
    },
    {
      "cell_type": "code",
      "source": [],
      "metadata": {
        "id": "9oqmkV_4yOi_"
      },
      "execution_count": null,
      "outputs": []
    },
    {
      "cell_type": "markdown",
      "source": [
        "# Backpropagation Theory"
      ],
      "metadata": {
        "id": "grBKb8vryTPk"
      }
    },
    {
      "cell_type": "code",
      "source": [
        "import torch\n",
        "x=torch.tensor(1.0)\n",
        "y=torch.tensor(2.0)\n",
        "\n",
        "w=torch.tensor(1.0,requires_grad=True)\n",
        "\n",
        "y_hat=w*x\n",
        "loss=(y_hat-y)**2\n",
        "print(loss)\n",
        "loss.backward()\n",
        "print(w.grad)\n",
        "#backward pass above\n",
        "#update weights\n",
        "#next forward and backward pass"
      ],
      "metadata": {
        "colab": {
          "base_uri": "https://localhost:8080/"
        },
        "id": "RmowH2j8scxU",
        "outputId": "30da1101-f302-42be-f246-0c6e499711a7"
      },
      "execution_count": 36,
      "outputs": [
        {
          "output_type": "stream",
          "name": "stdout",
          "text": [
            "tensor(1., grad_fn=<PowBackward0>)\n",
            "tensor(-2.)\n"
          ]
        }
      ]
    },
    {
      "cell_type": "markdown",
      "source": [
        "#Gradientg Descent with AutoGrad and Bakckprop"
      ],
      "metadata": {
        "id": "VUVNP4ss2PWq"
      }
    },
    {
      "cell_type": "code",
      "source": [
        "import numpy as np\n",
        "\n",
        "#f=w*x\n",
        "#f=2*x\n",
        "\n",
        "X=np.array([1,2,3,4],dtype=np.float32)\n",
        "Y=np.array([2,4,6,8],dtype=np.float32)\n",
        "\n",
        "w=0.0\n",
        "\n",
        "#model prediction\n",
        "def forward(x):\n",
        "  return w * x\n",
        "\n",
        "# loss - MSE\n",
        "\n",
        "def loss(y,y_predicted):\n",
        "  return ((y_predicted-y)**2).mean()\n",
        "\n",
        "# gradient\n",
        "#MSE =1/N *(w*x-y)**2\n",
        "#dj/dx=1/N 2x(w*x-y)\n",
        "\n",
        "def gradient(x,y,y_predicted):\n",
        "  return np.dot(2*x,y_predicted-y).mean()\n",
        "\n",
        "\n",
        "print(\"Predictions before training:\" +str(forward(5)))\n",
        "\n",
        "#Training\n",
        "learning_rate=0.01\n",
        "n_iters=10\n",
        "\n",
        "for epoch in range(n_iters):\n",
        "  #predictions=forward pass\n",
        "  y_pred=forward(X)\n",
        "\n",
        "  #loss\n",
        "  l=loss(Y,y_pred)\n",
        "\n",
        "  #gradients\n",
        "  dw=gradient(X,Y,y_pred)\n",
        "\n",
        "  #update weights\n",
        "  w-=learning_rate*dw\n",
        "  if epoch%2 ==0:\n",
        "    print(f'epoch {epoch+1}: w={w:.3f}, loss={l:.8f}')\n",
        "\n",
        "print(\"Predictions after training:\" +str(forward(5)))\n"
      ],
      "metadata": {
        "colab": {
          "base_uri": "https://localhost:8080/"
        },
        "id": "AkbXdwlQ30bR",
        "outputId": "300dbe11-84dd-4e86-e422-75648d8e000a"
      },
      "execution_count": 45,
      "outputs": [
        {
          "output_type": "stream",
          "name": "stdout",
          "text": [
            "Predictions before training:0.0\n",
            "epoch 1: w=1.200, loss=30.00000000\n",
            "epoch 3: w=1.872, loss=0.76800019\n",
            "epoch 5: w=1.980, loss=0.01966083\n",
            "epoch 7: w=1.997, loss=0.00050332\n",
            "epoch 9: w=1.999, loss=0.00001288\n",
            "Predictions after training:9.998952\n"
          ]
        }
      ]
    },
    {
      "cell_type": "code",
      "source": [
        "import torch\n",
        "#f=w*x\n",
        "#f=2*x\n",
        "\n",
        "X=torch.tensor([1,2,3,4],dtype=torch.float32)\n",
        "Y=torch.tensor([2,4,6,8],dtype=torch.float32)\n",
        "\n",
        "w=torch.tensor(0.0,dtype=torch.float32,requires_grad=True)\n",
        "\n",
        "#model prediction\n",
        "def forward(x):\n",
        "  return w * x\n",
        "\n",
        "# loss - MSE\n",
        "\n",
        "def loss(y,y_predicted):\n",
        "  return ((y_predicted-y)**2).mean()\n",
        "\n",
        "# gradient\n",
        "#MSE =1/N *(w*x-y)**2\n",
        "#dj/dx=1/N 2x(w*x-y)\n",
        "\n",
        "def gradient(x,y,y_predicted):\n",
        "  return np.dot(2*x,y_predicted-y).mean()\n",
        "\n",
        "\n",
        "print(\"Predictions before training:\" +str(forward(5)))\n",
        "\n",
        "#Training\n",
        "learning_rate=0.01\n",
        "n_iters=100\n",
        "\n",
        "for epoch in range(n_iters):\n",
        "  #predictions=forward pass\n",
        "  y_pred=forward(X)\n",
        "\n",
        "  #loss\n",
        "  l=loss(Y,y_pred)\n",
        "\n",
        "  #gradients\n",
        "  l.backward()\n",
        "\n",
        "  #update weights\n",
        "  with torch.no_grad():\n",
        "    w-=learning_rate*w.grad\n",
        "  w.grad.zero_()\n",
        "  if epoch%10 ==0:\n",
        "    print(f'epoch {epoch+1}: w={w:.3f}, loss={l:.8f}')\n",
        "\n",
        "print(\"Predictions after training:\" +str(forward(5)))\n"
      ],
      "metadata": {
        "colab": {
          "base_uri": "https://localhost:8080/"
        },
        "id": "eqNxSMHW5UVu",
        "outputId": "455c0dcf-4224-463b-e049-c76f899b0b9e"
      },
      "execution_count": 50,
      "outputs": [
        {
          "output_type": "stream",
          "name": "stdout",
          "text": [
            "Predictions before training:tensor(0., grad_fn=<MulBackward0>)\n",
            "epoch 1: w=0.300, loss=30.00000000\n",
            "epoch 11: w=1.665, loss=1.16278565\n",
            "epoch 21: w=1.934, loss=0.04506890\n",
            "epoch 31: w=1.987, loss=0.00174685\n",
            "epoch 41: w=1.997, loss=0.00006770\n",
            "epoch 51: w=1.999, loss=0.00000262\n",
            "epoch 61: w=2.000, loss=0.00000010\n",
            "epoch 71: w=2.000, loss=0.00000000\n",
            "epoch 81: w=2.000, loss=0.00000000\n",
            "epoch 91: w=2.000, loss=0.00000000\n",
            "Predictions after training:tensor(10.0000, grad_fn=<MulBackward0>)\n"
          ]
        }
      ]
    },
    {
      "cell_type": "markdown",
      "source": [
        "#Pytorch Loss and Optimizer"
      ],
      "metadata": {
        "id": "tDyj1TFX6g_f"
      }
    },
    {
      "cell_type": "code",
      "source": [
        "#1 Design model,input and output size ,forward pass\n",
        "#2 Construct loss and optimizer\n",
        "#3 Training oss\n",
        "# - forwards pass: compute Prediction\n",
        "# - backward pass: gradients\n",
        "# - update weights\n",
        "\n",
        "\n",
        "import torch\n",
        "import torch.nn as nn\n",
        "#f=w*x\n",
        "#f=2*x\n",
        "\n",
        "X=torch.tensor([1,2,3,4],dtype=torch.float32)\n",
        "Y=torch.tensor([2,4,6,8],dtype=torch.float32)\n",
        "\n",
        "w=torch.tensor(0.0,dtype=torch.float32,requires_grad=True)\n",
        "\n",
        "#model prediction\n",
        "def forward(x):\n",
        "  return w * x\n",
        "\n",
        "# loss - MSE\n",
        "\n",
        "\n",
        "\n",
        "# gradient\n",
        "#MSE =1/N *(w*x-y)**2\n",
        "#dj/dx=1/N 2x(w*x-y)\n",
        "\n",
        "def gradient(x,y,y_predicted):\n",
        "  return np.dot(2*x,y_predicted-y).mean()\n",
        "\n",
        "\n",
        "print(\"Predictions before training:\" +str(forward(5)))\n",
        "\n",
        "#Training\n",
        "learning_rate=0.01\n",
        "n_iters=100\n",
        "\n",
        "losee=nn.MSELoss()\n",
        "optimizer=torch.optim.SGD([w],lr=learning_rate)\n",
        "\n",
        "for epoch in range(n_iters):\n",
        "  #predictions=forward pass\n",
        "  y_pred=forward(X)\n",
        "\n",
        "  #loss\n",
        "  l=loss(Y,y_pred)\n",
        "\n",
        "  #gradients\n",
        "  l.backward()\n",
        "\n",
        "  #update weights\n",
        "  optimizer.step()\n",
        "  optimizer.zero_grad()\n",
        "\n",
        "  if epoch%10 ==0:\n",
        "    print(f'epoch {epoch+1}: w={w:.3f}, loss={l:.8f}')\n",
        "\n",
        "print(\"Predictions after training:\" +str(forward(5)))\n"
      ],
      "metadata": {
        "colab": {
          "base_uri": "https://localhost:8080/"
        },
        "id": "GhjgZqXy57gB",
        "outputId": "1180e1df-b9a9-4a49-abf9-9cb4879b06a3"
      },
      "execution_count": 51,
      "outputs": [
        {
          "output_type": "stream",
          "name": "stdout",
          "text": [
            "Predictions before training:tensor(0., grad_fn=<MulBackward0>)\n",
            "epoch 1: w=0.300, loss=30.00000000\n",
            "epoch 11: w=1.665, loss=1.16278565\n",
            "epoch 21: w=1.934, loss=0.04506890\n",
            "epoch 31: w=1.987, loss=0.00174685\n",
            "epoch 41: w=1.997, loss=0.00006770\n",
            "epoch 51: w=1.999, loss=0.00000262\n",
            "epoch 61: w=2.000, loss=0.00000010\n",
            "epoch 71: w=2.000, loss=0.00000000\n",
            "epoch 81: w=2.000, loss=0.00000000\n",
            "epoch 91: w=2.000, loss=0.00000000\n",
            "Predictions after training:tensor(10.0000, grad_fn=<MulBackward0>)\n"
          ]
        }
      ]
    },
    {
      "cell_type": "code",
      "source": [
        "#1 Design model,input and output size ,forward pass\n",
        "#2 Construct loss and optimizer\n",
        "#3 Training oss\n",
        "# - forwards pass: compute Prediction\n",
        "# - backward pass: gradients\n",
        "# - update weights\n",
        "\n",
        "\n",
        "import torch\n",
        "import torch.nn as nn\n",
        "#f=w*x\n",
        "#f=2*x\n",
        "\n",
        "X=torch.tensor([[1],[2],[3],[4]],dtype=torch.float32)\n",
        "Y=torch.tensor([[2],[4],[6],[8]],dtype=torch.float32)\n",
        "\n",
        "X_test=torch.tensor([5],dtype=torch.float32)\n",
        "\n",
        "n_samples,n_features=X.shape\n",
        "print(n_samples,n_features)\n",
        "input_size=n_features\n",
        "output_size=n_features\n",
        "\n",
        "#model=nn.Linear(input_size,output_size)\n",
        "model=nn.Linear(input_size,output_size)\n",
        "\n",
        "\n",
        "print(\"Predictions before training:\" +str(model(X_test).item()))\n",
        "\n",
        "#Training\n",
        "learning_rate=0.01\n",
        "n_iters=100\n",
        "\n",
        "losee=nn.MSELoss()\n",
        "optimizer=torch.optim.SGD(model.parameters(),lr=learning_rate)\n",
        "\n",
        "for epoch in range(n_iters):\n",
        "  #predictions=forward pass\n",
        "  y_pred=model(X)\n",
        "\n",
        "  #loss\n",
        "  l=loss(Y,y_pred)\n",
        "\n",
        "  #gradients\n",
        "  l.backward()\n",
        "\n",
        "  #update weights\n",
        "  optimizer.step()\n",
        "  optimizer.zero_grad()\n",
        "\n",
        "  if epoch%10 ==0:\n",
        "    [w,b]=model.parameters()\n",
        "    print(f'epoch {epoch+1}: w={w[0][0].item():.3f}, loss={l:.8f}')\n",
        "\n",
        "print(\"Predictions after training:\" +str(model(X_test).item()))\n"
      ],
      "metadata": {
        "colab": {
          "base_uri": "https://localhost:8080/"
        },
        "id": "14Mqzkkf74Vi",
        "outputId": "47aa8db1-bf4c-47ee-db35-31ac23261352"
      },
      "execution_count": 56,
      "outputs": [
        {
          "output_type": "stream",
          "name": "stdout",
          "text": [
            "4 1\n",
            "Predictions before training:4.347386360168457\n",
            "epoch 1: w=0.837, loss=7.76073170\n",
            "epoch 11: w=1.477, loss=0.43018377\n",
            "epoch 21: w=1.590, loss=0.22717299\n",
            "epoch 31: w=1.617, loss=0.20934579\n",
            "epoch 41: w=1.631, loss=0.19704153\n",
            "epoch 51: w=1.642, loss=0.18556964\n",
            "epoch 61: w=1.653, loss=0.17476842\n",
            "epoch 71: w=1.663, loss=0.16459602\n",
            "epoch 81: w=1.673, loss=0.15501556\n",
            "epoch 91: w=1.683, loss=0.14599292\n",
            "Predictions after training:9.364309310913086\n"
          ]
        }
      ]
    },
    {
      "cell_type": "code",
      "source": [
        "#1 Design model,input and output size ,forward pass\n",
        "#2 Construct loss and optimizer\n",
        "#3 Training oss\n",
        "# - forwards pass: compute Prediction\n",
        "# - backward pass: gradients\n",
        "# - update weights\n",
        "\n",
        "\n",
        "import torch\n",
        "import torch.nn as nn\n",
        "#f=w*x\n",
        "#f=2*x\n",
        "\n",
        "X=torch.tensor([[1],[2],[3],[4]],dtype=torch.float32)\n",
        "Y=torch.tensor([[2],[4],[6],[8]],dtype=torch.float32)\n",
        "\n",
        "X_test=torch.tensor([5],dtype=torch.float32)\n",
        "\n",
        "n_samples,n_features=X.shape\n",
        "print(n_samples,n_features)\n",
        "input_size=n_features\n",
        "output_size=n_features\n",
        "\n",
        "#model=nn.Linear(input_size,output_size)\n",
        "# model=nn.Linear(input_size,output_size)\n",
        "\n",
        "\n",
        "# 1 Design model, input and output size, forward pass\n",
        "class LinearRegression(nn.Module):\n",
        "\n",
        "  def __init__(self, input_dim, output_dim):  # Corrected: __init__ not _init_\n",
        "    super(LinearRegression, self).__init__()\n",
        "    # define layers\n",
        "    self.lin = nn.Linear(input_dim, output_dim)\n",
        "\n",
        "  def forward(self, x):\n",
        "    return self.lin(x)\n",
        "\n",
        "\n",
        "model = LinearRegression(input_size, output_size)\n",
        "\n",
        "\n",
        "print(\"Predictions before training:\" +str(model(X_test).item()))\n",
        "\n",
        "#Training\n",
        "learning_rate=0.01\n",
        "n_iters=100\n",
        "\n",
        "losee=nn.MSELoss()\n",
        "optimizer=torch.optim.SGD(model.parameters(),lr=learning_rate)\n",
        "\n",
        "for epoch in range(n_iters):\n",
        "  #predictions=forward pass\n",
        "  y_pred=model(X)\n",
        "\n",
        "  #loss\n",
        "  l=loss(Y,y_pred)\n",
        "\n",
        "  #gradients\n",
        "  l.backward()\n",
        "\n",
        "  #update weights\n",
        "  optimizer.step()\n",
        "  optimizer.zero_grad()\n",
        "\n",
        "  if epoch%10 ==0:\n",
        "    [w,b]=model.parameters()\n",
        "    print(f'epoch {epoch+1}: w={w[0][0].item():.3f}, loss={l:.8f}')\n",
        "\n",
        "print(\"Predictions after training:\" +str(model(X_test).item()))\n"
      ],
      "metadata": {
        "colab": {
          "base_uri": "https://localhost:8080/"
        },
        "id": "POlq_SYB9v45",
        "outputId": "aef5051c-89f0-43a7-a2e9-8a4aa97e1242"
      },
      "execution_count": 60,
      "outputs": [
        {
          "output_type": "stream",
          "name": "stdout",
          "text": [
            "4 1\n",
            "Predictions before training:3.870293140411377\n",
            "epoch 1: w=0.986, loss=11.59272003\n",
            "epoch 11: w=1.768, loss=0.30952698\n",
            "epoch 21: w=1.896, loss=0.01704516\n",
            "epoch 31: w=1.919, loss=0.00895203\n",
            "epoch 41: w=1.924, loss=0.00824726\n",
            "epoch 51: w=1.927, loss=0.00776249\n",
            "epoch 61: w=1.929, loss=0.00731054\n",
            "epoch 71: w=1.931, loss=0.00688503\n",
            "epoch 81: w=1.933, loss=0.00648428\n",
            "epoch 91: w=1.935, loss=0.00610685\n",
            "Predictions after training:9.869986534118652\n"
          ]
        }
      ]
    },
    {
      "cell_type": "markdown",
      "source": [
        "#Linear Regression using Pytorch"
      ],
      "metadata": {
        "id": "zDYBi3UyASjf"
      }
    },
    {
      "cell_type": "code",
      "source": [
        "#1 Design (input size,output size,forward pass)\n",
        "#2 Construct loss and optimizer\n",
        "#3 Training Loop\n",
        "    # -forward pass: compute predictions and loss\n",
        "    # -backward pass: gradients\n",
        "    # -update weights\n",
        "import torch\n",
        "import torch.nn as nn\n",
        "import numpy as np\n",
        "from sklearn import datasets\n",
        "import matplotlib.pyplot as plt\n",
        "\n",
        "x_numpy,y_numpy = datasets.make_regression(n_samples=100,n_features=1,noise=20,random_state=1)\n",
        "X=torch.from_numpy(x_numpy.astype(np.float32))\n",
        "Y=torch.from_numpy(y_numpy.astype(np.float32))\n",
        "Y=Y.view(Y.shape[0],1)\n",
        "n_samples,n_features=X.shape\n",
        "#Model\n",
        "input_size=n_features\n",
        "output_size=1\n",
        "model=nn.Linear(input_size,output_size)\n",
        "criteria=nn.MSELoss()\n",
        "optimizer=torch.optim.SGD(model.parameters(),lr=0.01)\n",
        "\n",
        "#Training\n",
        "num_epochs=100\n",
        "for epoch in range(num_epochs):\n",
        "  #forward pass and loss\n",
        "  y_predicted=model(X)\n",
        "  loss=criteria(y_predicted,Y)\n",
        "  #backward pass\n",
        "  loss.backward()\n",
        "  #update\n",
        "  optimizer.step()\n",
        "  #empty gradients\n",
        "  optimizer.zero_grad()\n",
        "\n",
        "  if epoch%10==0:\n",
        "    [w,b]=model.parameters()\n",
        "    print(f'epoch {epoch+1}: w={w[0][0].item():.3f}, loss={loss:.4f}')\n",
        "\n",
        " #plot\n",
        "predicted=model(X).detach().numpy()\n",
        "plt.plot(x_numpy,y_numpy,'ro')\n",
        "plt.plot(x_numpy,predicted,'b')\n",
        "plt.show()\n",
        "\n",
        "\n"
      ],
      "metadata": {
        "colab": {
          "base_uri": "https://localhost:8080/",
          "height": 604
        },
        "id": "kcpviQsD-9Ut",
        "outputId": "3a06d11f-08be-4485-baa0-a411193e386d"
      },
      "execution_count": 61,
      "outputs": [
        {
          "output_type": "stream",
          "name": "stdout",
          "text": [
            "epoch 1: w=1.561, loss=5704.9985\n",
            "epoch 11: w=13.467, loss=4226.7202\n",
            "epoch 21: w=23.612, loss=3157.8440\n",
            "epoch 31: w=32.257, loss=2384.1265\n",
            "epoch 41: w=39.626, loss=1823.4814\n",
            "epoch 51: w=45.909, loss=1416.8419\n",
            "epoch 61: w=51.266, loss=1121.6422\n",
            "epoch 71: w=55.835, loss=907.1669\n",
            "epoch 81: w=59.732, loss=751.2246\n",
            "epoch 91: w=63.057, loss=637.7620\n"
          ]
        },
        {
          "output_type": "display_data",
          "data": {
            "text/plain": [
              "<Figure size 640x480 with 1 Axes>"
            ],
            "image/png": "[encoded data removed]"
          },
          "metadata": {}
        }
      ]
    },
    {
      "cell_type": "markdown",
      "source": [
        "#Logistic Regression using Pytorch"
      ],
      "metadata": {
        "id": "NeoPElSNDVlB"
      }
    },
    {
      "cell_type": "code",
      "source": [
        "#1 Design (input size,output size,forward pass)\n",
        "#2 Construct loss and optimizer\n",
        "#3 Training Loop\n",
        "    # -forward pass: compute predictions and loss\n",
        "    # -backward pass: gradients\n",
        "    # -update weights\n",
        "import torch\n",
        "import torch.nn as nn\n",
        "import numpy as np\n",
        "from sklearn import datasets\n",
        "from sklearn.preprocessing import StandardScaler\n",
        "from sklearn.model_selection import train_test_split\n",
        "import matplotlib.pyplot as plt\n",
        "\n",
        "bc=datasets.load_breast_cancer()\n",
        "X,y=bc.data,bc.target\n",
        "\n",
        "n_samples,n_features=X.shape\n",
        "X_train,X_test,y_train,y_test=train_test_split(X,y,test_size=0.2,random_state=1234)\n",
        "sc=StandardScaler()\n",
        "X_train=sc.fit_transform(X_train)\n",
        "X_test=sc.transform(X_test)\n",
        "X_train=torch.from_numpy(X_train.astype(np.float32))\n",
        "X_test=torch.from_numpy(X_test.astype(np.float32))\n",
        "y_train=torch.from_numpy(y_train.astype(np.float32))\n",
        "y_test=torch.from_numpy(y_test.astype(np.float32))\n",
        "y_train=y_train.view(y_train.shape[0],1)\n",
        "y_test=y_test.view(y_test.shape[0],1)\n",
        "\n",
        "#f=wx+b,sigmoid at the end\n",
        "class LogisticRegression(nn.Module):\n",
        "  def __init__(self,n_input_features):\n",
        "    super(LogisticRegression,self).__init__()\n",
        "    self.linear=nn.Linear(n_input_features,1)\n",
        "\n",
        "  def forward(self,x):\n",
        "    y_predicted=torch.sigmoid(self.linear(x))\n",
        "    return y_predicted\n",
        "\n",
        "#Model\n",
        "model=LogisticRegression(n_features)\n",
        "#Loss and Optimizer\n",
        "criteria=nn.BCELoss()\n",
        "optimizer=torch.optim.SGD(model.parameters(),lr=0.01)\n",
        "\n",
        "#Training\n",
        "num_epochs=100\n",
        "for epoch in range(num_epochs):\n",
        "  #forward pass and loss\n",
        "  y_predicted=model(X_train)\n",
        "  loss=criteria(y_predicted,y_train)\n",
        "  #backward pass\n",
        "  loss.backward()\n",
        "  #update\n",
        "  optimizer.step()\n",
        "  #empty gradients\n",
        "  optimizer.zero_grad()\n",
        "\n",
        "  if (epoch+1)%10==0:\n",
        "    [w,b]=model.parameters()\n",
        "    print(f'epoch {epoch+1}: loss={loss:.4f}')\n",
        "\n",
        "with torch.no_grad():\n",
        "  y_predicted=model(X_test)\n",
        "  y_predicted_cls=y_predicted.round()\n",
        "  acc=y_predicted_cls.eq(y_test).sum()/float(y_test.shape[0])\n",
        "  print(f'accuracy={acc:.4f}')\n",
        "\n",
        "\n"
      ],
      "metadata": {
        "colab": {
          "base_uri": "https://localhost:8080/"
        },
        "id": "npa8pXioC-1M",
        "outputId": "08131186-68e3-4ffd-d01b-28143305202a"
      },
      "execution_count": 64,
      "outputs": [
        {
          "output_type": "stream",
          "name": "stdout",
          "text": [
            "epoch 10: loss=0.4731\n",
            "epoch 20: loss=0.4075\n",
            "epoch 30: loss=0.3618\n",
            "epoch 40: loss=0.3282\n",
            "epoch 50: loss=0.3022\n",
            "epoch 60: loss=0.2815\n",
            "epoch 70: loss=0.2646\n",
            "epoch 80: loss=0.2504\n",
            "epoch 90: loss=0.2383\n",
            "epoch 100: loss=0.2278\n",
            "accuracy=0.9211\n"
          ]
        }
      ]
    },
    {
      "cell_type": "markdown",
      "source": [
        "#Dataset and DataLoader"
      ],
      "metadata": {
        "id": "n4E5gx46HX3t"
      }
    },
    {
      "cell_type": "code",
      "source": [
        "'''\n",
        "epoch = 1 forward and backward pass of ALL training samples\n",
        "batch_size= number of training sample in one forward and backward pass\n",
        "number of iterations = number of passes,each pass using[batch_size] number of samples\n",
        "e.g 100 samples,batch_size=20 -->100/20=5 iterations for 1 epoch\n",
        "'''\n",
        "\n",
        "import torch\n",
        "import torchvision\n",
        "from torch.utils.data import Dataset,DataLoader\n",
        "import numpy as np\n",
        "import math\n",
        "\n",
        "class WineDataset(Dataset):\n",
        "  def __init__(self):\n",
        "    #data loading\n",
        "    xy= np.loadtxt('/content/WineQT.csv',delimiter=\",\",dtype=np.float32,skiprows=1)\n",
        "    self.x=torch.from_numpy(xy[:,1:])\n",
        "    self.y=torch.from_numpy(xy[:,[0]])\n",
        "    self.n_samples=xy.shape[0]\n",
        "\n",
        "  def __getitem__(self,index):\n",
        "    return self.x[index],self.y[index]\n",
        "\n",
        "  def __len__(self):\n",
        "    return self.n_samples\n",
        "\n",
        "\n",
        "dataset = WineDataset()\n",
        "# first_data = dataset[0]\n",
        "# features,labels = first_data\n",
        "# print(features,labels)\n",
        "\n",
        "dataloader=DataLoader(dataset=dataset,batch_size=4,shuffle=True,num_workers=2)\n",
        "datatiter=iter(dataloader)\n",
        "data=next(datatiter)\n",
        "features,labels=data\n",
        "print(features,labels)\n",
        "\n",
        "\n",
        "#training loop\n",
        "num_epochs=2\n",
        "total_samples=len(dataset)\n",
        "n_iterations=math.ceil(total_samples/4)\n",
        "print(total_samples,n_iterations)\n",
        "for epoch in range(num_epochs):\n",
        "  for i,(inputs,labels) in enumerate(dataloader):\n",
        "     # forward and backward,update (placeholders for actual model logic)\n",
        "\n",
        "     # --- ADDED CONDITION HERE TO MATCH VIDEO'S PRINT FREQUENCY ---\n",
        "     if (i + 1) % 5 == 0: # Print every 5th step\n",
        "       print(f'epoch {epoch+1}/{num_epochs}, step {i+1}/{n_iterations}, inputs shape: {inputs.shape}')\n",
        "\n",
        "print(\"\\nTraining loop simulation complete.\")\n",
        "\n",
        "# torchvision.datasets.MNIST()\n",
        "#fashion=mnist,tifar,coco\n"
      ],
      "metadata": {
        "colab": {
          "base_uri": "https://localhost:8080/"
        },
        "id": "GmXfMt-zGc-I",
        "outputId": "56c9915d-3a48-4cea-ce26-8c95d0d168dc"
      },
      "execution_count": 76,
      "outputs": [
        {
          "output_type": "stream",
          "name": "stdout",
          "text": [
            "tensor([[5.9000e-01, 1.4000e-01, 2.0000e+00, 8.4000e-02, 2.5000e+01, 4.8000e+01,\n",
            "         9.9810e-01, 3.1400e+00, 5.6000e-01, 9.7000e+00, 5.0000e+00, 6.6500e+02],\n",
            "        [5.3000e-01, 1.4000e-01, 2.1000e+00, 6.4000e-02, 1.5000e+01, 2.9000e+01,\n",
            "         9.9323e-01, 3.3500e+00, 6.1000e-01, 1.2100e+01, 6.0000e+00, 1.2970e+03],\n",
            "        [6.4000e-01, 9.0000e-02, 2.5000e+00, 8.1000e-02, 1.5000e+01, 2.6000e+01,\n",
            "         9.9538e-01, 3.5700e+00, 6.3000e-01, 1.2000e+01, 5.0000e+00, 1.5380e+03],\n",
            "        [4.7000e-01, 4.3000e-01, 2.1000e+00, 1.7100e-01, 2.7000e+01, 6.6000e+01,\n",
            "         9.9820e-01, 3.1700e+00, 7.6000e-01, 1.0800e+01, 6.0000e+00, 1.1090e+03]]) tensor([[ 9.4000],\n",
            "        [ 7.2000],\n",
            "        [ 6.2000],\n",
            "        [10.8000]])\n",
            "1143 286\n",
            "epoch 1/2, step 5/286, inputs shape: torch.Size([4, 12])\n",
            "epoch 1/2, step 10/286, inputs shape: torch.Size([4, 12])\n",
            "epoch 1/2, step 15/286, inputs shape: torch.Size([4, 12])\n",
            "epoch 1/2, step 20/286, inputs shape: torch.Size([4, 12])\n",
            "epoch 1/2, step 25/286, inputs shape: torch.Size([4, 12])\n",
            "epoch 1/2, step 30/286, inputs shape: torch.Size([4, 12])\n",
            "epoch 1/2, step 35/286, inputs shape: torch.Size([4, 12])\n",
            "epoch 1/2, step 40/286, inputs shape: torch.Size([4, 12])\n",
            "epoch 1/2, step 45/286, inputs shape: torch.Size([4, 12])\n",
            "epoch 1/2, step 50/286, inputs shape: torch.Size([4, 12])\n",
            "epoch 1/2, step 55/286, inputs shape: torch.Size([4, 12])\n",
            "epoch 1/2, step 60/286, inputs shape: torch.Size([4, 12])\n",
            "epoch 1/2, step 65/286, inputs shape: torch.Size([4, 12])\n",
            "epoch 1/2, step 70/286, inputs shape: torch.Size([4, 12])\n",
            "epoch 1/2, step 75/286, inputs shape: torch.Size([4, 12])\n",
            "epoch 1/2, step 80/286, inputs shape: torch.Size([4, 12])\n",
            "epoch 1/2, step 85/286, inputs shape: torch.Size([4, 12])\n",
            "epoch 1/2, step 90/286, inputs shape: torch.Size([4, 12])\n",
            "epoch 1/2, step 95/286, inputs shape: torch.Size([4, 12])\n",
            "epoch 1/2, step 100/286, inputs shape: torch.Size([4, 12])\n",
            "epoch 1/2, step 105/286, inputs shape: torch.Size([4, 12])\n",
            "epoch 1/2, step 110/286, inputs shape: torch.Size([4, 12])\n",
            "epoch 1/2, step 115/286, inputs shape: torch.Size([4, 12])\n",
            "epoch 1/2, step 120/286, inputs shape: torch.Size([4, 12])\n",
            "epoch 1/2, step 125/286, inputs shape: torch.Size([4, 12])\n",
            "epoch 1/2, step 130/286, inputs shape: torch.Size([4, 12])\n",
            "epoch 1/2, step 135/286, inputs shape: torch.Size([4, 12])\n",
            "epoch 1/2, step 140/286, inputs shape: torch.Size([4, 12])\n",
            "epoch 1/2, step 145/286, inputs shape: torch.Size([4, 12])\n",
            "epoch 1/2, step 150/286, inputs shape: torch.Size([4, 12])\n",
            "epoch 1/2, step 155/286, inputs shape: torch.Size([4, 12])\n",
            "epoch 1/2, step 160/286, inputs shape: torch.Size([4, 12])\n",
            "epoch 1/2, step 165/286, inputs shape: torch.Size([4, 12])\n",
            "epoch 1/2, step 170/286, inputs shape: torch.Size([4, 12])\n",
            "epoch 1/2, step 175/286, inputs shape: torch.Size([4, 12])\n",
            "epoch 1/2, step 180/286, inputs shape: torch.Size([4, 12])\n",
            "epoch 1/2, step 185/286, inputs shape: torch.Size([4, 12])\n",
            "epoch 1/2, step 190/286, inputs shape: torch.Size([4, 12])\n",
            "epoch 1/2, step 195/286, inputs shape: torch.Size([4, 12])\n",
            "epoch 1/2, step 200/286, inputs shape: torch.Size([4, 12])\n",
            "epoch 1/2, step 205/286, inputs shape: torch.Size([4, 12])\n",
            "epoch 1/2, step 210/286, inputs shape: torch.Size([4, 12])\n",
            "epoch 1/2, step 215/286, inputs shape: torch.Size([4, 12])\n",
            "epoch 1/2, step 220/286, inputs shape: torch.Size([4, 12])\n",
            "epoch 1/2, step 225/286, inputs shape: torch.Size([4, 12])\n",
            "epoch 1/2, step 230/286, inputs shape: torch.Size([4, 12])\n",
            "epoch 1/2, step 235/286, inputs shape: torch.Size([4, 12])\n",
            "epoch 1/2, step 240/286, inputs shape: torch.Size([4, 12])\n",
            "epoch 1/2, step 245/286, inputs shape: torch.Size([4, 12])\n",
            "epoch 1/2, step 250/286, inputs shape: torch.Size([4, 12])\n",
            "epoch 1/2, step 255/286, inputs shape: torch.Size([4, 12])\n",
            "epoch 1/2, step 260/286, inputs shape: torch.Size([4, 12])\n",
            "epoch 1/2, step 265/286, inputs shape: torch.Size([4, 12])\n",
            "epoch 1/2, step 270/286, inputs shape: torch.Size([4, 12])\n",
            "epoch 1/2, step 275/286, inputs shape: torch.Size([4, 12])\n",
            "epoch 1/2, step 280/286, inputs shape: torch.Size([4, 12])\n",
            "epoch 1/2, step 285/286, inputs shape: torch.Size([4, 12])\n",
            "epoch 2/2, step 5/286, inputs shape: torch.Size([4, 12])\n",
            "epoch 2/2, step 10/286, inputs shape: torch.Size([4, 12])\n",
            "epoch 2/2, step 15/286, inputs shape: torch.Size([4, 12])\n",
            "epoch 2/2, step 20/286, inputs shape: torch.Size([4, 12])\n",
            "epoch 2/2, step 25/286, inputs shape: torch.Size([4, 12])\n",
            "epoch 2/2, step 30/286, inputs shape: torch.Size([4, 12])\n",
            "epoch 2/2, step 35/286, inputs shape: torch.Size([4, 12])\n",
            "epoch 2/2, step 40/286, inputs shape: torch.Size([4, 12])\n",
            "epoch 2/2, step 45/286, inputs shape: torch.Size([4, 12])\n",
            "epoch 2/2, step 50/286, inputs shape: torch.Size([4, 12])\n",
            "epoch 2/2, step 55/286, inputs shape: torch.Size([4, 12])\n",
            "epoch 2/2, step 60/286, inputs shape: torch.Size([4, 12])\n",
            "epoch 2/2, step 65/286, inputs shape: torch.Size([4, 12])\n",
            "epoch 2/2, step 70/286, inputs shape: torch.Size([4, 12])\n",
            "epoch 2/2, step 75/286, inputs shape: torch.Size([4, 12])\n",
            "epoch 2/2, step 80/286, inputs shape: torch.Size([4, 12])\n",
            "epoch 2/2, step 85/286, inputs shape: torch.Size([4, 12])\n",
            "epoch 2/2, step 90/286, inputs shape: torch.Size([4, 12])\n",
            "epoch 2/2, step 95/286, inputs shape: torch.Size([4, 12])\n",
            "epoch 2/2, step 100/286, inputs shape: torch.Size([4, 12])\n",
            "epoch 2/2, step 105/286, inputs shape: torch.Size([4, 12])\n",
            "epoch 2/2, step 110/286, inputs shape: torch.Size([4, 12])\n",
            "epoch 2/2, step 115/286, inputs shape: torch.Size([4, 12])\n",
            "epoch 2/2, step 120/286, inputs shape: torch.Size([4, 12])\n",
            "epoch 2/2, step 125/286, inputs shape: torch.Size([4, 12])\n",
            "epoch 2/2, step 130/286, inputs shape: torch.Size([4, 12])\n",
            "epoch 2/2, step 135/286, inputs shape: torch.Size([4, 12])\n",
            "epoch 2/2, step 140/286, inputs shape: torch.Size([4, 12])\n",
            "epoch 2/2, step 145/286, inputs shape: torch.Size([4, 12])\n",
            "epoch 2/2, step 150/286, inputs shape: torch.Size([4, 12])\n",
            "epoch 2/2, step 155/286, inputs shape: torch.Size([4, 12])\n",
            "epoch 2/2, step 160/286, inputs shape: torch.Size([4, 12])\n",
            "epoch 2/2, step 165/286, inputs shape: torch.Size([4, 12])\n",
            "epoch 2/2, step 170/286, inputs shape: torch.Size([4, 12])\n",
            "epoch 2/2, step 175/286, inputs shape: torch.Size([4, 12])\n",
            "epoch 2/2, step 180/286, inputs shape: torch.Size([4, 12])\n",
            "epoch 2/2, step 185/286, inputs shape: torch.Size([4, 12])\n",
            "epoch 2/2, step 190/286, inputs shape: torch.Size([4, 12])\n",
            "epoch 2/2, step 195/286, inputs shape: torch.Size([4, 12])\n",
            "epoch 2/2, step 200/286, inputs shape: torch.Size([4, 12])\n",
            "epoch 2/2, step 205/286, inputs shape: torch.Size([4, 12])\n",
            "epoch 2/2, step 210/286, inputs shape: torch.Size([4, 12])\n",
            "epoch 2/2, step 215/286, inputs shape: torch.Size([4, 12])\n",
            "epoch 2/2, step 220/286, inputs shape: torch.Size([4, 12])\n",
            "epoch 2/2, step 225/286, inputs shape: torch.Size([4, 12])\n",
            "epoch 2/2, step 230/286, inputs shape: torch.Size([4, 12])\n",
            "epoch 2/2, step 235/286, inputs shape: torch.Size([4, 12])\n",
            "epoch 2/2, step 240/286, inputs shape: torch.Size([4, 12])\n",
            "epoch 2/2, step 245/286, inputs shape: torch.Size([4, 12])\n",
            "epoch 2/2, step 250/286, inputs shape: torch.Size([4, 12])\n",
            "epoch 2/2, step 255/286, inputs shape: torch.Size([4, 12])\n",
            "epoch 2/2, step 260/286, inputs shape: torch.Size([4, 12])\n",
            "epoch 2/2, step 265/286, inputs shape: torch.Size([4, 12])\n",
            "epoch 2/2, step 270/286, inputs shape: torch.Size([4, 12])\n",
            "epoch 2/2, step 275/286, inputs shape: torch.Size([4, 12])\n",
            "epoch 2/2, step 280/286, inputs shape: torch.Size([4, 12])\n",
            "epoch 2/2, step 285/286, inputs shape: torch.Size([4, 12])\n",
            "\n",
            "Training loop simulation complete.\n"
          ]
        }
      ]
    },
    {
      "cell_type": "markdown",
      "source": [
        "#DataSet Transforms"
      ],
      "metadata": {
        "id": "ZJh9PDJ3QyVz"
      }
    },
    {
      "cell_type": "code",
      "source": [
        "import torch\n",
        "import torchvision\n",
        "\n",
        "# dataset=torchvision.datasets.MNIST(\n",
        "#     root='./data',transform=torchvision.transforms.ToTensor()\n",
        "# )\n",
        "\n",
        "'''\n",
        "Transforms can be applied to PIL images,tensors,ndarrays or custom data\n",
        "during creation of the Dataset\n",
        "\n",
        "\n",
        "On Images:CeterCrop,Grayscale,Pad,RandomAffine,RandomCrop,RandomHorizontalFlip\n",
        ",RandomRotation,Resize,Scale\n",
        "\n",
        "On Tensors\n",
        "LinearTransformation,Normalize,RandomErasing\n",
        "\n",
        "Conversion\n",
        "TopIImage: from tensor or ndarray\n",
        "ToTensor: from numpy.ndarray or PILImage\n",
        "\n",
        "Generic\n",
        "Write own class\n",
        "\n",
        "Compose Multiple Transform\n",
        "composed=transform.Compose([Rescale[256],RandomCrop(224)])\n",
        "torchvision.transform.ReScale(256)\n",
        "torchvision.transform.ToTensor()\n",
        "'''\n",
        "\n",
        "\n",
        "'''\n",
        "epoch = 1 forward and backward pass of ALL training samples\n",
        "batch_size= number of training sample in one forward and backward pass\n",
        "number of iterations = number of passes,each pass using[batch_size] number of samples\n",
        "e.g 100 samples,batch_size=20 -->100/20=5 iterations for 1 epoch\n",
        "'''\n",
        "\n",
        "import torch\n",
        "import torchvision\n",
        "from torch.utils.data import Dataset,DataLoader\n",
        "import numpy as np\n",
        "import math\n",
        "\n",
        "class WineDataset(Dataset):\n",
        "  def __init__(self,transform=None):\n",
        "    #data loading\n",
        "    xy= np.loadtxt('/content/WineQT.csv',delimiter=\",\",dtype=np.float32,skiprows=1)\n",
        "    self.x=torch.from_numpy(xy[:,1:])\n",
        "    self.y=torch.from_numpy(xy[:,[0]])\n",
        "    self.n_samples=xy.shape[0]\n",
        "\n",
        "  def __getitem__(self,index):\n",
        "    sample= self.x[index],self.y[index]\n",
        "\n",
        "    if self.transform:\n",
        "      sample=self.transform(sample)\n",
        "\n",
        "    return sample\n",
        "\n",
        "  def __len__(self):\n",
        "    return self.n_samples\n",
        "\n",
        "\n",
        "class ToTensor:\n",
        "  def __call__(self,sample):\n",
        "    inputs,targets=sample\n",
        "    return torch.from_numpy(inputs),torch.from_numpy(targets)\n",
        "\n",
        "class MulTransform:\n",
        "  def __init__(self,factor):\n",
        "    self.factor=factor\n",
        "\n",
        "  def __call__(self,sample):\n",
        "    inputs,targets=sample\n",
        "    inputs*=self.factor\n",
        "    return inputs,targets\n",
        "\n",
        "\n",
        "dataset = WineDataset(transform=ToTensor())\n",
        "first_data = dataset[0]\n",
        "features,labels = first_data\n",
        "print(type(features),type(labels))\n",
        "\n",
        "composed=torchvision.transforms.Compose([ToTensor(),MulTransform(4)])\n",
        "dataset = WineDataset(transform=composed)\n",
        "first_data = dataset[0]\n",
        "features,labels = first_data\n",
        "print(type(features),type(labels))\n",
        "\n",
        "#\n",
        "\n",
        "# dataloader=DataLoader(dataset=dataset,batch_size=4,shuffle=True,num_workers=2)\n",
        "# datatiter=iter(dataloader)\n",
        "# data=next(datatiter)\n",
        "# features,labels=data\n",
        "# print(features,labels)\n",
        "\n",
        "\n",
        "# #training loop\n",
        "# num_epochs=2\n",
        "# total_samples=len(dataset)\n",
        "# n_iterations=math.ceil(total_samples/4)\n",
        "# print(total_samples,n_iterations)\n",
        "# for epoch in range(num_epochs):\n",
        "#   for i,(inputs,labels) in enumerate(dataloader):\n",
        "#      # forward and backward,update (placeholders for actual model logic)\n",
        "\n",
        "#      # --- ADDED CONDITION HERE TO MATCH VIDEO'S PRINT FREQUENCY ---\n",
        "#      if (i + 1) % 5 == 0: # Print every 5th step\n",
        "#        print(f'epoch {epoch+1}/{num_epochs}, step {i+1}/{n_iterations}, inputs shape: {inputs.shape}')\n",
        "\n",
        "print(\"\\nTraining loop simulation complete.\")\n",
        "\n",
        "# torchvision.datasets.MNIST()\n",
        "#fashion=mnist,tifar,coco\n",
        "\n"
      ],
      "metadata": {
        "colab": {
          "base_uri": "https://localhost:8080/",
          "height": 367
        },
        "id": "rTcQZWAzLiOH",
        "outputId": "03c6319d-e79c-4483-bf49-90546ba9bb10"
      },
      "execution_count": 78,
      "outputs": [
        {
          "output_type": "error",
          "ename": "AttributeError",
          "evalue": "'WineDataset' object has no attribute 'transform'",
          "traceback": [
            "\u001b[0;31m---------------------------------------------------------------------------\u001b[0m",
            "\u001b[0;31mAttributeError\u001b[0m                            Traceback (most recent call last)",
            "\u001b[0;32m<ipython-input-78-ba1fdb7ec85e>\u001b[0m in \u001b[0;36m<cell line: 0>\u001b[0;34m()\u001b[0m\n\u001b[1;32m     80\u001b[0m \u001b[0;34m\u001b[0m\u001b[0m\n\u001b[1;32m     81\u001b[0m \u001b[0mdataset\u001b[0m \u001b[0;34m=\u001b[0m \u001b[0mWineDataset\u001b[0m\u001b[0;34m(\u001b[0m\u001b[0mtransform\u001b[0m\u001b[0;34m=\u001b[0m\u001b[0mToTensor\u001b[0m\u001b[0;34m(\u001b[0m\u001b[0;34m)\u001b[0m\u001b[0;34m)\u001b[0m\u001b[0;34m\u001b[0m\u001b[0;34m\u001b[0m\u001b[0m\n\u001b[0;32m---> 82\u001b[0;31m \u001b[0mfirst_data\u001b[0m \u001b[0;34m=\u001b[0m \u001b[0mdataset\u001b[0m\u001b[0;34m[\u001b[0m\u001b[0;36m0\u001b[0m\u001b[0;34m]\u001b[0m\u001b[0;34m\u001b[0m\u001b[0;34m\u001b[0m\u001b[0m\n\u001b[0m\u001b[1;32m     83\u001b[0m \u001b[0mfeatures\u001b[0m\u001b[0;34m,\u001b[0m\u001b[0mlabels\u001b[0m \u001b[0;34m=\u001b[0m \u001b[0mfirst_data\u001b[0m\u001b[0;34m\u001b[0m\u001b[0;34m\u001b[0m\u001b[0m\n\u001b[1;32m     84\u001b[0m \u001b[0mprint\u001b[0m\u001b[0;34m(\u001b[0m\u001b[0mtype\u001b[0m\u001b[0;34m(\u001b[0m\u001b[0mfeatures\u001b[0m\u001b[0;34m)\u001b[0m\u001b[0;34m,\u001b[0m\u001b[0mtype\u001b[0m\u001b[0;34m(\u001b[0m\u001b[0mlabels\u001b[0m\u001b[0;34m)\u001b[0m\u001b[0;34m)\u001b[0m\u001b[0;34m\u001b[0m\u001b[0;34m\u001b[0m\u001b[0m\n",
            "\u001b[0;32m<ipython-input-78-ba1fdb7ec85e>\u001b[0m in \u001b[0;36m__getitem__\u001b[0;34m(self, index)\u001b[0m\n\u001b[1;32m     55\u001b[0m     \u001b[0msample\u001b[0m\u001b[0;34m=\u001b[0m \u001b[0mself\u001b[0m\u001b[0;34m.\u001b[0m\u001b[0mx\u001b[0m\u001b[0;34m[\u001b[0m\u001b[0mindex\u001b[0m\u001b[0;34m]\u001b[0m\u001b[0;34m,\u001b[0m\u001b[0mself\u001b[0m\u001b[0;34m.\u001b[0m\u001b[0my\u001b[0m\u001b[0;34m[\u001b[0m\u001b[0mindex\u001b[0m\u001b[0;34m]\u001b[0m\u001b[0;34m\u001b[0m\u001b[0;34m\u001b[0m\u001b[0m\n\u001b[1;32m     56\u001b[0m \u001b[0;34m\u001b[0m\u001b[0m\n\u001b[0;32m---> 57\u001b[0;31m     \u001b[0;32mif\u001b[0m \u001b[0mself\u001b[0m\u001b[0;34m.\u001b[0m\u001b[0mtransform\u001b[0m\u001b[0;34m:\u001b[0m\u001b[0;34m\u001b[0m\u001b[0;34m\u001b[0m\u001b[0m\n\u001b[0m\u001b[1;32m     58\u001b[0m       \u001b[0msample\u001b[0m\u001b[0;34m=\u001b[0m\u001b[0mself\u001b[0m\u001b[0;34m.\u001b[0m\u001b[0mtransform\u001b[0m\u001b[0;34m(\u001b[0m\u001b[0msample\u001b[0m\u001b[0;34m)\u001b[0m\u001b[0;34m\u001b[0m\u001b[0;34m\u001b[0m\u001b[0m\n\u001b[1;32m     59\u001b[0m \u001b[0;34m\u001b[0m\u001b[0m\n",
            "\u001b[0;31mAttributeError\u001b[0m: 'WineDataset' object has no attribute 'transform'"
          ]
        }
      ]
    },
    {
      "cell_type": "code",
      "source": [
        "import torch\n",
        "import torchvision\n",
        "from torch.utils.data import Dataset, DataLoader\n",
        "import numpy as np\n",
        "import math\n",
        "\n",
        "class WineDataset(Dataset):\n",
        "  def __init__(self, transform=None):\n",
        "    xy = np.loadtxt('/content/WineQT.csv', delimiter=\",\", dtype=np.float32, skiprows=1)\n",
        "    self.x = xy[:, 1:]\n",
        "    self.y = xy[:, [0]]\n",
        "    self.n_samples = xy.shape[0]\n",
        "    self.transform = transform\n",
        "\n",
        "  def __getitem__(self, index):\n",
        "    inputs = self.x[index]\n",
        "    targets = self.y[index]\n",
        "\n",
        "    sample = {'inputs': inputs, 'targets': targets}\n",
        "\n",
        "    if self.transform:\n",
        "      sample = self.transform(sample)\n",
        "\n",
        "    return sample['inputs'], sample['targets']\n",
        "\n",
        "  def __len__(self):\n",
        "    return self.n_samples\n",
        "\n",
        "class ToTensor:\n",
        "  def __call__(self, sample):\n",
        "    inputs, targets = sample['inputs'], sample['targets']\n",
        "    return {'inputs': torch.from_numpy(inputs),\n",
        "            'targets': torch.from_numpy(targets)}\n",
        "\n",
        "class MulTransform:\n",
        "  def __init__(self, factor):\n",
        "    self.factor = factor\n",
        "\n",
        "  def __call__(self, sample):\n",
        "    sample['inputs'] = sample['inputs'] * self.factor\n",
        "    return sample\n",
        "\n",
        "dataset_with_to_tensor = WineDataset(transform=ToTensor())\n",
        "first_data_to_tensor = dataset_with_to_tensor[0]\n",
        "features_to_tensor, labels_to_tensor = first_data_to_tensor\n",
        "print(f\"Features type after ToTensor: {type(features_to_tensor)}\")\n",
        "print(f\"Labels type after ToTensor: {type(labels_to_tensor)}\")\n",
        "print(f\"Features value (first sample):\\n{features_to_tensor}\")\n",
        "print(f\"Labels value (first sample):\\n{labels_to_tensor}\")\n",
        "\n",
        "composed = torchvision.transforms.Compose([ToTensor(), MulTransform(4)])\n",
        "dataset_with_composed = WineDataset(transform=composed)\n",
        "first_data_composed = dataset_with_composed[0]\n",
        "features_composed, labels_composed = first_data_composed\n",
        "print(f\"\\nFeatures type after Composed: {type(features_composed)}\")\n",
        "print(f\"Labels type after Composed: {type(labels_composed)}\")\n",
        "print(f\"Features value (first sample, multiplied by 4):\\n{features_composed}\")\n",
        "print(f\"Labels value (first sample, unchanged):\\n{labels_composed}\")\n",
        "\n",
        "print(\"\\nTraining loop simulation complete.\")"
      ],
      "metadata": {
        "colab": {
          "base_uri": "https://localhost:8080/"
        },
        "id": "nZRdiYWlXNqT",
        "outputId": "b26f5330-f1c2-4023-bf9b-e2e3b506d98d"
      },
      "execution_count": 79,
      "outputs": [
        {
          "output_type": "stream",
          "name": "stdout",
          "text": [
            "Features type after ToTensor: <class 'torch.Tensor'>\n",
            "Labels type after ToTensor: <class 'torch.Tensor'>\n",
            "Features value (first sample):\n",
            "tensor([ 0.7000,  0.0000,  1.9000,  0.0760, 11.0000, 34.0000,  0.9978,  3.5100,\n",
            "         0.5600,  9.4000,  5.0000,  0.0000])\n",
            "Labels value (first sample):\n",
            "tensor([7.4000])\n",
            "\n",
            "Features type after Composed: <class 'torch.Tensor'>\n",
            "Labels type after Composed: <class 'torch.Tensor'>\n",
            "Features value (first sample, multiplied by 4):\n",
            "tensor([  2.8000,   0.0000,   7.6000,   0.3040,  44.0000, 136.0000,   3.9912,\n",
            "         14.0400,   2.2400,  37.6000,  20.0000,   0.0000])\n",
            "Labels value (first sample, unchanged):\n",
            "tensor([7.4000])\n",
            "\n",
            "Training loop simulation complete.\n"
          ]
        }
      ]
    },
    {
      "cell_type": "markdown",
      "source": [
        "# Softmax and Cross - Entropy"
      ],
      "metadata": {
        "id": "D37kLxNtYNgU"
      }
    },
    {
      "cell_type": "code",
      "source": [],
      "metadata": {
        "id": "rb87oBEaXm2n"
      },
      "execution_count": null,
      "outputs": []
    }
  ]
}
