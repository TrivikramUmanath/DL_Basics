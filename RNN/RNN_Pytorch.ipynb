{
  "cells": [
    {
      "cell_type": "code",
      "execution_count": null,
      "metadata": {
        "id": "62Apt5IOvzI-"
      },
      "outputs": [],
      "source": [
        "import torch\n",
        "import torch.nn as nn\n",
        "import matplotlib.pyplot as plt\n",
        "\n",
        "import random\n",
        "import io\n",
        "import os\n",
        "import unicodedata\n",
        "import string\n",
        "import glob\n"
      ]
    },
    {
      "cell_type": "code",
      "execution_count": null,
      "metadata": {
        "id": "ao5TGWUB7DoF"
      },
      "outputs": [],
      "source": [
        "#alphabet small + capital letter +\".,\"\n",
        "ALL_LETTERS=string.ascii_letters+\".,\"\n",
        "N_LETTERS=len(ALL_LETTERS)"
      ]
    },
    {
      "cell_type": "code",
      "execution_count": null,
      "metadata": {
        "id": "NxFVPapk7Dq2"
      },
      "outputs": [],
      "source": [
        "def unicode_to_ascii(s):\n",
        "  return ''.join(\n",
        "      c for c in unicodedata.normalize(\"NFD\",s)\n",
        "      if unicodedata.category(c)!='Mn'\n",
        "      and c in ALL_LETTERS\n",
        "  )\n",
        "\n",
        "def load_data():\n",
        "  #build the category_lines dictionary , a list of names per languages\n",
        "  category_lines={}\n",
        "  all_categories=[]\n",
        "\n",
        "\n",
        "  def find_files(path):\n",
        "    return glob.glob(path)\n",
        "\n",
        "  def read_files(filename):\n",
        "    lines=io.open(filename,encoding='utf-8').read().strip().split('\\n')\n",
        "    return [unicode_to_ascii(line) for line in lines]\n",
        "\n",
        "# /content/Arabic.txt\n",
        "  for filename in find_files('/content/*.txt'):\n",
        "    category=os.path.splitext(os.path.basename(filename))[0]\n",
        "    all_categories.append(category)\n",
        "    lines=read_files(filename)\n",
        "    category_lines[category]=lines\n",
        "  return category_lines,all_categories\n",
        "\n",
        "\n",
        "  \"\"\"\n",
        "  To represent a single letter, we use a \"one-hot vector\" of size <1 x n_letters>.\n",
        "  A \"one-hot vector\" is filled with 0s except for a 1 at index of\n",
        "  \"\"\"\n",
        "\n",
        "#Find letter index from all_letters, e.g. \"a\"=0\n",
        "def letter_to_index(letter):\n",
        "  return ALL_LETTERS.find(letter)\n",
        "\n",
        "#Just for demonstration, turn a letter into a <1 x n_letters>Tensor\n",
        "def letter_to_tensor(letter):\n",
        "  tensor=torch.zeros(1,N_LETTERS)\n",
        "  tensor[0][letter_to_index(letter)]=1\n",
        "  return tensor\n",
        "\n",
        "#Turn a line into a <line_length x 1 x n_letters>,\n",
        "#or an array of one-hot letter vectors\n",
        "\n",
        "def line_to_tensor(line):\n",
        "  tensor=torch.zeros(len(line),1,N_LETTERS)\n",
        "  for i,letter in enumerate(line):\n",
        "    tensor[i][0][letter_to_index(letter)]=1\n",
        "  return tensor\n",
        "\n",
        "def random_training_example(category_lines,all_categories):\n",
        "  def random_choice(a):\n",
        "    random_idx=random.randint(0,len(a)-1)\n",
        "    return a[random_idx]\n",
        "\n",
        "  category=random_choice(all_categories)\n",
        "  line=random_choice(category_lines[category])\n",
        "  category_tensor=torch.tensor([all_categories.index(category)],dtype=torch.long)\n",
        "  line_tensor=line_to_tensor(line)\n",
        "  return category,line,category_tensor,line_tensor\n"
      ]
    },
    {
      "cell_type": "code",
      "execution_count": null,
      "metadata": {
        "id": "WNM7rulj7Dtd"
      },
      "outputs": [],
      "source": []
    },
    {
      "cell_type": "code",
      "execution_count": null,
      "metadata": {
        "colab": {
          "base_uri": "https://localhost:8080/",
          "height": 1000
        },
        "id": "22kgT8cV7DwR",
        "outputId": "5d239729-57d0-44bf-8856-36781f4dcbfe"
      },
      "outputs": [
        {
          "name": "stdout",
          "output_type": "stream",
          "text": [
            "18\n",
            "Scottish\n",
            "5000 5.0 nan Drassal / French WRONG (Czech)\n",
            "10000 10.0 nan Brian / French WRONG (Irish)\n",
            "15000 15.0 nan Hayden / French WRONG (Irish)\n",
            "20000 20.0 nan Quang / French WRONG (Vietnamese)\n",
            "25000 25.0 nan Sobol / French WRONG (Polish)\n",
            "30000 30.0 nan Janowski / French WRONG (Polish)\n",
            "35000 35.0 nan Serafim / French WRONG (Portuguese)\n",
            "40000 40.0 nan Espinosa / French WRONG (Spanish)\n",
            "45000 45.0 nan Lennon / French WRONG (Irish)\n",
            "50000 50.0 nan Yan / French WRONG (Chinese)\n",
            "55000 55.00000000000001 nan Tolbert / French CORRECT\n",
            "60000 60.0 nan Chu / French WRONG (Vietnamese)\n",
            "65000 65.0 nan Saidbaev / French WRONG (Russian)\n",
            "70000 70.0 nan Chung / French WRONG (Korean)\n",
            "75000 75.0 nan Shim / French WRONG (Korean)\n",
            "80000 80.0 nan Jackson / French WRONG (Scottish)\n",
            "85000 85.0 nan Tos / French WRONG (Spanish)\n",
            "90000 90.0 nan Rocha / French WRONG (Portuguese)\n",
            "95000 95.0 nan Raskop / French WRONG (German)\n",
            "100000 100.0 nan Rompaij / French WRONG (Dutch)\n"
          ]
        },
        {
          "data": {
            "image/png": "[encoded data removed]",
            "text/plain": [
              "<Figure size 640x480 with 1 Axes>"
            ]
          },
          "metadata": {},
          "output_type": "display_data"
        },
        {
          "name": "stdout",
          "output_type": "stream",
          "text": [
            "Input:Kunal\n",
            "\n",
            ">Kunal\n",
            "French\n",
            "Input:Bob\n",
            "\n",
            ">Bob\n",
            "French\n",
            "Input:Jack\n",
            "\n",
            ">Jack\n",
            "French\n",
            "Input:Acker\n",
            "\n",
            ">Acker\n",
            "French\n",
            "Input:Adler\n",
            "\n",
            ">Adler\n",
            "French\n"
          ]
        },
        {
          "ename": "KeyboardInterrupt",
          "evalue": "Interrupted by user",
          "output_type": "error",
          "traceback": [
            "\u001b[0;31m---------------------------------------------------------------------------\u001b[0m",
            "\u001b[0;31mKeyboardInterrupt\u001b[0m                         Traceback (most recent call last)",
            "\u001b[0;32m<ipython-input-21-4289195297>\u001b[0m in \u001b[0;36m<cell line: 0>\u001b[0;34m()\u001b[0m\n\u001b[1;32m    110\u001b[0m \u001b[0;34m\u001b[0m\u001b[0m\n\u001b[1;32m    111\u001b[0m \u001b[0;32mwhile\u001b[0m \u001b[0;32mTrue\u001b[0m\u001b[0;34m:\u001b[0m\u001b[0;34m\u001b[0m\u001b[0;34m\u001b[0m\u001b[0m\n\u001b[0;32m--> 112\u001b[0;31m   \u001b[0msentence\u001b[0m\u001b[0;34m=\u001b[0m\u001b[0minput\u001b[0m\u001b[0;34m(\u001b[0m\u001b[0;34m\"Input:\"\u001b[0m\u001b[0;34m)\u001b[0m\u001b[0;34m\u001b[0m\u001b[0;34m\u001b[0m\u001b[0m\n\u001b[0m\u001b[1;32m    113\u001b[0m   \u001b[0;32mif\u001b[0m \u001b[0msentence\u001b[0m\u001b[0;34m==\u001b[0m\u001b[0;34m\"quit\"\u001b[0m\u001b[0;34m:\u001b[0m\u001b[0;34m\u001b[0m\u001b[0;34m\u001b[0m\u001b[0m\n\u001b[1;32m    114\u001b[0m     \u001b[0;32mbreak\u001b[0m\u001b[0;34m\u001b[0m\u001b[0;34m\u001b[0m\u001b[0m\n",
            "\u001b[0;32m/usr/local/lib/python3.11/dist-packages/ipykernel/kernelbase.py\u001b[0m in \u001b[0;36mraw_input\u001b[0;34m(self, prompt)\u001b[0m\n\u001b[1;32m   1175\u001b[0m                 \u001b[0;34m\"raw_input was called, but this frontend does not support input requests.\"\u001b[0m\u001b[0;34m\u001b[0m\u001b[0;34m\u001b[0m\u001b[0m\n\u001b[1;32m   1176\u001b[0m             )\n\u001b[0;32m-> 1177\u001b[0;31m         return self._input_request(\n\u001b[0m\u001b[1;32m   1178\u001b[0m             \u001b[0mstr\u001b[0m\u001b[0;34m(\u001b[0m\u001b[0mprompt\u001b[0m\u001b[0;34m)\u001b[0m\u001b[0;34m,\u001b[0m\u001b[0;34m\u001b[0m\u001b[0;34m\u001b[0m\u001b[0m\n\u001b[1;32m   1179\u001b[0m             \u001b[0mself\u001b[0m\u001b[0;34m.\u001b[0m\u001b[0m_parent_ident\u001b[0m\u001b[0;34m[\u001b[0m\u001b[0;34m\"shell\"\u001b[0m\u001b[0;34m]\u001b[0m\u001b[0;34m,\u001b[0m\u001b[0;34m\u001b[0m\u001b[0;34m\u001b[0m\u001b[0m\n",
            "\u001b[0;32m/usr/local/lib/python3.11/dist-packages/ipykernel/kernelbase.py\u001b[0m in \u001b[0;36m_input_request\u001b[0;34m(self, prompt, ident, parent, password)\u001b[0m\n\u001b[1;32m   1217\u001b[0m             \u001b[0;32mexcept\u001b[0m \u001b[0mKeyboardInterrupt\u001b[0m\u001b[0;34m:\u001b[0m\u001b[0;34m\u001b[0m\u001b[0;34m\u001b[0m\u001b[0m\n\u001b[1;32m   1218\u001b[0m                 \u001b[0;31m# re-raise KeyboardInterrupt, to truncate traceback\u001b[0m\u001b[0;34m\u001b[0m\u001b[0;34m\u001b[0m\u001b[0m\n\u001b[0;32m-> 1219\u001b[0;31m                 \u001b[0;32mraise\u001b[0m \u001b[0mKeyboardInterrupt\u001b[0m\u001b[0;34m(\u001b[0m\u001b[0;34m\"Interrupted by user\"\u001b[0m\u001b[0;34m)\u001b[0m \u001b[0;32mfrom\u001b[0m \u001b[0;32mNone\u001b[0m\u001b[0;34m\u001b[0m\u001b[0;34m\u001b[0m\u001b[0m\n\u001b[0m\u001b[1;32m   1220\u001b[0m             \u001b[0;32mexcept\u001b[0m \u001b[0mException\u001b[0m\u001b[0;34m:\u001b[0m\u001b[0;34m\u001b[0m\u001b[0;34m\u001b[0m\u001b[0m\n\u001b[1;32m   1221\u001b[0m                 \u001b[0mself\u001b[0m\u001b[0;34m.\u001b[0m\u001b[0mlog\u001b[0m\u001b[0;34m.\u001b[0m\u001b[0mwarning\u001b[0m\u001b[0;34m(\u001b[0m\u001b[0;34m\"Invalid Message:\"\u001b[0m\u001b[0;34m,\u001b[0m \u001b[0mexc_info\u001b[0m\u001b[0;34m=\u001b[0m\u001b[0;32mTrue\u001b[0m\u001b[0;34m)\u001b[0m\u001b[0;34m\u001b[0m\u001b[0;34m\u001b[0m\u001b[0m\n",
            "\u001b[0;31mKeyboardInterrupt\u001b[0m: Interrupted by user"
          ]
        }
      ],
      "source": [
        "class RNN(nn.Module):\n",
        "  #nn.RNN\n",
        "  def __init__(self,input_size,hidden_size,output_size):\n",
        "    super(RNN,self).__init__()\n",
        "\n",
        "    self.hidden_size=hidden_size\n",
        "    self.i2h=nn.Linear(input_size+hidden_size,hidden_size)\n",
        "    self.i2o=nn.Linear(input_size+hidden_size,output_size)\n",
        "    self.softmax=nn.LogSoftmax(dim=1)# 1 x 57\n",
        "\n",
        "  def forward(self,input_tensor,hidden_tensor):\n",
        "    combined=torch.cat((input_tensor,hidden_tensor),1)\n",
        "    hidden=self.i2h(combined)\n",
        "    output=self.i2o(combined)\n",
        "    output=self.softmax(output)\n",
        "    return output,hidden\n",
        "\n",
        "\n",
        "  def init_hidden(self):\n",
        "    return torch.zeros(1,self.hidden_size)\n",
        "\n",
        "category_lines,all_categories=load_data()\n",
        "n_categories=len(all_categories)\n",
        "print(n_categories)\n",
        "n_hidden=128\n",
        "rnn=RNN(N_LETTERS,n_hidden,n_categories)\n",
        "\n",
        "# #one step\n",
        "input_tensor=letter_to_tensor('A')\n",
        "hidden_tensor=rnn.init_hidden()\n",
        "\n",
        "output,next_hidden=rnn(input_tensor,hidden_tensor)\n",
        "# print(output.size())\n",
        "# print(next_hidden.size())\n",
        "\n",
        "\n",
        "# #whole sequence/name\n",
        "input_tensor=line_to_tensor('Albert')\n",
        "hidden_tensor=rnn.init_hidden()\n",
        "\n",
        "output,next_hidden=rnn(input_tensor[0],hidden_tensor)\n",
        "# print(output.size())\n",
        "# print(next_hidden.size())\n",
        "\n",
        "\n",
        "def category_from_output(output):\n",
        "  category_idx=torch.argmax(output).item()\n",
        "  return all_categories[category_idx]\n",
        "\n",
        "print(category_from_output(output))\n",
        "\n",
        "criterion = nn.NLLLoss()\n",
        "learning_rate=0.895\n",
        "optimizer=torch.optim.SGD(rnn.parameters(),lr=learning_rate)\n",
        "\n",
        "def train(line_tensor,category_tensor):\n",
        "  hidden=rnn.init_hidden()\n",
        "  optimizer.zero_grad()\n",
        "\n",
        "  for i in range(line_tensor.size()[0]):\n",
        "    output,hidden=rnn(line_tensor[i],hidden)\n",
        "\n",
        "\n",
        "  loss=criterion(output,category_tensor)\n",
        "\n",
        "  optimizer.zero_grad()\n",
        "  loss.backward()\n",
        "  optimizer.step()\n",
        "\n",
        "  return output,loss.item()\n",
        "\n",
        "current_loss=0\n",
        "all_losses=[]\n",
        "plot_step,print_step=1000,5000\n",
        "n_iters=100000\n",
        "for i in range(n_iters):\n",
        "  category,line,category_tensor,line_tensor=random_training_example(category_lines,all_categories)\n",
        "  output,loss=train(line_tensor,category_tensor)\n",
        "  current_loss+=loss\n",
        "\n",
        "  if (i+1)%plot_step==0:\n",
        "    all_losses.append(current_loss/plot_step)\n",
        "    current_loss=0\n",
        "\n",
        "  if (i+1) % print_step == 0:\n",
        "      guess = category_from_output(output)\n",
        "      correct = \"CORRECT\" if guess == category else f\"WRONG ({category})\"\n",
        "      print(f\"{i+1} {(i+1)/n_iters*100} {loss:.4f} {line} / {guess} {correct}\")\n",
        "\n",
        "plt.figure()\n",
        "plt.plot(all_losses)\n",
        "plt.show()\n",
        "\n",
        "def predict(input_line):\n",
        "  print(f\"\\n>{input_line}\")\n",
        "  with torch.no_grad():\n",
        "    line_tensor=line_to_tensor(input_line)\n",
        "    hidden=rnn.init_hidden()\n",
        "\n",
        "    for i in range(line_tensor.size()[0]):\n",
        "      output,hidden=rnn(line_tensor[i],hidden)\n",
        "\n",
        "    guess=category_from_output(output)\n",
        "    print(guess)\n",
        "\n",
        "\n",
        "\n",
        "\n",
        "\n",
        "\n",
        "while True:\n",
        "  sentence=input(\"Input:\")\n",
        "  if sentence==\"quit\":\n",
        "    break\n",
        "\n",
        "  predict(sentence)\n",
        "\n"
      ]
    },
    {
      "cell_type": "code",
      "execution_count": null,
      "metadata": {
        "colab": {
          "background_save": true,
          "base_uri": "https://localhost:8080/",
          "height": 864
        },
        "id": "rM3xB5ck7DzI",
        "outputId": "941b97b1-3efa-405b-f9f6-226c9bb51d69"
      },
      "outputs": [
        {
          "metadata": {
            "tags": null
          },
          "name": "stdout",
          "output_type": "stream",
          "text": [
            "Chinese\n",
            "5000 5.0 2.4509 Rosario / Italian WRONG (Portuguese)\n",
            "10000 10.0 0.4252 Antonopoulos / Greek CORRECT\n",
            "15000 15.0 3.2213 Philips / Japanese WRONG (Dutch)\n",
            "20000 20.0 1.4787 Stramba / Czech CORRECT\n",
            "25000 25.0 3.2263 Reynold / English WRONG (Irish)\n",
            "30000 30.0 1.1221 Jong / Chinese WRONG (Korean)\n",
            "35000 35.0 0.3949 Vuong / Vietnamese CORRECT\n",
            "40000 40.0 0.5534 Dubhan / Irish CORRECT\n",
            "45000 45.0 1.2195 Kaza / Japanese CORRECT\n",
            "50000 50.0 1.9195 Kaluza / Czech WRONG (Polish)\n",
            "55000 55.00000000000001 0.9254 Damhain / Irish CORRECT\n",
            "60000 60.0 0.9306 Zhuo / Chinese CORRECT\n",
            "65000 65.0 1.3398 Bitar / Arabic CORRECT\n",
            "70000 70.0 1.2014 Rong / Korean WRONG (Chinese)\n",
            "75000 75.0 2.0145 Fallon / Scottish WRONG (English)\n",
            "80000 80.0 0.6183 Pereira / Portuguese CORRECT\n",
            "85000 85.0 2.4800 Pinter / German WRONG (Czech)\n",
            "90000 90.0 0.5828 Sobol / Polish CORRECT\n",
            "95000 95.0 0.8448 Yin / Korean WRONG (Chinese)\n",
            "100000 100.0 1.1030 Damhan / Irish CORRECT\n"
          ]
        },
        {
          "data": {
            "image/png": "[encoded data removed]",
            "text/plain": [
              "<Figure size 640x480 with 1 Axes>"
            ]
          },
          "metadata": {},
          "output_type": "display_data"
        },
        {
          "output_type": "stream",
          "name": "stdout",
          "text": [
            "Input:joe\n",
            "\n",
            "> joe\n",
            "Korean\n"
          ]
        }
      ],
      "source": [
        "import torch\n",
        "import torch.nn as nn\n",
        "import matplotlib.pyplot as plt\n",
        "\n",
        "\n",
        "\n",
        "class RNN(nn.Module):\n",
        "    # implement RNN from scratch rather than using nn.RNN\n",
        "    def __init__(self, input_size, hidden_size, output_size):\n",
        "        super(RNN, self).__init__()\n",
        "\n",
        "        self.hidden_size = hidden_size\n",
        "        self.i2h = nn.Linear(input_size + hidden_size, hidden_size)\n",
        "        self.i2o = nn.Linear(input_size + hidden_size, output_size)\n",
        "        self.softmax = nn.LogSoftmax(dim=1)\n",
        "\n",
        "    def forward(self, input_tensor, hidden_tensor):\n",
        "        combined = torch.cat((input_tensor, hidden_tensor), 1)\n",
        "\n",
        "        hidden = self.i2h(combined)\n",
        "        output = self.i2o(combined)\n",
        "        output = self.softmax(output)\n",
        "        return output, hidden\n",
        "\n",
        "    def init_hidden(self):\n",
        "        return torch.zeros(1, self.hidden_size)\n",
        "\n",
        "category_lines, all_categories = load_data()\n",
        "n_categories = len(all_categories)\n",
        "\n",
        "n_hidden = 128\n",
        "rnn = RNN(N_LETTERS, n_hidden, n_categories)\n",
        "\n",
        "# one step\n",
        "input_tensor = letter_to_tensor('A')\n",
        "hidden_tensor = rnn.init_hidden()\n",
        "\n",
        "output, next_hidden = rnn(input_tensor, hidden_tensor)\n",
        "#print(output.size())\n",
        "#print(next_hidden.size())\n",
        "\n",
        "# whole sequence/name\n",
        "input_tensor = line_to_tensor('Albert')\n",
        "hidden_tensor = rnn.init_hidden()\n",
        "\n",
        "output, next_hidden = rnn(input_tensor[0], hidden_tensor)\n",
        "#print(output.size())\n",
        "#print(next_hidden.size())\n",
        "\n",
        "#\n",
        "def category_from_output(output):\n",
        "    category_idx = torch.argmax(output).item()\n",
        "    return all_categories[category_idx]\n",
        "\n",
        "print(category_from_output(output))\n",
        "\n",
        "criterion = nn.NLLLoss()\n",
        "learning_rate = 0.005\n",
        "optimizer = torch.optim.SGD(rnn.parameters(), lr=learning_rate)\n",
        "\n",
        "def train(line_tensor, category_tensor):\n",
        "    hidden = rnn.init_hidden()\n",
        "\n",
        "    for i in range(line_tensor.size()[0]):\n",
        "        output, hidden = rnn(line_tensor[i], hidden)\n",
        "\n",
        "    loss = criterion(output, category_tensor)\n",
        "\n",
        "    optimizer.zero_grad()\n",
        "    loss.backward()\n",
        "    optimizer.step()\n",
        "\n",
        "    return output, loss.item()\n",
        "\n",
        "current_loss = 0\n",
        "all_losses = []\n",
        "plot_steps, print_steps = 1000, 5000\n",
        "n_iters = 100000\n",
        "for i in range(n_iters):\n",
        "    category, line, category_tensor, line_tensor = random_training_example(category_lines, all_categories)\n",
        "\n",
        "    output, loss = train(line_tensor, category_tensor)\n",
        "    current_loss += loss\n",
        "\n",
        "    if (i+1) % plot_steps == 0:\n",
        "        all_losses.append(current_loss / plot_steps)\n",
        "        current_loss = 0\n",
        "\n",
        "    if (i+1) % print_steps == 0:\n",
        "        guess = category_from_output(output)\n",
        "        correct = \"CORRECT\" if guess == category else f\"WRONG ({category})\"\n",
        "        print(f\"{i+1} {(i+1)/n_iters*100} {loss:.4f} {line} / {guess} {correct}\")\n",
        "\n",
        "\n",
        "plt.figure()\n",
        "plt.plot(all_losses)\n",
        "plt.show()\n",
        "\n",
        "def predict(input_line):\n",
        "    print(f\"\\n> {input_line}\")\n",
        "    with torch.no_grad():\n",
        "        line_tensor = line_to_tensor(input_line)\n",
        "\n",
        "        hidden = rnn.init_hidden()\n",
        "\n",
        "        for i in range(line_tensor.size()[0]):\n",
        "            output, hidden = rnn(line_tensor[i], hidden)\n",
        "\n",
        "        guess = category_from_output(output)\n",
        "        print(guess)\n",
        "\n",
        "\n",
        "while True:\n",
        "    sentence = input(\"Input:\")\n",
        "    if sentence == \"quit\":\n",
        "        break\n",
        "\n",
        "    predict(sentence)\n"
      ]
    },
    {
      "cell_type": "code",
      "execution_count": null,
      "metadata": {
        "id": "vlFLBh-syfyV"
      },
      "outputs": [],
      "source": []
    },
    {
      "cell_type": "code",
      "execution_count": null,
      "metadata": {
        "id": "2K_txhLYyf1P"
      },
      "outputs": [],
      "source": []
    },
    {
      "cell_type": "code",
      "execution_count": null,
      "metadata": {
        "id": "LituvgtOyf4I"
      },
      "outputs": [],
      "source": []
    },
    {
      "cell_type": "code",
      "execution_count": null,
      "metadata": {
        "id": "rO-NnzYZyf7D"
      },
      "outputs": [],
      "source": []
    },
    {
      "cell_type": "code",
      "execution_count": null,
      "metadata": {
        "id": "MbFg6-5pyf92"
      },
      "outputs": [],
      "source": []
    },
    {
      "cell_type": "code",
      "execution_count": null,
      "metadata": {
        "id": "sdMjJmS4ygA3"
      },
      "outputs": [],
      "source": []
    },
    {
      "cell_type": "code",
      "execution_count": null,
      "metadata": {
        "id": "g8h6UNoyygD1"
      },
      "outputs": [],
      "source": []
    },
    {
      "cell_type": "code",
      "execution_count": null,
      "metadata": {
        "id": "1SEMnX8xygGa"
      },
      "outputs": [],
      "source": []
    },
    {
      "cell_type": "code",
      "execution_count": null,
      "metadata": {
        "id": "smBGO-wcygJS"
      },
      "outputs": [],
      "source": []
    }
  ],
  "metadata": {
    "colab": {
      "provenance": []
    },
    "kernelspec": {
      "display_name": "Python 3",
      "name": "python3"
    },
    "language_info": {
      "name": "python"
    }
  },
  "nbformat": 4,
  "nbformat_minor": 0
}