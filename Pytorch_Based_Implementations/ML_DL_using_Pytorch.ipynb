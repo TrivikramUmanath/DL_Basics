{
  "nbformat": 4,
  "nbformat_minor": 0,
  "metadata": {
    "colab": {
      "provenance": [],
      "gpuType": "T4"
    },
    "kernelspec": {
      "name": "python3",
      "display_name": "Python 3"
    },
    "language_info": {
      "name": "python"
    },
    "accelerator": "GPU"
  },
  "cells": [
    {
      "cell_type": "markdown",
      "source": [
        "#First tut"
      ],
      "metadata": {
        "id": "JBW0PfZInM1H"
      }
    },
    {
      "cell_type": "code",
      "source": [
        "import torch"
      ],
      "metadata": {
        "id": "vluEH8VO1UEd"
      },
      "execution_count": null,
      "outputs": []
    },
    {
      "cell_type": "code",
      "source": [
        "x=torch.empty(2,3)\n",
        "x"
      ],
      "metadata": {
        "colab": {
          "base_uri": "https://localhost:8080/"
        },
        "id": "f60XUL7N1eL-",
        "outputId": "67b6d0fe-400a-4779-95e4-ceba03b5df86"
      },
      "execution_count": null,
      "outputs": [
        {
          "output_type": "execute_result",
          "data": {
            "text/plain": [
              "tensor([[1.6816e-44, 4.3631e-41, 4.4593e-28],\n",
              "        [0.0000e+00, 1.5512e-42, 4.3631e-41]])"
            ]
          },
          "metadata": {},
          "execution_count": 2
        }
      ]
    },
    {
      "cell_type": "code",
      "source": [
        "x=torch.rand(2,2)\n",
        "print(x)"
      ],
      "metadata": {
        "colab": {
          "base_uri": "https://localhost:8080/"
        },
        "id": "4UbJH64W4ohF",
        "outputId": "7c5c68af-37fb-4adb-e726-c7ac3aa303fd"
      },
      "execution_count": null,
      "outputs": [
        {
          "output_type": "stream",
          "name": "stdout",
          "text": [
            "tensor([[0.6950, 0.0949],\n",
            "        [0.9550, 0.8082]])\n"
          ]
        }
      ]
    },
    {
      "cell_type": "code",
      "source": [
        "x=torch.zeros(2,2)\n",
        "print(x)"
      ],
      "metadata": {
        "colab": {
          "base_uri": "https://localhost:8080/"
        },
        "id": "wW1DrB7B4o9_",
        "outputId": "a74768d1-909d-41a9-a819-0f683bad1319"
      },
      "execution_count": null,
      "outputs": [
        {
          "output_type": "stream",
          "name": "stdout",
          "text": [
            "tensor([[0., 0.],\n",
            "        [0., 0.]])\n"
          ]
        }
      ]
    },
    {
      "cell_type": "code",
      "source": [
        "x=torch.ones(2,2)\n",
        "print(x)"
      ],
      "metadata": {
        "colab": {
          "base_uri": "https://localhost:8080/"
        },
        "id": "E7aRD8nDhsTS",
        "outputId": "bb2f28ce-7057-46c3-e617-1bba9cec09b1"
      },
      "execution_count": null,
      "outputs": [
        {
          "output_type": "stream",
          "name": "stdout",
          "text": [
            "tensor([[1., 1.],\n",
            "        [1., 1.]])\n"
          ]
        }
      ]
    },
    {
      "cell_type": "code",
      "source": [
        "x=torch.ones(2,2,dtype=torch.float16)\n",
        "print(x.size())"
      ],
      "metadata": {
        "colab": {
          "base_uri": "https://localhost:8080/"
        },
        "id": "58WBu8Oyhta5",
        "outputId": "3e28b5ef-d0dc-44a4-c1e1-9deb504900c4"
      },
      "execution_count": null,
      "outputs": [
        {
          "output_type": "stream",
          "name": "stdout",
          "text": [
            "torch.Size([2, 2])\n"
          ]
        }
      ]
    },
    {
      "cell_type": "code",
      "source": [
        "x=torch.tensor([2.5,0.1])\n",
        "print(x)"
      ],
      "metadata": {
        "colab": {
          "base_uri": "https://localhost:8080/"
        },
        "id": "G1axu6Z9hzYd",
        "outputId": "c521b1ff-bb9e-4f5d-dbd7-f124e2068a95"
      },
      "execution_count": null,
      "outputs": [
        {
          "output_type": "stream",
          "name": "stdout",
          "text": [
            "tensor([2.5000, 0.1000])\n"
          ]
        }
      ]
    },
    {
      "cell_type": "code",
      "source": [
        "x=torch.rand(2,2)\n",
        "y=torch.rand(2,2)\n",
        "print(x)\n",
        "print(y)\n",
        "z=x*y\n",
        "z=torch.add(x,y)\n",
        "print(z)"
      ],
      "metadata": {
        "colab": {
          "base_uri": "https://localhost:8080/"
        },
        "id": "e7iyknJah44Y",
        "outputId": "eddce243-f683-4682-be5f-ea70ae164470"
      },
      "execution_count": null,
      "outputs": [
        {
          "output_type": "stream",
          "name": "stdout",
          "text": [
            "tensor([[0.8580, 0.5012],\n",
            "        [0.0898, 0.9346]])\n",
            "tensor([[0.3725, 0.1677],\n",
            "        [0.7597, 0.9135]])\n",
            "tensor([[1.2305, 0.6690],\n",
            "        [0.8495, 1.8481]])\n"
          ]
        }
      ]
    },
    {
      "cell_type": "code",
      "source": [
        "y.add_(x)\n",
        "print(y)#inplace"
      ],
      "metadata": {
        "colab": {
          "base_uri": "https://localhost:8080/"
        },
        "id": "GRqPzfFtiBhN",
        "outputId": "0bbd7139-80da-4f40-f183-618b028f4e16"
      },
      "execution_count": null,
      "outputs": [
        {
          "output_type": "stream",
          "name": "stdout",
          "text": [
            "tensor([[1.2305, 0.6690],\n",
            "        [0.8495, 1.8481]])\n"
          ]
        }
      ]
    },
    {
      "cell_type": "code",
      "source": [
        "z=x-y\n",
        "z=torch.sub(x,y)\n",
        "print(z)"
      ],
      "metadata": {
        "colab": {
          "base_uri": "https://localhost:8080/"
        },
        "id": "YazbUU9tiIW4",
        "outputId": "74055a77-5032-4066-d587-aae04a672a91"
      },
      "execution_count": null,
      "outputs": [
        {
          "output_type": "stream",
          "name": "stdout",
          "text": [
            "tensor([[-0.3725, -0.1677],\n",
            "        [-0.7597, -0.9135]])\n"
          ]
        }
      ]
    },
    {
      "cell_type": "code",
      "source": [
        "z=x-y\n",
        "z=torch.mul(x,y)#elementwise multiplication\n",
        "print(z)"
      ],
      "metadata": {
        "colab": {
          "base_uri": "https://localhost:8080/"
        },
        "id": "MusyYyJ7iSBg",
        "outputId": "f3ecaa3b-ed51-4b30-f905-d9fc9a59fba9"
      },
      "execution_count": null,
      "outputs": [
        {
          "output_type": "stream",
          "name": "stdout",
          "text": [
            "tensor([[1.0557, 0.3353],\n",
            "        [0.0763, 1.7273]])\n"
          ]
        }
      ]
    },
    {
      "cell_type": "code",
      "source": [
        "z=torch.div(x,y)#elementwise\n",
        "print(z)"
      ],
      "metadata": {
        "colab": {
          "base_uri": "https://localhost:8080/"
        },
        "id": "jUI-6dwkidl9",
        "outputId": "b1fb31aa-5ae5-4ad2-f7d7-12cb5412312c"
      },
      "execution_count": null,
      "outputs": [
        {
          "output_type": "stream",
          "name": "stdout",
          "text": [
            "tensor([[0.6972, 0.7493],\n",
            "        [0.1057, 0.5057]])\n"
          ]
        }
      ]
    },
    {
      "cell_type": "code",
      "source": [
        "x=torch.rand(5,3)\n",
        "print(x)\n",
        "print(x[:,0])\n",
        "print(x[1,1])\n",
        "print(x[1,1].item())"
      ],
      "metadata": {
        "colab": {
          "base_uri": "https://localhost:8080/"
        },
        "id": "_zkrDsH2igJF",
        "outputId": "a420ddc3-796b-4917-9197-f6615f17e28d"
      },
      "execution_count": null,
      "outputs": [
        {
          "output_type": "stream",
          "name": "stdout",
          "text": [
            "tensor([[0.2579, 0.5842, 0.9500],\n",
            "        [0.4426, 0.8940, 0.1085],\n",
            "        [0.7387, 0.6834, 0.9880],\n",
            "        [0.3765, 0.4051, 0.9860],\n",
            "        [0.7920, 0.4026, 0.4235]])\n",
            "tensor([0.2579, 0.4426, 0.7387, 0.3765, 0.7920])\n",
            "tensor(0.8940)\n",
            "0.893976092338562\n"
          ]
        }
      ]
    },
    {
      "cell_type": "code",
      "source": [
        "x=torch.rand(4,4)\n",
        "print(x)\n",
        "y=x.view(16)\n",
        "print(y)\n",
        "y=x.view(-1,8)#-1 automatic\n",
        "print(y)"
      ],
      "metadata": {
        "colab": {
          "base_uri": "https://localhost:8080/"
        },
        "id": "NrfhpEmWi5mn",
        "outputId": "3118fffe-7186-47d4-ad2e-2959ea65b50b"
      },
      "execution_count": null,
      "outputs": [
        {
          "output_type": "stream",
          "name": "stdout",
          "text": [
            "tensor([[0.3095, 0.0192, 0.0435, 0.3550],\n",
            "        [0.4429, 0.1971, 0.6478, 0.6121],\n",
            "        [0.2224, 0.7938, 0.3916, 0.7702],\n",
            "        [0.3569, 0.7788, 0.7128, 0.1018]])\n",
            "tensor([0.3095, 0.0192, 0.0435, 0.3550, 0.4429, 0.1971, 0.6478, 0.6121, 0.2224,\n",
            "        0.7938, 0.3916, 0.7702, 0.3569, 0.7788, 0.7128, 0.1018])\n",
            "tensor([[0.3095, 0.0192, 0.0435, 0.3550, 0.4429, 0.1971, 0.6478, 0.6121],\n",
            "        [0.2224, 0.7938, 0.3916, 0.7702, 0.3569, 0.7788, 0.7128, 0.1018]])\n"
          ]
        }
      ]
    },
    {
      "cell_type": "code",
      "source": [
        "import torch\n",
        "import numpy as np\n"
      ],
      "metadata": {
        "id": "pl21MXd5jO0Z"
      },
      "execution_count": null,
      "outputs": []
    },
    {
      "cell_type": "code",
      "source": [
        "a=torch.ones(5)\n",
        "print(a)\n",
        "b=a.numpy()\n",
        "print(b)"
      ],
      "metadata": {
        "colab": {
          "base_uri": "https://localhost:8080/"
        },
        "id": "h01CRtYVjaZK",
        "outputId": "5a191982-771f-4b8a-f85e-892702499e36"
      },
      "execution_count": null,
      "outputs": [
        {
          "output_type": "stream",
          "name": "stdout",
          "text": [
            "tensor([1., 1., 1., 1., 1.])\n",
            "[1. 1. 1. 1. 1.]\n"
          ]
        }
      ]
    },
    {
      "cell_type": "code",
      "source": [
        "a.add_(1)\n",
        "print(a)\n",
        "print(b)"
      ],
      "metadata": {
        "colab": {
          "base_uri": "https://localhost:8080/"
        },
        "id": "ZL3mP9gdjf_M",
        "outputId": "e6c66eea-c578-4bea-bec4-99352acaa0fa"
      },
      "execution_count": null,
      "outputs": [
        {
          "output_type": "stream",
          "name": "stdout",
          "text": [
            "tensor([2., 2., 2., 2., 2.])\n",
            "[2. 2. 2. 2. 2.]\n"
          ]
        }
      ]
    },
    {
      "cell_type": "code",
      "source": [
        "a=np.ones(5)\n",
        "print(a)\n",
        "b=torch.from_numpy(a)\n",
        "print(b)"
      ],
      "metadata": {
        "colab": {
          "base_uri": "https://localhost:8080/"
        },
        "id": "hTMrxRLUjnnw",
        "outputId": "49ac6c02-6d6d-4b7a-f221-84796c4ec3c6"
      },
      "execution_count": null,
      "outputs": [
        {
          "output_type": "stream",
          "name": "stdout",
          "text": [
            "[1. 1. 1. 1. 1.]\n",
            "tensor([1., 1., 1., 1., 1.], dtype=torch.float64)\n"
          ]
        }
      ]
    },
    {
      "cell_type": "code",
      "source": [
        "a+=1\n",
        "print(a)\n",
        "print(b)"
      ],
      "metadata": {
        "colab": {
          "base_uri": "https://localhost:8080/"
        },
        "id": "b6c8XR_Mjv3b",
        "outputId": "0a3332a1-0002-45ec-edfa-8eadaf75dafc"
      },
      "execution_count": null,
      "outputs": [
        {
          "output_type": "stream",
          "name": "stdout",
          "text": [
            "[2. 2. 2. 2. 2.]\n",
            "tensor([2., 2., 2., 2., 2.], dtype=torch.float64)\n"
          ]
        }
      ]
    },
    {
      "cell_type": "code",
      "source": [
        "if torch.cuda.is_available():\n",
        "  device=torch.device(\"cuda\")\n",
        "  x=torch.ones(5,device=device)\n",
        "  y=torch.ones(5)\n",
        "  y=y.to(device)\n",
        "  z=x+y\n",
        "  # print(z)\n",
        "  z=z.to(\"cpu\")\n",
        "  print(z)"
      ],
      "metadata": {
        "colab": {
          "base_uri": "https://localhost:8080/"
        },
        "id": "YqEMgoZXj4oa",
        "outputId": "f413cde5-83f4-4070-b84c-deb5fc2f5f94"
      },
      "execution_count": null,
      "outputs": [
        {
          "output_type": "stream",
          "name": "stdout",
          "text": [
            "tensor([2., 2., 2., 2., 2.])\n"
          ]
        }
      ]
    },
    {
      "cell_type": "code",
      "source": [
        "torch.cuda.is_available()"
      ],
      "metadata": {
        "colab": {
          "base_uri": "https://localhost:8080/"
        },
        "id": "l7VFJLg9kFpl",
        "outputId": "70bfd228-f0e8-420d-efcb-b3bb9c9949da"
      },
      "execution_count": null,
      "outputs": [
        {
          "output_type": "execute_result",
          "data": {
            "text/plain": [
              "True"
            ]
          },
          "metadata": {},
          "execution_count": 21
        }
      ]
    },
    {
      "cell_type": "code",
      "source": [
        "x=torch.ones(5,requires_grad=True)\n",
        "print(x)"
      ],
      "metadata": {
        "colab": {
          "base_uri": "https://localhost:8080/"
        },
        "id": "TgCzW5BekYyE",
        "outputId": "0a17958a-2f19-4f15-ab56-0e446350251a"
      },
      "execution_count": null,
      "outputs": [
        {
          "output_type": "stream",
          "name": "stdout",
          "text": [
            "tensor([1., 1., 1., 1., 1.], requires_grad=True)\n"
          ]
        }
      ]
    },
    {
      "cell_type": "markdown",
      "source": [
        "# Second Tut"
      ],
      "metadata": {
        "id": "tby6AhBBnRCm"
      }
    },
    {
      "cell_type": "code",
      "source": [
        "import torch\n",
        "x=torch.randn(3,requires_grad=True)\n",
        "print(x)\n"
      ],
      "metadata": {
        "colab": {
          "base_uri": "https://localhost:8080/"
        },
        "id": "MVLHNgBQk2t-",
        "outputId": "3bcbfff1-4cae-4f1e-da6b-a59ac779d890"
      },
      "execution_count": null,
      "outputs": [
        {
          "output_type": "stream",
          "name": "stdout",
          "text": [
            "tensor([-0.1559,  0.5050, -0.4446], requires_grad=True)\n"
          ]
        }
      ]
    },
    {
      "cell_type": "code",
      "source": [
        "y=x+2\n",
        "print(y)\n",
        "z=y*y*2\n",
        "print(z)\n",
        "z=z.mean()\n",
        "print(z)\n",
        "z.backward() #dz/dx\n",
        "print(x.grad)"
      ],
      "metadata": {
        "colab": {
          "base_uri": "https://localhost:8080/"
        },
        "id": "wtG2Gp_8na1q",
        "outputId": "8e5621b1-0373-415d-ee0a-3b274cfb967e"
      },
      "execution_count": null,
      "outputs": [
        {
          "output_type": "stream",
          "name": "stdout",
          "text": [
            "tensor([1.8441, 2.5050, 1.5554], grad_fn=<AddBackward0>)\n",
            "tensor([ 6.8017, 12.5497,  4.8383], grad_fn=<MulBackward0>)\n",
            "tensor(8.0632, grad_fn=<MeanBackward0>)\n",
            "tensor([2.4588, 3.3400, 2.0738])\n"
          ]
        }
      ]
    },
    {
      "cell_type": "code",
      "source": [
        "z=y*y*2\n",
        "v=torch.tensor([0.1,1.0,0.01],dtype=torch.float32)\n",
        "z.backward(v)\n",
        "print(x.grad)"
      ],
      "metadata": {
        "colab": {
          "base_uri": "https://localhost:8080/"
        },
        "id": "sZK5vsyQpprp",
        "outputId": "9ee933ed-bb7a-4aa1-91c1-cd7233d88fff"
      },
      "execution_count": null,
      "outputs": [
        {
          "output_type": "stream",
          "name": "stdout",
          "text": [
            "tensor([ 3.1965, 13.3598,  2.1360])\n"
          ]
        }
      ]
    },
    {
      "cell_type": "code",
      "source": [
        "x.requires_grad_(False)\n",
        "print(x)"
      ],
      "metadata": {
        "colab": {
          "base_uri": "https://localhost:8080/"
        },
        "id": "0_T6-cpfngfC",
        "outputId": "42925813-53be-4a07-be63-085818059d5b"
      },
      "execution_count": null,
      "outputs": [
        {
          "output_type": "stream",
          "name": "stdout",
          "text": [
            "tensor([-0.1559,  0.5050, -0.4446])\n"
          ]
        }
      ]
    },
    {
      "cell_type": "code",
      "source": [
        "y=x.detach()\n",
        "print(y)"
      ],
      "metadata": {
        "colab": {
          "base_uri": "https://localhost:8080/"
        },
        "id": "jhYedCo4qUX6",
        "outputId": "df038608-0cc2-4ba1-df3a-4a6177a26eec"
      },
      "execution_count": null,
      "outputs": [
        {
          "output_type": "stream",
          "name": "stdout",
          "text": [
            "tensor([-0.1559,  0.5050, -0.4446])\n"
          ]
        }
      ]
    },
    {
      "cell_type": "code",
      "source": [
        "with torch.no_grad():\n",
        "  y=x+2\n",
        "  print(y)"
      ],
      "metadata": {
        "colab": {
          "base_uri": "https://localhost:8080/"
        },
        "id": "1IExx1OlrsYb",
        "outputId": "832fbcc0-ca54-4fc8-c596-0e78bbfda746"
      },
      "execution_count": null,
      "outputs": [
        {
          "output_type": "stream",
          "name": "stdout",
          "text": [
            "tensor([1.8441, 2.5050, 1.5554])\n"
          ]
        }
      ]
    },
    {
      "cell_type": "code",
      "source": [
        "weights=torch.ones(4,requires_grad=True)\n",
        "\n",
        "for epoch in range(3):\n",
        "  model_output=(weights*3).sum()\n",
        "  model_output.backward()\n",
        "\n",
        "  print(weights.grad)\n",
        "  # weights.grad.zero_()\n"
      ],
      "metadata": {
        "colab": {
          "base_uri": "https://localhost:8080/"
        },
        "id": "Tzpt8Z5ur0Bd",
        "outputId": "18d53007-71ad-40bc-e2f4-e07e07e9aaba"
      },
      "execution_count": null,
      "outputs": [
        {
          "output_type": "stream",
          "name": "stdout",
          "text": [
            "tensor([3., 3., 3., 3.])\n",
            "tensor([6., 6., 6., 6.])\n",
            "tensor([9., 9., 9., 9.])\n"
          ]
        }
      ]
    },
    {
      "cell_type": "code",
      "source": [],
      "metadata": {
        "id": "9oqmkV_4yOi_"
      },
      "execution_count": null,
      "outputs": []
    },
    {
      "cell_type": "markdown",
      "source": [
        "# Backpropagation Theory"
      ],
      "metadata": {
        "id": "grBKb8vryTPk"
      }
    },
    {
      "cell_type": "code",
      "source": [
        "import torch\n",
        "x=torch.tensor(1.0)\n",
        "y=torch.tensor(2.0)\n",
        "\n",
        "w=torch.tensor(1.0,requires_grad=True)\n",
        "\n",
        "y_hat=w*x\n",
        "loss=(y_hat-y)**2\n",
        "print(loss)\n",
        "loss.backward()\n",
        "print(w.grad)\n",
        "#backward pass above\n",
        "#update weights\n",
        "#next forward and backward pass"
      ],
      "metadata": {
        "colab": {
          "base_uri": "https://localhost:8080/"
        },
        "id": "RmowH2j8scxU",
        "outputId": "f662c594-bf8c-4887-a7ee-206ec3d04302"
      },
      "execution_count": null,
      "outputs": [
        {
          "output_type": "stream",
          "name": "stdout",
          "text": [
            "tensor(1., grad_fn=<PowBackward0>)\n",
            "tensor(-2.)\n"
          ]
        }
      ]
    },
    {
      "cell_type": "markdown",
      "source": [
        "#Gradientg Descent with AutoGrad and Bakckprop"
      ],
      "metadata": {
        "id": "VUVNP4ss2PWq"
      }
    },
    {
      "cell_type": "code",
      "source": [
        "import numpy as np\n",
        "\n",
        "#f=w*x\n",
        "#f=2*x\n",
        "\n",
        "X=np.array([1,2,3,4],dtype=np.float32)\n",
        "Y=np.array([2,4,6,8],dtype=np.float32)\n",
        "\n",
        "w=0.0\n",
        "\n",
        "#model prediction\n",
        "def forward(x):\n",
        "  return w * x\n",
        "\n",
        "# loss - MSE\n",
        "\n",
        "def loss(y,y_predicted):\n",
        "  return ((y_predicted-y)**2).mean()\n",
        "\n",
        "# gradient\n",
        "#MSE =1/N *(w*x-y)**2\n",
        "#dj/dx=1/N 2x(w*x-y)\n",
        "\n",
        "def gradient(x,y,y_predicted):\n",
        "  return np.dot(2*x,y_predicted-y).mean()\n",
        "\n",
        "\n",
        "print(\"Predictions before training:\" +str(forward(5)))\n",
        "\n",
        "#Training\n",
        "learning_rate=0.01\n",
        "n_iters=10\n",
        "\n",
        "for epoch in range(n_iters):\n",
        "  #predictions=forward pass\n",
        "  y_pred=forward(X)\n",
        "\n",
        "  #loss\n",
        "  l=loss(Y,y_pred)\n",
        "\n",
        "  #gradients\n",
        "  dw=gradient(X,Y,y_pred)\n",
        "\n",
        "  #update weights\n",
        "  w-=learning_rate*dw\n",
        "  if epoch%2 ==0:\n",
        "    print(f'epoch {epoch+1}: w={w:.3f}, loss={l:.8f}')\n",
        "\n",
        "print(\"Predictions after training:\" +str(forward(5)))\n"
      ],
      "metadata": {
        "colab": {
          "base_uri": "https://localhost:8080/"
        },
        "id": "AkbXdwlQ30bR",
        "outputId": "819327b6-d393-4b60-f73e-8616b6ecb319"
      },
      "execution_count": null,
      "outputs": [
        {
          "output_type": "stream",
          "name": "stdout",
          "text": [
            "Predictions before training:0.0\n",
            "epoch 1: w=1.200, loss=30.00000000\n",
            "epoch 3: w=1.872, loss=0.76800019\n",
            "epoch 5: w=1.980, loss=0.01966083\n",
            "epoch 7: w=1.997, loss=0.00050332\n",
            "epoch 9: w=1.999, loss=0.00001288\n",
            "Predictions after training:9.998952\n"
          ]
        }
      ]
    },
    {
      "cell_type": "code",
      "source": [
        "import torch\n",
        "#f=w*x\n",
        "#f=2*x\n",
        "\n",
        "X=torch.tensor([1,2,3,4],dtype=torch.float32)\n",
        "Y=torch.tensor([2,4,6,8],dtype=torch.float32)\n",
        "\n",
        "w=torch.tensor(0.0,dtype=torch.float32,requires_grad=True)\n",
        "\n",
        "#model prediction\n",
        "def forward(x):\n",
        "  return w * x\n",
        "\n",
        "# loss - MSE\n",
        "\n",
        "def loss(y,y_predicted):\n",
        "  return ((y_predicted-y)**2).mean()\n",
        "\n",
        "# gradient\n",
        "#MSE =1/N *(w*x-y)**2\n",
        "#dj/dx=1/N 2x(w*x-y)\n",
        "\n",
        "def gradient(x,y,y_predicted):\n",
        "  return np.dot(2*x,y_predicted-y).mean()\n",
        "\n",
        "\n",
        "print(\"Predictions before training:\" +str(forward(5)))\n",
        "\n",
        "#Training\n",
        "learning_rate=0.01\n",
        "n_iters=100\n",
        "\n",
        "for epoch in range(n_iters):\n",
        "  #predictions=forward pass\n",
        "  y_pred=forward(X)\n",
        "\n",
        "  #loss\n",
        "  l=loss(Y,y_pred)\n",
        "\n",
        "  #gradients\n",
        "  l.backward()\n",
        "\n",
        "  #update weights\n",
        "  with torch.no_grad():\n",
        "    w-=learning_rate*w.grad\n",
        "  w.grad.zero_()\n",
        "  if epoch%10 ==0:\n",
        "    print(f'epoch {epoch+1}: w={w:.3f}, loss={l:.8f}')\n",
        "\n",
        "print(\"Predictions after training:\" +str(forward(5)))\n"
      ],
      "metadata": {
        "colab": {
          "base_uri": "https://localhost:8080/"
        },
        "id": "eqNxSMHW5UVu",
        "outputId": "4f113c7a-a1ad-4f58-9aa3-ece1137c72ef"
      },
      "execution_count": null,
      "outputs": [
        {
          "output_type": "stream",
          "name": "stdout",
          "text": [
            "Predictions before training:tensor(0., grad_fn=<MulBackward0>)\n",
            "epoch 1: w=0.300, loss=30.00000000\n",
            "epoch 11: w=1.665, loss=1.16278565\n",
            "epoch 21: w=1.934, loss=0.04506890\n",
            "epoch 31: w=1.987, loss=0.00174685\n",
            "epoch 41: w=1.997, loss=0.00006770\n",
            "epoch 51: w=1.999, loss=0.00000262\n",
            "epoch 61: w=2.000, loss=0.00000010\n",
            "epoch 71: w=2.000, loss=0.00000000\n",
            "epoch 81: w=2.000, loss=0.00000000\n",
            "epoch 91: w=2.000, loss=0.00000000\n",
            "Predictions after training:tensor(10.0000, grad_fn=<MulBackward0>)\n"
          ]
        }
      ]
    },
    {
      "cell_type": "markdown",
      "source": [
        "#Pytorch Loss and Optimizer"
      ],
      "metadata": {
        "id": "tDyj1TFX6g_f"
      }
    },
    {
      "cell_type": "code",
      "source": [
        "#1 Design model,input and output size ,forward pass\n",
        "#2 Construct loss and optimizer\n",
        "#3 Training oss\n",
        "# - forwards pass: compute Prediction\n",
        "# - backward pass: gradients\n",
        "# - update weights\n",
        "\n",
        "\n",
        "import torch\n",
        "import torch.nn as nn\n",
        "#f=w*x\n",
        "#f=2*x\n",
        "\n",
        "X=torch.tensor([1,2,3,4],dtype=torch.float32)\n",
        "Y=torch.tensor([2,4,6,8],dtype=torch.float32)\n",
        "\n",
        "w=torch.tensor(0.0,dtype=torch.float32,requires_grad=True)\n",
        "\n",
        "#model prediction\n",
        "def forward(x):\n",
        "  return w * x\n",
        "\n",
        "# loss - MSE\n",
        "\n",
        "\n",
        "\n",
        "# gradient\n",
        "#MSE =1/N *(w*x-y)**2\n",
        "#dj/dx=1/N 2x(w*x-y)\n",
        "\n",
        "def gradient(x,y,y_predicted):\n",
        "  return np.dot(2*x,y_predicted-y).mean()\n",
        "\n",
        "\n",
        "print(\"Predictions before training:\" +str(forward(5)))\n",
        "\n",
        "#Training\n",
        "learning_rate=0.01\n",
        "n_iters=100\n",
        "\n",
        "losee=nn.MSELoss()\n",
        "optimizer=torch.optim.SGD([w],lr=learning_rate)\n",
        "\n",
        "for epoch in range(n_iters):\n",
        "  #predictions=forward pass\n",
        "  y_pred=forward(X)\n",
        "\n",
        "  #loss\n",
        "  l=loss(Y,y_pred)\n",
        "\n",
        "  #gradients\n",
        "  l.backward()\n",
        "\n",
        "  #update weights\n",
        "  optimizer.step()\n",
        "  optimizer.zero_grad()\n",
        "\n",
        "  if epoch%10 ==0:\n",
        "    print(f'epoch {epoch+1}: w={w:.3f}, loss={l:.8f}')\n",
        "\n",
        "print(\"Predictions after training:\" +str(forward(5)))\n"
      ],
      "metadata": {
        "colab": {
          "base_uri": "https://localhost:8080/"
        },
        "id": "GhjgZqXy57gB",
        "outputId": "329f8ab7-6293-4539-a025-30ad1b13f8ba"
      },
      "execution_count": null,
      "outputs": [
        {
          "output_type": "stream",
          "name": "stdout",
          "text": [
            "Predictions before training:tensor(0., grad_fn=<MulBackward0>)\n",
            "epoch 1: w=0.300, loss=30.00000000\n",
            "epoch 11: w=1.665, loss=1.16278565\n",
            "epoch 21: w=1.934, loss=0.04506890\n",
            "epoch 31: w=1.987, loss=0.00174685\n",
            "epoch 41: w=1.997, loss=0.00006770\n",
            "epoch 51: w=1.999, loss=0.00000262\n",
            "epoch 61: w=2.000, loss=0.00000010\n",
            "epoch 71: w=2.000, loss=0.00000000\n",
            "epoch 81: w=2.000, loss=0.00000000\n",
            "epoch 91: w=2.000, loss=0.00000000\n",
            "Predictions after training:tensor(10.0000, grad_fn=<MulBackward0>)\n"
          ]
        }
      ]
    },
    {
      "cell_type": "code",
      "source": [
        "#1 Design model,input and output size ,forward pass\n",
        "#2 Construct loss and optimizer\n",
        "#3 Training oss\n",
        "# - forwards pass: compute Prediction\n",
        "# - backward pass: gradients\n",
        "# - update weights\n",
        "\n",
        "\n",
        "import torch\n",
        "import torch.nn as nn\n",
        "#f=w*x\n",
        "#f=2*x\n",
        "\n",
        "X=torch.tensor([[1],[2],[3],[4]],dtype=torch.float32)\n",
        "Y=torch.tensor([[2],[4],[6],[8]],dtype=torch.float32)\n",
        "\n",
        "X_test=torch.tensor([5],dtype=torch.float32)\n",
        "\n",
        "n_samples,n_features=X.shape\n",
        "print(n_samples,n_features)\n",
        "input_size=n_features\n",
        "output_size=n_features\n",
        "\n",
        "#model=nn.Linear(input_size,output_size)\n",
        "model=nn.Linear(input_size,output_size)\n",
        "\n",
        "\n",
        "print(\"Predictions before training:\" +str(model(X_test).item()))\n",
        "\n",
        "#Training\n",
        "learning_rate=0.01\n",
        "n_iters=100\n",
        "\n",
        "losee=nn.MSELoss()\n",
        "optimizer=torch.optim.SGD(model.parameters(),lr=learning_rate)\n",
        "\n",
        "for epoch in range(n_iters):\n",
        "  #predictions=forward pass\n",
        "  y_pred=model(X)\n",
        "\n",
        "  #loss\n",
        "  l=loss(Y,y_pred)\n",
        "\n",
        "  #gradients\n",
        "  l.backward()\n",
        "\n",
        "  #update weights\n",
        "  optimizer.step()\n",
        "  optimizer.zero_grad()\n",
        "\n",
        "  if epoch%10 ==0:\n",
        "    [w,b]=model.parameters()\n",
        "    print(f'epoch {epoch+1}: w={w[0][0].item():.3f}, loss={l:.8f}')\n",
        "\n",
        "print(\"Predictions after training:\" +str(model(X_test).item()))\n"
      ],
      "metadata": {
        "colab": {
          "base_uri": "https://localhost:8080/"
        },
        "id": "14Mqzkkf74Vi",
        "outputId": "aada259e-2de5-4e77-f142-597a903bec86"
      },
      "execution_count": null,
      "outputs": [
        {
          "output_type": "stream",
          "name": "stdout",
          "text": [
            "4 1\n",
            "Predictions before training:0.9409337043762207\n",
            "epoch 1: w=0.270, loss=21.70866013\n",
            "epoch 11: w=1.343, loss=0.85331571\n",
            "epoch 21: w=1.526, loss=0.29676181\n",
            "epoch 31: w=1.567, loss=0.26637435\n",
            "epoch 41: w=1.584, loss=0.25053054\n",
            "epoch 51: w=1.597, loss=0.23593962\n",
            "epoch 61: w=1.609, loss=0.22220656\n",
            "epoch 71: w=1.620, loss=0.20927308\n",
            "epoch 81: w=1.632, loss=0.19709229\n",
            "epoch 91: w=1.643, loss=0.18562056\n",
            "Predictions after training:9.283207893371582\n"
          ]
        }
      ]
    },
    {
      "cell_type": "code",
      "source": [
        "#1 Design model,input and output size ,forward pass\n",
        "#2 Construct loss and optimizer\n",
        "#3 Training oss\n",
        "# - forwards pass: compute Prediction\n",
        "# - backward pass: gradients\n",
        "# - update weights\n",
        "\n",
        "\n",
        "import torch\n",
        "import torch.nn as nn\n",
        "#f=w*x\n",
        "#f=2*x\n",
        "\n",
        "X=torch.tensor([[1],[2],[3],[4]],dtype=torch.float32)\n",
        "Y=torch.tensor([[2],[4],[6],[8]],dtype=torch.float32)\n",
        "\n",
        "X_test=torch.tensor([5],dtype=torch.float32)\n",
        "\n",
        "n_samples,n_features=X.shape\n",
        "print(n_samples,n_features)\n",
        "input_size=n_features\n",
        "output_size=n_features\n",
        "\n",
        "#model=nn.Linear(input_size,output_size)\n",
        "# model=nn.Linear(input_size,output_size)\n",
        "\n",
        "\n",
        "# 1 Design model, input and output size, forward pass\n",
        "class LinearRegression(nn.Module):\n",
        "\n",
        "  def __init__(self, input_dim, output_dim):  # Corrected: __init__ not _init_\n",
        "    super(LinearRegression, self).__init__()\n",
        "    # define layers\n",
        "    self.lin = nn.Linear(input_dim, output_dim)\n",
        "\n",
        "  def forward(self, x):\n",
        "    return self.lin(x)\n",
        "\n",
        "\n",
        "model = LinearRegression(input_size, output_size)\n",
        "\n",
        "\n",
        "print(\"Predictions before training:\" +str(model(X_test).item()))\n",
        "\n",
        "#Training\n",
        "learning_rate=0.01\n",
        "n_iters=100\n",
        "\n",
        "losee=nn.MSELoss()\n",
        "optimizer=torch.optim.SGD(model.parameters(),lr=learning_rate)\n",
        "\n",
        "for epoch in range(n_iters):\n",
        "  #predictions=forward pass\n",
        "  y_pred=model(X)\n",
        "\n",
        "  #loss\n",
        "  l=loss(Y,y_pred)\n",
        "\n",
        "  #gradients\n",
        "  l.backward()\n",
        "\n",
        "  #update weights\n",
        "  optimizer.step()\n",
        "  optimizer.zero_grad()\n",
        "\n",
        "  if epoch%10 ==0:\n",
        "    [w,b]=model.parameters()\n",
        "    print(f'epoch {epoch+1}: w={w[0][0].item():.3f}, loss={l:.8f}')\n",
        "\n",
        "print(\"Predictions after training:\" +str(model(X_test).item()))\n"
      ],
      "metadata": {
        "colab": {
          "base_uri": "https://localhost:8080/"
        },
        "id": "POlq_SYB9v45",
        "outputId": "29c53621-f1b3-420b-8f73-ec38e85c9d00"
      },
      "execution_count": null,
      "outputs": [
        {
          "output_type": "stream",
          "name": "stdout",
          "text": [
            "4 1\n",
            "Predictions before training:-3.40451717376709\n",
            "epoch 1: w=-0.383, loss=51.42938995\n",
            "epoch 11: w=1.268, loss=1.57779241\n",
            "epoch 21: w=1.544, loss=0.27362490\n",
            "epoch 31: w=1.598, loss=0.22633247\n",
            "epoch 41: w=1.616, loss=0.21234727\n",
            "epoch 51: w=1.629, loss=0.19996659\n",
            "epoch 61: w=1.640, loss=0.18832690\n",
            "epoch 71: w=1.651, loss=0.17736535\n",
            "epoch 81: w=1.661, loss=0.16704182\n",
            "epoch 91: w=1.671, loss=0.15731907\n",
            "Predictions after training:9.34011173248291\n"
          ]
        }
      ]
    },
    {
      "cell_type": "markdown",
      "source": [
        "#Linear Regression using Pytorch"
      ],
      "metadata": {
        "id": "zDYBi3UyASjf"
      }
    },
    {
      "cell_type": "code",
      "source": [
        "#1 Design (input size,output size,forward pass)\n",
        "#2 Construct loss and optimizer\n",
        "#3 Training Loop\n",
        "    # -forward pass: compute predictions and loss\n",
        "    # -backward pass: gradients\n",
        "    # -update weights\n",
        "import torch\n",
        "import torch.nn as nn\n",
        "import numpy as np\n",
        "from sklearn import datasets\n",
        "import matplotlib.pyplot as plt\n",
        "\n",
        "x_numpy,y_numpy = datasets.make_regression(n_samples=100,n_features=1,noise=20,random_state=1)\n",
        "X=torch.from_numpy(x_numpy.astype(np.float32))\n",
        "Y=torch.from_numpy(y_numpy.astype(np.float32))\n",
        "Y=Y.view(Y.shape[0],1)\n",
        "n_samples,n_features=X.shape\n",
        "#Model\n",
        "input_size=n_features\n",
        "output_size=1\n",
        "model=nn.Linear(input_size,output_size)\n",
        "criteria=nn.MSELoss()\n",
        "optimizer=torch.optim.SGD(model.parameters(),lr=0.01)\n",
        "\n",
        "#Training\n",
        "num_epochs=100\n",
        "for epoch in range(num_epochs):\n",
        "  #forward pass and loss\n",
        "  y_predicted=model(X)\n",
        "  loss=criteria(y_predicted,Y)\n",
        "  #backward pass\n",
        "  loss.backward()\n",
        "  #update\n",
        "  optimizer.step()\n",
        "  #empty gradients\n",
        "  optimizer.zero_grad()\n",
        "\n",
        "  if epoch%10==0:\n",
        "    [w,b]=model.parameters()\n",
        "    print(f'epoch {epoch+1}: w={w[0][0].item():.3f}, loss={loss:.4f}')\n",
        "\n",
        " #plot\n",
        "predicted=model(X).detach().numpy()\n",
        "plt.plot(x_numpy,y_numpy,'ro')\n",
        "plt.plot(x_numpy,predicted,'b')\n",
        "plt.show()\n",
        "\n",
        "\n"
      ],
      "metadata": {
        "colab": {
          "base_uri": "https://localhost:8080/",
          "height": 618
        },
        "id": "kcpviQsD-9Ut",
        "outputId": "3adaa16d-127f-4dc0-84f5-e506a7c10452"
      },
      "execution_count": null,
      "outputs": [
        {
          "output_type": "stream",
          "name": "stdout",
          "text": [
            "epoch 1: w=1.256, loss=5735.5908\n",
            "epoch 11: w=13.201, loss=4250.7607\n",
            "epoch 21: w=23.380, loss=3176.5378\n",
            "epoch 31: w=32.056, loss=2398.5393\n",
            "epoch 41: w=39.451, loss=1834.5172\n",
            "epoch 51: w=45.757, loss=1425.2428\n",
            "epoch 61: w=51.134, loss=1128.0068\n",
            "epoch 71: w=55.721, loss=911.9692\n",
            "epoch 81: w=59.633, loss=754.8354\n",
            "epoch 91: w=62.972, loss=640.4691\n"
          ]
        },
        {
          "output_type": "display_data",
          "data": {
            "text/plain": [
              "<Figure size 640x480 with 1 Axes>"
            ],
            "image/png": "[encoded data removed]"
          },
          "metadata": {}
        }
      ]
    },
    {
      "cell_type": "markdown",
      "source": [
        "#Logistic Regression using Pytorch"
      ],
      "metadata": {
        "id": "NeoPElSNDVlB"
      }
    },
    {
      "cell_type": "code",
      "source": [
        "#1 Design (input size,output size,forward pass)\n",
        "#2 Construct loss and optimizer\n",
        "#3 Training Loop\n",
        "    # -forward pass: compute predictions and loss\n",
        "    # -backward pass: gradients\n",
        "    # -update weights\n",
        "import torch\n",
        "import torch.nn as nn\n",
        "import numpy as np\n",
        "from sklearn import datasets\n",
        "from sklearn.preprocessing import StandardScaler\n",
        "from sklearn.model_selection import train_test_split\n",
        "import matplotlib.pyplot as plt\n",
        "\n",
        "bc=datasets.load_breast_cancer()\n",
        "X,y=bc.data,bc.target\n",
        "\n",
        "n_samples,n_features=X.shape\n",
        "X_train,X_test,y_train,y_test=train_test_split(X,y,test_size=0.2,random_state=1234)\n",
        "sc=StandardScaler()\n",
        "X_train=sc.fit_transform(X_train)\n",
        "X_test=sc.transform(X_test)\n",
        "X_train=torch.from_numpy(X_train.astype(np.float32))\n",
        "X_test=torch.from_numpy(X_test.astype(np.float32))\n",
        "y_train=torch.from_numpy(y_train.astype(np.float32))\n",
        "y_test=torch.from_numpy(y_test.astype(np.float32))\n",
        "y_train=y_train.view(y_train.shape[0],1)\n",
        "y_test=y_test.view(y_test.shape[0],1)\n",
        "\n",
        "#f=wx+b,sigmoid at the end\n",
        "class LogisticRegression(nn.Module):\n",
        "  def __init__(self,n_input_features):\n",
        "    super(LogisticRegression,self).__init__()\n",
        "    self.linear=nn.Linear(n_input_features,1)\n",
        "\n",
        "  def forward(self,x):\n",
        "    y_predicted=torch.sigmoid(self.linear(x))\n",
        "    return y_predicted\n",
        "\n",
        "#Model\n",
        "model=LogisticRegression(n_features)\n",
        "#Loss and Optimizer\n",
        "criteria=nn.BCELoss()\n",
        "optimizer=torch.optim.SGD(model.parameters(),lr=0.01)\n",
        "\n",
        "#Training\n",
        "num_epochs=100\n",
        "for epoch in range(num_epochs):\n",
        "  #forward pass and loss\n",
        "  y_predicted=model(X_train)\n",
        "  loss=criteria(y_predicted,y_train)\n",
        "  #backward pass\n",
        "  loss.backward()\n",
        "  #update\n",
        "  optimizer.step()\n",
        "  #empty gradients\n",
        "  optimizer.zero_grad()\n",
        "\n",
        "  if (epoch+1)%10==0:\n",
        "    [w,b]=model.parameters()\n",
        "    print(f'epoch {epoch+1}: loss={loss:.4f}')\n",
        "\n",
        "with torch.no_grad():\n",
        "  y_predicted=model(X_test)\n",
        "  y_predicted_cls=y_predicted.round()\n",
        "  acc=y_predicted_cls.eq(y_test).sum()/float(y_test.shape[0])\n",
        "  print(f'accuracy={acc:.4f}')\n",
        "\n",
        "\n"
      ],
      "metadata": {
        "colab": {
          "base_uri": "https://localhost:8080/"
        },
        "id": "npa8pXioC-1M",
        "outputId": "e8d6b429-6926-45e5-dd41-33badb5a7836"
      },
      "execution_count": null,
      "outputs": [
        {
          "output_type": "stream",
          "name": "stdout",
          "text": [
            "epoch 10: loss=0.5298\n",
            "epoch 20: loss=0.4521\n",
            "epoch 30: loss=0.3992\n",
            "epoch 40: loss=0.3607\n",
            "epoch 50: loss=0.3313\n",
            "epoch 60: loss=0.3079\n",
            "epoch 70: loss=0.2888\n",
            "epoch 80: loss=0.2729\n",
            "epoch 90: loss=0.2593\n",
            "epoch 100: loss=0.2475\n",
            "accuracy=0.9211\n"
          ]
        }
      ]
    },
    {
      "cell_type": "markdown",
      "source": [
        "#Dataset and DataLoader"
      ],
      "metadata": {
        "id": "n4E5gx46HX3t"
      }
    },
    {
      "cell_type": "code",
      "source": [
        "'''\n",
        "epoch = 1 forward and backward pass of ALL training samples\n",
        "batch_size= number of training sample in one forward and backward pass\n",
        "number of iterations = number of passes,each pass using[batch_size] number of samples\n",
        "e.g 100 samples,batch_size=20 -->100/20=5 iterations for 1 epoch\n",
        "'''\n",
        "\n",
        "import torch\n",
        "import torchvision\n",
        "from torch.utils.data import Dataset,DataLoader\n",
        "import numpy as np\n",
        "import math\n",
        "\n",
        "class WineDataset(Dataset):\n",
        "  def __init__(self):\n",
        "    #data loading\n",
        "    xy= np.loadtxt('/content/WineQT.csv',delimiter=\",\",dtype=np.float32,skiprows=1)\n",
        "    self.x=torch.from_numpy(xy[:,1:])\n",
        "    self.y=torch.from_numpy(xy[:,[0]])\n",
        "    self.n_samples=xy.shape[0]\n",
        "\n",
        "  def __getitem__(self,index):\n",
        "    return self.x[index],self.y[index]\n",
        "\n",
        "  def __len__(self):\n",
        "    return self.n_samples\n",
        "\n",
        "\n",
        "dataset = WineDataset()\n",
        "# first_data = dataset[0]\n",
        "# features,labels = first_data\n",
        "# print(features,labels)\n",
        "\n",
        "dataloader=DataLoader(dataset=dataset,batch_size=4,shuffle=True,num_workers=2)\n",
        "datatiter=iter(dataloader)\n",
        "data=next(datatiter)\n",
        "features,labels=data\n",
        "print(features,labels)\n",
        "\n",
        "\n",
        "#training loop\n",
        "num_epochs=2\n",
        "total_samples=len(dataset)\n",
        "n_iterations=math.ceil(total_samples/4)\n",
        "print(total_samples,n_iterations)\n",
        "for epoch in range(num_epochs):\n",
        "  for i,(inputs,labels) in enumerate(dataloader):\n",
        "     # forward and backward,update (placeholders for actual model logic)\n",
        "\n",
        "     # --- ADDED CONDITION HERE TO MATCH VIDEO'S PRINT FREQUENCY ---\n",
        "     if (i + 1) % 5 == 0: # Print every 5th step\n",
        "       print(f'epoch {epoch+1}/{num_epochs}, step {i+1}/{n_iterations}, inputs shape: {inputs.shape}')\n",
        "\n",
        "print(\"\\nTraining loop simulation complete.\")\n",
        "\n",
        "# torchvision.datasets.MNIST()\n",
        "#fashion=mnist,tifar,coco\n"
      ],
      "metadata": {
        "colab": {
          "base_uri": "https://localhost:8080/"
        },
        "id": "GmXfMt-zGc-I",
        "outputId": "ced9a6a8-73fa-42d2-d7f0-d511f13dc19e"
      },
      "execution_count": null,
      "outputs": [
        {
          "output_type": "stream",
          "name": "stdout",
          "text": [
            "tensor([[7.1500e-01, 2.4000e-01, 2.1000e+00, 7.0000e-02, 5.0000e+00, 2.0000e+01,\n",
            "         9.9660e-01, 3.1200e+00, 5.9000e-01, 9.9000e+00, 5.0000e+00, 5.4200e+02],\n",
            "        [4.7000e-01, 4.9000e-01, 4.3000e+00, 8.5000e-02, 6.0000e+00, 4.7000e+01,\n",
            "         1.0021e+00, 3.3000e+00, 6.8000e-01, 1.2700e+01, 6.0000e+00, 5.5900e+02],\n",
            "        [3.6000e-01, 3.0000e-01, 1.6000e+00, 8.0000e-02, 3.5000e+01, 7.0000e+01,\n",
            "         9.9693e-01, 3.4400e+00, 5.0000e-01, 9.4000e+00, 5.0000e+00, 9.8700e+02],\n",
            "        [3.5000e-01, 3.3000e-01, 2.4000e+00, 6.8000e-02, 9.0000e+00, 2.6000e+01,\n",
            "         9.9470e-01, 3.3600e+00, 6.0000e-01, 1.1900e+01, 6.0000e+00, 1.5800e+03]]) tensor([[ 9.3000],\n",
            "        [13.0000],\n",
            "        [ 7.1000],\n",
            "        [ 7.4000]])\n",
            "1143 286\n",
            "epoch 1/2, step 5/286, inputs shape: torch.Size([4, 12])\n",
            "epoch 1/2, step 10/286, inputs shape: torch.Size([4, 12])\n",
            "epoch 1/2, step 15/286, inputs shape: torch.Size([4, 12])\n",
            "epoch 1/2, step 20/286, inputs shape: torch.Size([4, 12])\n",
            "epoch 1/2, step 25/286, inputs shape: torch.Size([4, 12])\n",
            "epoch 1/2, step 30/286, inputs shape: torch.Size([4, 12])\n",
            "epoch 1/2, step 35/286, inputs shape: torch.Size([4, 12])\n",
            "epoch 1/2, step 40/286, inputs shape: torch.Size([4, 12])\n",
            "epoch 1/2, step 45/286, inputs shape: torch.Size([4, 12])\n",
            "epoch 1/2, step 50/286, inputs shape: torch.Size([4, 12])\n",
            "epoch 1/2, step 55/286, inputs shape: torch.Size([4, 12])\n",
            "epoch 1/2, step 60/286, inputs shape: torch.Size([4, 12])\n",
            "epoch 1/2, step 65/286, inputs shape: torch.Size([4, 12])\n",
            "epoch 1/2, step 70/286, inputs shape: torch.Size([4, 12])\n",
            "epoch 1/2, step 75/286, inputs shape: torch.Size([4, 12])\n",
            "epoch 1/2, step 80/286, inputs shape: torch.Size([4, 12])\n",
            "epoch 1/2, step 85/286, inputs shape: torch.Size([4, 12])\n",
            "epoch 1/2, step 90/286, inputs shape: torch.Size([4, 12])\n",
            "epoch 1/2, step 95/286, inputs shape: torch.Size([4, 12])\n",
            "epoch 1/2, step 100/286, inputs shape: torch.Size([4, 12])\n",
            "epoch 1/2, step 105/286, inputs shape: torch.Size([4, 12])\n",
            "epoch 1/2, step 110/286, inputs shape: torch.Size([4, 12])\n",
            "epoch 1/2, step 115/286, inputs shape: torch.Size([4, 12])\n",
            "epoch 1/2, step 120/286, inputs shape: torch.Size([4, 12])\n",
            "epoch 1/2, step 125/286, inputs shape: torch.Size([4, 12])\n",
            "epoch 1/2, step 130/286, inputs shape: torch.Size([4, 12])\n",
            "epoch 1/2, step 135/286, inputs shape: torch.Size([4, 12])\n",
            "epoch 1/2, step 140/286, inputs shape: torch.Size([4, 12])\n",
            "epoch 1/2, step 145/286, inputs shape: torch.Size([4, 12])\n",
            "epoch 1/2, step 150/286, inputs shape: torch.Size([4, 12])\n",
            "epoch 1/2, step 155/286, inputs shape: torch.Size([4, 12])\n",
            "epoch 1/2, step 160/286, inputs shape: torch.Size([4, 12])\n",
            "epoch 1/2, step 165/286, inputs shape: torch.Size([4, 12])\n",
            "epoch 1/2, step 170/286, inputs shape: torch.Size([4, 12])\n",
            "epoch 1/2, step 175/286, inputs shape: torch.Size([4, 12])\n",
            "epoch 1/2, step 180/286, inputs shape: torch.Size([4, 12])\n",
            "epoch 1/2, step 185/286, inputs shape: torch.Size([4, 12])\n",
            "epoch 1/2, step 190/286, inputs shape: torch.Size([4, 12])\n",
            "epoch 1/2, step 195/286, inputs shape: torch.Size([4, 12])\n",
            "epoch 1/2, step 200/286, inputs shape: torch.Size([4, 12])\n",
            "epoch 1/2, step 205/286, inputs shape: torch.Size([4, 12])\n",
            "epoch 1/2, step 210/286, inputs shape: torch.Size([4, 12])\n",
            "epoch 1/2, step 215/286, inputs shape: torch.Size([4, 12])\n",
            "epoch 1/2, step 220/286, inputs shape: torch.Size([4, 12])\n",
            "epoch 1/2, step 225/286, inputs shape: torch.Size([4, 12])\n",
            "epoch 1/2, step 230/286, inputs shape: torch.Size([4, 12])\n",
            "epoch 1/2, step 235/286, inputs shape: torch.Size([4, 12])\n",
            "epoch 1/2, step 240/286, inputs shape: torch.Size([4, 12])\n",
            "epoch 1/2, step 245/286, inputs shape: torch.Size([4, 12])\n",
            "epoch 1/2, step 250/286, inputs shape: torch.Size([4, 12])\n",
            "epoch 1/2, step 255/286, inputs shape: torch.Size([4, 12])\n",
            "epoch 1/2, step 260/286, inputs shape: torch.Size([4, 12])\n",
            "epoch 1/2, step 265/286, inputs shape: torch.Size([4, 12])\n",
            "epoch 1/2, step 270/286, inputs shape: torch.Size([4, 12])\n",
            "epoch 1/2, step 275/286, inputs shape: torch.Size([4, 12])\n",
            "epoch 1/2, step 280/286, inputs shape: torch.Size([4, 12])\n",
            "epoch 1/2, step 285/286, inputs shape: torch.Size([4, 12])\n",
            "epoch 2/2, step 5/286, inputs shape: torch.Size([4, 12])\n",
            "epoch 2/2, step 10/286, inputs shape: torch.Size([4, 12])\n",
            "epoch 2/2, step 15/286, inputs shape: torch.Size([4, 12])\n",
            "epoch 2/2, step 20/286, inputs shape: torch.Size([4, 12])\n",
            "epoch 2/2, step 25/286, inputs shape: torch.Size([4, 12])\n",
            "epoch 2/2, step 30/286, inputs shape: torch.Size([4, 12])\n",
            "epoch 2/2, step 35/286, inputs shape: torch.Size([4, 12])\n",
            "epoch 2/2, step 40/286, inputs shape: torch.Size([4, 12])\n",
            "epoch 2/2, step 45/286, inputs shape: torch.Size([4, 12])\n",
            "epoch 2/2, step 50/286, inputs shape: torch.Size([4, 12])\n",
            "epoch 2/2, step 55/286, inputs shape: torch.Size([4, 12])\n",
            "epoch 2/2, step 60/286, inputs shape: torch.Size([4, 12])\n",
            "epoch 2/2, step 65/286, inputs shape: torch.Size([4, 12])\n",
            "epoch 2/2, step 70/286, inputs shape: torch.Size([4, 12])\n",
            "epoch 2/2, step 75/286, inputs shape: torch.Size([4, 12])\n",
            "epoch 2/2, step 80/286, inputs shape: torch.Size([4, 12])\n",
            "epoch 2/2, step 85/286, inputs shape: torch.Size([4, 12])\n",
            "epoch 2/2, step 90/286, inputs shape: torch.Size([4, 12])\n",
            "epoch 2/2, step 95/286, inputs shape: torch.Size([4, 12])\n",
            "epoch 2/2, step 100/286, inputs shape: torch.Size([4, 12])\n",
            "epoch 2/2, step 105/286, inputs shape: torch.Size([4, 12])\n",
            "epoch 2/2, step 110/286, inputs shape: torch.Size([4, 12])\n",
            "epoch 2/2, step 115/286, inputs shape: torch.Size([4, 12])\n",
            "epoch 2/2, step 120/286, inputs shape: torch.Size([4, 12])\n",
            "epoch 2/2, step 125/286, inputs shape: torch.Size([4, 12])\n",
            "epoch 2/2, step 130/286, inputs shape: torch.Size([4, 12])\n",
            "epoch 2/2, step 135/286, inputs shape: torch.Size([4, 12])\n",
            "epoch 2/2, step 140/286, inputs shape: torch.Size([4, 12])\n",
            "epoch 2/2, step 145/286, inputs shape: torch.Size([4, 12])\n",
            "epoch 2/2, step 150/286, inputs shape: torch.Size([4, 12])\n",
            "epoch 2/2, step 155/286, inputs shape: torch.Size([4, 12])\n",
            "epoch 2/2, step 160/286, inputs shape: torch.Size([4, 12])\n",
            "epoch 2/2, step 165/286, inputs shape: torch.Size([4, 12])\n",
            "epoch 2/2, step 170/286, inputs shape: torch.Size([4, 12])\n",
            "epoch 2/2, step 175/286, inputs shape: torch.Size([4, 12])\n",
            "epoch 2/2, step 180/286, inputs shape: torch.Size([4, 12])\n",
            "epoch 2/2, step 185/286, inputs shape: torch.Size([4, 12])\n",
            "epoch 2/2, step 190/286, inputs shape: torch.Size([4, 12])\n",
            "epoch 2/2, step 195/286, inputs shape: torch.Size([4, 12])\n",
            "epoch 2/2, step 200/286, inputs shape: torch.Size([4, 12])\n",
            "epoch 2/2, step 205/286, inputs shape: torch.Size([4, 12])\n",
            "epoch 2/2, step 210/286, inputs shape: torch.Size([4, 12])\n",
            "epoch 2/2, step 215/286, inputs shape: torch.Size([4, 12])\n",
            "epoch 2/2, step 220/286, inputs shape: torch.Size([4, 12])\n",
            "epoch 2/2, step 225/286, inputs shape: torch.Size([4, 12])\n",
            "epoch 2/2, step 230/286, inputs shape: torch.Size([4, 12])\n",
            "epoch 2/2, step 235/286, inputs shape: torch.Size([4, 12])\n",
            "epoch 2/2, step 240/286, inputs shape: torch.Size([4, 12])\n",
            "epoch 2/2, step 245/286, inputs shape: torch.Size([4, 12])\n",
            "epoch 2/2, step 250/286, inputs shape: torch.Size([4, 12])\n",
            "epoch 2/2, step 255/286, inputs shape: torch.Size([4, 12])\n",
            "epoch 2/2, step 260/286, inputs shape: torch.Size([4, 12])\n",
            "epoch 2/2, step 265/286, inputs shape: torch.Size([4, 12])\n",
            "epoch 2/2, step 270/286, inputs shape: torch.Size([4, 12])\n",
            "epoch 2/2, step 275/286, inputs shape: torch.Size([4, 12])\n",
            "epoch 2/2, step 280/286, inputs shape: torch.Size([4, 12])\n",
            "epoch 2/2, step 285/286, inputs shape: torch.Size([4, 12])\n",
            "\n",
            "Training loop simulation complete.\n"
          ]
        }
      ]
    },
    {
      "cell_type": "markdown",
      "source": [
        "#DataSet Transforms"
      ],
      "metadata": {
        "id": "ZJh9PDJ3QyVz"
      }
    },
    {
      "cell_type": "code",
      "source": [
        "# import torch\n",
        "# import torchvision\n",
        "\n",
        "# # dataset=torchvision.datasets.MNIST(\n",
        "# #     root='./data',transform=torchvision.transforms.ToTensor()\n",
        "# # )\n",
        "\n",
        "# '''\n",
        "# Transforms can be applied to PIL images,tensors,ndarrays or custom data\n",
        "# during creation of the Dataset\n",
        "\n",
        "\n",
        "# On Images:CeterCrop,Grayscale,Pad,RandomAffine,RandomCrop,RandomHorizontalFlip\n",
        "# ,RandomRotation,Resize,Scale\n",
        "\n",
        "# On Tensors\n",
        "# LinearTransformation,Normalize,RandomErasing\n",
        "\n",
        "# Conversion\n",
        "# TopIImage: from tensor or ndarray\n",
        "# ToTensor: from numpy.ndarray or PILImage\n",
        "\n",
        "# Generic\n",
        "# Write own class\n",
        "\n",
        "# Compose Multiple Transform\n",
        "# composed=transform.Compose([Rescale[256],RandomCrop(224)])\n",
        "# torchvision.transform.ReScale(256)\n",
        "# torchvision.transform.ToTensor()\n",
        "# '''\n",
        "\n",
        "\n",
        "# '''\n",
        "# epoch = 1 forward and backward pass of ALL training samples\n",
        "# batch_size= number of training sample in one forward and backward pass\n",
        "# number of iterations = number of passes,each pass using[batch_size] number of samples\n",
        "# e.g 100 samples,batch_size=20 -->100/20=5 iterations for 1 epoch\n",
        "# '''\n",
        "\n",
        "# import torch\n",
        "# import torchvision\n",
        "# from torch.utils.data import Dataset,DataLoader\n",
        "# import numpy as np\n",
        "# import math\n",
        "\n",
        "# class WineDataset(Dataset):\n",
        "#   def __init__(self,transform=None):\n",
        "#     #data loading\n",
        "#     xy= np.loadtxt('/content/WineQT.csv',delimiter=\",\",dtype=np.float32,skiprows=1)\n",
        "#     self.x=torch.from_numpy(xy[:,1:])\n",
        "#     self.y=torch.from_numpy(xy[:,[0]])\n",
        "#     self.n_samples=xy.shape[0]\n",
        "\n",
        "#   def __getitem__(self, index):\n",
        "#     inputs = self.x[index]\n",
        "#     targets = self.y[index]\n",
        "\n",
        "#     sample = {'inputs': inputs, 'targets': targets}\n",
        "\n",
        "#     if self.transform:\n",
        "#       sample = self.transform(sample)\n",
        "\n",
        "#     return sample['inputs'], sample['targets']\n",
        "\n",
        "#   def __len__(self):\n",
        "#     return self.n_samples\n",
        "\n",
        "\n",
        "# class ToTensor:\n",
        "#   def __call__(self,sample):\n",
        "#     inputs,targets=sample\n",
        "#     return torch.from_numpy(inputs),torch.from_numpy(targets)\n",
        "\n",
        "# class MulTransform:\n",
        "#   def __init__(self,factor):\n",
        "#     self.factor=factor\n",
        "\n",
        "#   def __call__(self,sample):\n",
        "#     inputs,targets=sample\n",
        "#     inputs*=self.factor\n",
        "#     return inputs,targets\n",
        "\n",
        "\n",
        "# dataset = WineDataset(transform=ToTensor())\n",
        "# first_data = dataset[0]\n",
        "# features,labels = first_data\n",
        "# print(type(features),type(labels))\n",
        "\n",
        "# composed=torchvision.transforms.Compose([ToTensor(),MulTransform(4)])\n",
        "# dataset = WineDataset(transform=composed)\n",
        "# first_data = dataset[0]\n",
        "# features,labels = first_data\n",
        "# print(type(features),type(labels))\n",
        "\n",
        "# #\n",
        "\n",
        "# # dataloader=DataLoader(dataset=dataset,batch_size=4,shuffle=True,num_workers=2)\n",
        "# # datatiter=iter(dataloader)\n",
        "# # data=next(datatiter)\n",
        "# # features,labels=data\n",
        "# # print(features,labels)\n",
        "\n",
        "\n",
        "# # #training loop\n",
        "# # num_epochs=2\n",
        "# # total_samples=len(dataset)\n",
        "# # n_iterations=math.ceil(total_samples/4)\n",
        "# # print(total_samples,n_iterations)\n",
        "# # for epoch in range(num_epochs):\n",
        "# #   for i,(inputs,labels) in enumerate(dataloader):\n",
        "# #      # forward and backward,update (placeholders for actual model logic)\n",
        "\n",
        "# #      # --- ADDED CONDITION HERE TO MATCH VIDEO'S PRINT FREQUENCY ---\n",
        "# #      if (i + 1) % 5 == 0: # Print every 5th step\n",
        "# #        print(f'epoch {epoch+1}/{num_epochs}, step {i+1}/{n_iterations}, inputs shape: {inputs.shape}')\n",
        "\n",
        "# print(\"\\nTraining loop simulation complete.\")\n",
        "\n",
        "# # torchvision.datasets.MNIST()\n",
        "# #fashion=mnist,tifar,coco\n",
        "\n"
      ],
      "metadata": {
        "id": "rTcQZWAzLiOH"
      },
      "execution_count": null,
      "outputs": []
    },
    {
      "cell_type": "code",
      "source": [
        "import torch\n",
        "import torchvision\n",
        "from torch.utils.data import Dataset, DataLoader\n",
        "import numpy as np\n",
        "import math\n",
        "\n",
        "class WineDataset(Dataset):\n",
        "    def __init__(self,transform=None):\n",
        "        #data laoding\n",
        "        xy = np.loadtxt('/content/WineQT.csv',delimiter=',',dtype=np.float32,skiprows=1)\n",
        "        self.x = torch.from_numpy(xy[:,1:])\n",
        "        self.y = torch.from_numpy(xy[:,[0]])# n_samples,1\n",
        "        self.n_samples = xy.shape[0]\n",
        "\n",
        "        self.transform = transform\n",
        "\n",
        "    def __getitem__(self,index):\n",
        "        #dataset[0]\n",
        "        sample = self.x[index], self.y[index]\n",
        "        if(self.transform):\n",
        "            sample = self.transform(sample)\n",
        "        return sample\n",
        "\n",
        "    def __len__(self):\n",
        "        #lenght of the dataset\n",
        "        return self.n_samples\n",
        "\n",
        "\n",
        "dataset = WineDataset()\n",
        "dataloader = DataLoader(dataset=dataset,batch_size=4,shuffle=True,num_workers=2)\n",
        "\n",
        "#training loop\n",
        "num_epochs    = 2\n",
        "total_samples = len(dataset)\n",
        "n_iterations  = math.ceil(total_samples / 4)\n",
        "print(total_samples,n_iterations)\n",
        "\n",
        "for epoch in range(num_epochs):\n",
        "    for i, (inputs,labels) in enumerate(dataloader):\n",
        "        #forward, backward, update\n",
        "        if(i + 1) % 5 == 0:\n",
        "            print(f'epoch {epoch+1}/{num_epochs},step {i+1}/{n_iterations}, inputs {inputs.shape}')"
      ],
      "metadata": {
        "colab": {
          "base_uri": "https://localhost:8080/"
        },
        "id": "7vFB_UTYocSQ",
        "outputId": "f8bdff7a-7cc3-41e1-df1e-93321f39672c"
      },
      "execution_count": null,
      "outputs": [
        {
          "output_type": "stream",
          "name": "stdout",
          "text": [
            "1143 286\n",
            "epoch 1/2,step 5/286, inputs torch.Size([4, 12])\n",
            "epoch 1/2,step 10/286, inputs torch.Size([4, 12])\n",
            "epoch 1/2,step 15/286, inputs torch.Size([4, 12])\n",
            "epoch 1/2,step 20/286, inputs torch.Size([4, 12])\n",
            "epoch 1/2,step 25/286, inputs torch.Size([4, 12])\n",
            "epoch 1/2,step 30/286, inputs torch.Size([4, 12])\n",
            "epoch 1/2,step 35/286, inputs torch.Size([4, 12])\n",
            "epoch 1/2,step 40/286, inputs torch.Size([4, 12])\n",
            "epoch 1/2,step 45/286, inputs torch.Size([4, 12])\n",
            "epoch 1/2,step 50/286, inputs torch.Size([4, 12])\n",
            "epoch 1/2,step 55/286, inputs torch.Size([4, 12])\n",
            "epoch 1/2,step 60/286, inputs torch.Size([4, 12])\n",
            "epoch 1/2,step 65/286, inputs torch.Size([4, 12])\n",
            "epoch 1/2,step 70/286, inputs torch.Size([4, 12])\n",
            "epoch 1/2,step 75/286, inputs torch.Size([4, 12])\n",
            "epoch 1/2,step 80/286, inputs torch.Size([4, 12])\n",
            "epoch 1/2,step 85/286, inputs torch.Size([4, 12])\n",
            "epoch 1/2,step 90/286, inputs torch.Size([4, 12])\n",
            "epoch 1/2,step 95/286, inputs torch.Size([4, 12])\n",
            "epoch 1/2,step 100/286, inputs torch.Size([4, 12])\n",
            "epoch 1/2,step 105/286, inputs torch.Size([4, 12])\n",
            "epoch 1/2,step 110/286, inputs torch.Size([4, 12])\n",
            "epoch 1/2,step 115/286, inputs torch.Size([4, 12])\n",
            "epoch 1/2,step 120/286, inputs torch.Size([4, 12])\n",
            "epoch 1/2,step 125/286, inputs torch.Size([4, 12])\n",
            "epoch 1/2,step 130/286, inputs torch.Size([4, 12])\n",
            "epoch 1/2,step 135/286, inputs torch.Size([4, 12])\n",
            "epoch 1/2,step 140/286, inputs torch.Size([4, 12])\n",
            "epoch 1/2,step 145/286, inputs torch.Size([4, 12])\n",
            "epoch 1/2,step 150/286, inputs torch.Size([4, 12])\n",
            "epoch 1/2,step 155/286, inputs torch.Size([4, 12])\n",
            "epoch 1/2,step 160/286, inputs torch.Size([4, 12])\n",
            "epoch 1/2,step 165/286, inputs torch.Size([4, 12])\n",
            "epoch 1/2,step 170/286, inputs torch.Size([4, 12])\n",
            "epoch 1/2,step 175/286, inputs torch.Size([4, 12])\n",
            "epoch 1/2,step 180/286, inputs torch.Size([4, 12])\n",
            "epoch 1/2,step 185/286, inputs torch.Size([4, 12])\n",
            "epoch 1/2,step 190/286, inputs torch.Size([4, 12])\n",
            "epoch 1/2,step 195/286, inputs torch.Size([4, 12])\n",
            "epoch 1/2,step 200/286, inputs torch.Size([4, 12])\n",
            "epoch 1/2,step 205/286, inputs torch.Size([4, 12])\n",
            "epoch 1/2,step 210/286, inputs torch.Size([4, 12])\n",
            "epoch 1/2,step 215/286, inputs torch.Size([4, 12])\n",
            "epoch 1/2,step 220/286, inputs torch.Size([4, 12])\n",
            "epoch 1/2,step 225/286, inputs torch.Size([4, 12])\n",
            "epoch 1/2,step 230/286, inputs torch.Size([4, 12])\n",
            "epoch 1/2,step 235/286, inputs torch.Size([4, 12])\n",
            "epoch 1/2,step 240/286, inputs torch.Size([4, 12])\n",
            "epoch 1/2,step 245/286, inputs torch.Size([4, 12])\n",
            "epoch 1/2,step 250/286, inputs torch.Size([4, 12])\n",
            "epoch 1/2,step 255/286, inputs torch.Size([4, 12])\n",
            "epoch 1/2,step 260/286, inputs torch.Size([4, 12])\n",
            "epoch 1/2,step 265/286, inputs torch.Size([4, 12])\n",
            "epoch 1/2,step 270/286, inputs torch.Size([4, 12])\n",
            "epoch 1/2,step 275/286, inputs torch.Size([4, 12])\n",
            "epoch 1/2,step 280/286, inputs torch.Size([4, 12])\n",
            "epoch 1/2,step 285/286, inputs torch.Size([4, 12])\n",
            "epoch 2/2,step 5/286, inputs torch.Size([4, 12])\n",
            "epoch 2/2,step 10/286, inputs torch.Size([4, 12])\n",
            "epoch 2/2,step 15/286, inputs torch.Size([4, 12])\n",
            "epoch 2/2,step 20/286, inputs torch.Size([4, 12])\n",
            "epoch 2/2,step 25/286, inputs torch.Size([4, 12])\n",
            "epoch 2/2,step 30/286, inputs torch.Size([4, 12])\n",
            "epoch 2/2,step 35/286, inputs torch.Size([4, 12])\n",
            "epoch 2/2,step 40/286, inputs torch.Size([4, 12])\n",
            "epoch 2/2,step 45/286, inputs torch.Size([4, 12])\n",
            "epoch 2/2,step 50/286, inputs torch.Size([4, 12])\n",
            "epoch 2/2,step 55/286, inputs torch.Size([4, 12])\n",
            "epoch 2/2,step 60/286, inputs torch.Size([4, 12])\n",
            "epoch 2/2,step 65/286, inputs torch.Size([4, 12])\n",
            "epoch 2/2,step 70/286, inputs torch.Size([4, 12])\n",
            "epoch 2/2,step 75/286, inputs torch.Size([4, 12])\n",
            "epoch 2/2,step 80/286, inputs torch.Size([4, 12])\n",
            "epoch 2/2,step 85/286, inputs torch.Size([4, 12])\n",
            "epoch 2/2,step 90/286, inputs torch.Size([4, 12])\n",
            "epoch 2/2,step 95/286, inputs torch.Size([4, 12])\n",
            "epoch 2/2,step 100/286, inputs torch.Size([4, 12])\n",
            "epoch 2/2,step 105/286, inputs torch.Size([4, 12])\n",
            "epoch 2/2,step 110/286, inputs torch.Size([4, 12])\n",
            "epoch 2/2,step 115/286, inputs torch.Size([4, 12])\n",
            "epoch 2/2,step 120/286, inputs torch.Size([4, 12])\n",
            "epoch 2/2,step 125/286, inputs torch.Size([4, 12])\n",
            "epoch 2/2,step 130/286, inputs torch.Size([4, 12])\n",
            "epoch 2/2,step 135/286, inputs torch.Size([4, 12])\n",
            "epoch 2/2,step 140/286, inputs torch.Size([4, 12])\n",
            "epoch 2/2,step 145/286, inputs torch.Size([4, 12])\n",
            "epoch 2/2,step 150/286, inputs torch.Size([4, 12])\n",
            "epoch 2/2,step 155/286, inputs torch.Size([4, 12])\n",
            "epoch 2/2,step 160/286, inputs torch.Size([4, 12])\n",
            "epoch 2/2,step 165/286, inputs torch.Size([4, 12])\n",
            "epoch 2/2,step 170/286, inputs torch.Size([4, 12])\n",
            "epoch 2/2,step 175/286, inputs torch.Size([4, 12])\n",
            "epoch 2/2,step 180/286, inputs torch.Size([4, 12])\n",
            "epoch 2/2,step 185/286, inputs torch.Size([4, 12])\n",
            "epoch 2/2,step 190/286, inputs torch.Size([4, 12])\n",
            "epoch 2/2,step 195/286, inputs torch.Size([4, 12])\n",
            "epoch 2/2,step 200/286, inputs torch.Size([4, 12])\n",
            "epoch 2/2,step 205/286, inputs torch.Size([4, 12])\n",
            "epoch 2/2,step 210/286, inputs torch.Size([4, 12])\n",
            "epoch 2/2,step 215/286, inputs torch.Size([4, 12])\n",
            "epoch 2/2,step 220/286, inputs torch.Size([4, 12])\n",
            "epoch 2/2,step 225/286, inputs torch.Size([4, 12])\n",
            "epoch 2/2,step 230/286, inputs torch.Size([4, 12])\n",
            "epoch 2/2,step 235/286, inputs torch.Size([4, 12])\n",
            "epoch 2/2,step 240/286, inputs torch.Size([4, 12])\n",
            "epoch 2/2,step 245/286, inputs torch.Size([4, 12])\n",
            "epoch 2/2,step 250/286, inputs torch.Size([4, 12])\n",
            "epoch 2/2,step 255/286, inputs torch.Size([4, 12])\n",
            "epoch 2/2,step 260/286, inputs torch.Size([4, 12])\n",
            "epoch 2/2,step 265/286, inputs torch.Size([4, 12])\n",
            "epoch 2/2,step 270/286, inputs torch.Size([4, 12])\n",
            "epoch 2/2,step 275/286, inputs torch.Size([4, 12])\n",
            "epoch 2/2,step 280/286, inputs torch.Size([4, 12])\n",
            "epoch 2/2,step 285/286, inputs torch.Size([4, 12])\n"
          ]
        }
      ]
    },
    {
      "cell_type": "code",
      "source": [],
      "metadata": {
        "id": "nZRdiYWlXNqT"
      },
      "execution_count": null,
      "outputs": []
    },
    {
      "cell_type": "markdown",
      "source": [
        "# Softmax and Cross - Entropy"
      ],
      "metadata": {
        "id": "D37kLxNtYNgU"
      }
    },
    {
      "cell_type": "code",
      "source": [
        "import torch\n",
        "import torch.nn as nn\n",
        "import numpy as np\n",
        "\n",
        "def softmax(x):\n",
        "  return np.exp(x)/np.sum(np.exp(x),axis=0)\n",
        "\n",
        "x=np.array([2.0,1.0,0.1])\n",
        "outputs=softmax(x)\n",
        "print('softmax numpy:',outputs)\n",
        "\n",
        "x=torch.tensor([2.0,1.0,0.1])\n",
        "outputs=torch.softmax(x,dim=0)\n",
        "print('softmax torch:',outputs)\n",
        "\n",
        "\n",
        "def cross_etropy(actual,predicted):\n",
        "  loss=-np.sum(actual*np.log(predicted))\n",
        "  return loss\n",
        "#y must be one hot encoded\n",
        "#if class 0: [1,0,0]\n",
        "#if class 1: [0,1,0]\n",
        "#if class 2: [0,0,1]\n",
        "#3 classes\n",
        "Y=np.array([1,0,0])\n",
        "\n",
        "#y_pred has probabilities\n",
        "Y_pred_good=np.array([0.7,0.2,0.1])\n",
        "Y_pred_bad=np.array([0.1,0.3,0.6])\n",
        "l1=cross_etropy(Y,Y_pred_good)\n",
        "l2=cross_etropy(Y,Y_pred_bad)\n",
        "print(f'Loss1 numpy: {l1:.4f}')\n",
        "print(f'Loss2 numpy: {l2:.4f}')\n",
        "\n",
        "#torch\n",
        "loss=nn.CrossEntropyLoss()\n",
        "#nn.crossentropy loss applies : nn.LogSoftmax + nn.NLLLoss(Negative Log Likelihood Loss)\n",
        "#No Softmax in last layer\n",
        "#Y has class labels, not One Hot!\n",
        "#Y Pred has raw scores(logits),no Softmax!\n",
        "#\n",
        "Y=torch.tensor([0])\n",
        "#size=n_samples*n_classes=1*3\n",
        "Y_pred_good=torch.tensor([[2.0,1.0,0.1]])\n",
        "Y_pred_bad=torch.tensor([[0.5,2.0,0.3]])\n",
        "\n",
        "l1 = loss(Y_pred_good,Y)\n",
        "l2 = loss(Y_pred_bad,Y)\n",
        "print(l1.item())\n",
        "print(l2.item())\n",
        "\n",
        "_,predictions1=torch.max(Y_pred_good,1)\n",
        "_,predicitions2=torch.max(Y_pred_bad,1)\n",
        "print(predictions1)\n",
        "print(predicitions2)\n",
        "\n",
        "#3 samples\n",
        "Y=torch.tensor([2,0,1])\n",
        "#size=n_samples*n_classes=1*3\n",
        "Y_pred_good=torch.tensor([[0.1,1.0,2.1],[2.0,1.0,0.1],[0.1,3.0,0.1]])\n",
        "Y_pred_bad=torch.tensor([[2.1,1.0,0.1],[0.1,1.0,2.1],[0.1,3.0,0.1]])\n",
        "\n",
        "l1 = loss(Y_pred_good,Y)\n",
        "l2 = loss(Y_pred_bad,Y)\n",
        "print(l1.item())\n",
        "print(l2.item())\n",
        "\n",
        "_,predictions1=torch.max(Y_pred_good,1)\n",
        "_,predicitions2=torch.max(Y_pred_bad,1)\n",
        "print(predictions1)\n",
        "print(predicitions2)\n"
      ],
      "metadata": {
        "id": "J2x6-flCHq6e",
        "colab": {
          "base_uri": "https://localhost:8080/"
        },
        "outputId": "fef4d628-a4c0-4eb5-ddc0-9378da2ee46f"
      },
      "execution_count": null,
      "outputs": [
        {
          "output_type": "stream",
          "name": "stdout",
          "text": [
            "softmax numpy: [0.65900114 0.24243297 0.09856589]\n",
            "softmax torch: tensor([0.6590, 0.2424, 0.0986])\n",
            "Loss1 numpy: 0.3567\n",
            "Loss2 numpy: 2.3026\n",
            "0.4170299470424652\n",
            "1.840616226196289\n",
            "tensor([0])\n",
            "tensor([1])\n",
            "0.3018244206905365\n",
            "1.6241613626480103\n",
            "tensor([2, 0, 1])\n",
            "tensor([0, 2, 1])\n"
          ]
        }
      ]
    },
    {
      "cell_type": "code",
      "source": [
        "import torch\n",
        "import torch.nn as nn\n",
        "\n",
        "#Multiclass problem\n",
        "class NeuralNet2(nn.Module):\n",
        "  def __init__(self,input_size,hidden_size,num_classes):\n",
        "    super(NeuralNet2,self).__init__()\n",
        "    self.linear1=nn.Linear(input_size,hidden_size)\n",
        "    self.relu=nn.ReLU()\n",
        "    self.linear2=nn.Linear(hidden_size,num_classes)\n",
        "\n",
        "  def forward(self,x):\n",
        "    out=self.linear1(x)\n",
        "    out=self.relu(out)\n",
        "    out=self.linear2(out)\n",
        "    #no softmax at the end\n",
        "    return out\n",
        "\n",
        "model=NeuralNet2(input_size=28*28,hidden_size=5,num_classes=3)\n",
        "criterion=nn.CrossEntropyLoss() #applies Softmax\n"
      ],
      "metadata": {
        "id": "JJiEAbeoq1Q7"
      },
      "execution_count": null,
      "outputs": []
    },
    {
      "cell_type": "code",
      "source": [
        "import torch\n",
        "import torch.nn as nn\n",
        "\n",
        "#Multiclass problem\n",
        "class NeuralNet2(nn.Module):\n",
        "  def __init__(self,input_size,hidden_size,num_classes):\n",
        "    super(NeuralNet2,self).__init__()\n",
        "    self.linear1=nn.Linear(input_size,hidden_size)\n",
        "    self.relu=nn.ReLU()\n",
        "    self.linear2=nn.Linear(hidden_size,1)\n",
        "\n",
        "  def forward(self,x):\n",
        "    out=self.linear1(x)\n",
        "    out=self.relu(out)\n",
        "    out=self.linear2(out)\n",
        "    #no softmax at the end\n",
        "    y_pred=torch.sigmoid(out)\n",
        "    return y_pred\n",
        "\n",
        "model=NeuralNet2(input_size=28*28,hidden_size=5,num_classes=2)\n",
        "criterion=nn.BCELoss() #applies Softmax\n"
      ],
      "metadata": {
        "id": "QH0x935frjx3"
      },
      "execution_count": null,
      "outputs": []
    },
    {
      "cell_type": "markdown",
      "source": [
        "# Activation Fuctions"
      ],
      "metadata": {
        "id": "VyA1SKv2rzVT"
      }
    },
    {
      "cell_type": "markdown",
      "source": [
        "step is very simple and not used in practise\n",
        "sigmoid is a popular choice and outputs prob  used in last layer of binary classifications\n",
        "tanh function hyperbolic tanget function outputs value from -1 to 1\n",
        "used in hidden layers a lot\n",
        "relu is max(0,x) is most popular for hidden if you don't know which activation to use in hidden layer just use relu\n",
        "leaky relu is also used to solve the vanishing gradient problem in hidden layers\n",
        "since in relu if x is less than 0 the value obtained is 0 which leads to gradient becoming 0 further on leading to these weights never being updated these neurons won't learn anything and hence dead so leaky relu is to counter that.\n",
        "softmax is most populat used for multi class setting"
      ],
      "metadata": {
        "id": "oqdx6ue3s5XG"
      }
    },
    {
      "cell_type": "code",
      "source": [
        "import torch\n",
        "import torch.nn as nn\n",
        "import torch.nn.functional as F\n",
        "\n",
        "#option 1 (create nn modules)\n",
        "class NeuralNet(nn.Module):\n",
        "  def __init__(self,input_size,hidden_size):\n",
        "    super(NeuralNet,self).__init__()\n",
        "    self.linear1=nn.Linear(input_size,hidden_size)\n",
        "    self.relu=nn.Relu()\n",
        "    # nn.Sigmoid\n",
        "    # nn.Softmax\n",
        "    # nn.TanH\n",
        "    # nn.LeakyRelu\n",
        "    self.linear2=nn.Linear(hidden_size,1)\n",
        "    self.sigmoid=nn.Sigmoid()\n",
        "\n",
        "  def forward(self,x):\n",
        "    out=self.linear1(x)\n",
        "    out=self.relu(out)\n",
        "    out=self.linear2(out)\n",
        "    out=self.sigmoid(out)\n",
        "    return out\n",
        "\n",
        "#option 2 use activation functions directly in forward pass\n",
        "class NeuralNet(nn.Module):\n",
        "  def __init__(self,input_size,hidden_size):\n",
        "    super(NeuralNet,self).__init__()\n",
        "    self.linear1=nn.Linear(input_size,hidden_size)\n",
        "    self.linear2=nn.Linear(hidden_size,1)\n",
        "\n",
        "\n",
        "  def forward(self,x):\n",
        "    out=torch.relu(self.linear1(x))\n",
        "    out=torch.sigmoid(self.lineaer2(out))\n",
        "    # torch.softmax\n",
        "    # torch.tanh\n",
        "    #leaky relu in torch.functional module as F.leaky_relu()\n",
        "    return out\n"
      ],
      "metadata": {
        "id": "rb87oBEaXm2n"
      },
      "execution_count": null,
      "outputs": []
    },
    {
      "cell_type": "markdown",
      "source": [
        "# Fully Feed Forward Neural Network"
      ],
      "metadata": {
        "id": "SC2ClcBrvpr-"
      }
    },
    {
      "cell_type": "code",
      "source": [
        "#MNIST\n",
        "#DataLoader,Transforomation\n",
        "#Multilayer,Neural Net,activation function\n",
        "#Loss and Optimizer\n",
        "#Training Loop(batch training)\n",
        "#Model evaluation\n",
        "#GPU Support\n",
        "\n",
        "\n",
        "import torch\n",
        "import torch.nn as nn\n",
        "import torchvision\n",
        "import torchvision.transforms as transforms\n",
        "import matplotlib.pyplot as plt\n",
        "\n",
        "#device config\n",
        "device=torch.device('cuda' if torch.cuda.is_available() else 'cpu')\n",
        "\n",
        "#hyper parameters\n",
        "input_size=784 # 28x28\n",
        "hidden_size=100\n",
        "num_classes=10\n",
        "num_epochs=2\n",
        "batch_size=100\n",
        "learning_rate=0.001\n",
        "\n",
        "#MNIST\n",
        "train_dataset=torchvision.datasets.MNIST(root='./data',train=True,\n",
        "        transform=transforms.ToTensor(),download=True)\n",
        "\n",
        "test_dataset=torchvision.datasets.MNIST(root='./data',train=False,\n",
        "        transform=transforms.ToTensor())\n",
        "\n",
        "train_loader=torch.utils.data.DataLoader(dataset=train_dataset,batch_size=batch_size,\n",
        "                              shuffle=True)\n",
        "\n",
        "test_loader=torch.utils.data.DataLoader(dataset=test_dataset,batch_size=batch_size,\n",
        "                              shuffle=False)\n",
        "\n",
        "examples=iter(train_loader)\n",
        "samples,labels=next(examples)\n",
        "print(samples.shape,labels.shape)\n",
        "\n",
        "for i in range(6):\n",
        "  plt.subplot(2,3,i+1)\n",
        "  plt.imshow(samples[i][0],cmap='gray')\n",
        "\n"
      ],
      "metadata": {
        "colab": {
          "base_uri": "https://localhost:8080/",
          "height": 505
        },
        "id": "HCgZUtszvo3G",
        "outputId": "3aac28ac-165a-4151-c9d8-b0fa4b8db81f"
      },
      "execution_count": null,
      "outputs": [
        {
          "output_type": "stream",
          "name": "stderr",
          "text": [
            "100%|██████████| 9.91M/9.91M [00:00<00:00, 18.1MB/s]\n",
            "100%|██████████| 28.9k/28.9k [00:00<00:00, 486kB/s]\n",
            "100%|██████████| 1.65M/1.65M [00:00<00:00, 3.93MB/s]\n",
            "100%|██████████| 4.54k/4.54k [00:00<00:00, 7.02MB/s]\n"
          ]
        },
        {
          "output_type": "stream",
          "name": "stdout",
          "text": [
            "torch.Size([100, 1, 28, 28]) torch.Size([100])\n"
          ]
        },
        {
          "output_type": "display_data",
          "data": {
            "text/plain": [
              "<Figure size 640x480 with 6 Axes>"
            ],
            "image/png": "[encoded data removed]"
          },
          "metadata": {}
        }
      ]
    },
    {
      "cell_type": "code",
      "source": [
        "class NeuralNet(nn.Module):\n",
        "  def __init__(self,input_size,hidden_size,num_classes):\n",
        "    super(NeuralNet,self).__init__()\n",
        "    self.l1=nn.Linear(input_size,hidden_size)\n",
        "    self.relu=nn.ReLU()\n",
        "    self.l2=nn.Linear(hidden_size,num_classes)\n",
        "\n",
        "  def forward(self,x):\n",
        "    out=self.l1(x)\n",
        "    out=self.relu(out)\n",
        "    out=self.l2(out)\n",
        "\n",
        "    return out\n",
        "\n",
        "device = torch.device('cuda' if torch.cuda.is_available() else 'cpu')\n",
        "model = NeuralNet(input_size, hidden_size, num_classes).to(device)\n",
        "\n",
        "\n",
        "\n",
        "#loss and optimizer\n",
        "criterion=nn.CrossEntropyLoss()\n",
        "optimizer=torch.optim.Adam(model.parameters(),lr=learning_rate)\n",
        "\n",
        "#training loop\n",
        "n_total_steps=len(train_loader)\n",
        "for epoch in range(num_epochs):\n",
        "  for i,(images,labels) in enumerate(train_loader):\n",
        "    #100, 1, 28 ,28\n",
        "    #100, 784\n",
        "    images= images.reshape(-1,28*28).to(device)\n",
        "    labels=labels.to(device)\n",
        "\n",
        "    #forward\n",
        "    outputs=model(images)\n",
        "    loss=criterion(outputs,labels)\n",
        "\n",
        "    #backwards\n",
        "    optimizer.zero_grad()\n",
        "    loss.backward()\n",
        "    optimizer.step()\n",
        "\n",
        "\n",
        "    if(i+1)% 100 ==0:\n",
        "      print(f'epoch {epoch+1}/{num_epochs},step {i+1}/{n_total_steps},loss={loss.item():.4f}')\n",
        "\n",
        "#test\n",
        "with torch.no_grad():\n",
        "  n_correct=0\n",
        "  n_samples=0\n",
        "  for images,labels in test_loader:\n",
        "    images=images.reshape(-1,28*28).to(device)\n",
        "    labels=labels.to(device)\n",
        "    outputs=model(images)\n",
        "\n",
        "    _,predictions=torch.max(outputs,1)\n",
        "    n_samples+=labels.shape[0]\n",
        "    n_correct+=(predictions==labels).sum().item()\n",
        "\n",
        "  acc=100.0*n_correct/n_samples\n",
        "  print(f'accuracy={acc}')\n",
        "\n",
        "\n"
      ],
      "metadata": {
        "colab": {
          "base_uri": "https://localhost:8080/"
        },
        "id": "jwjESjFcwRR2",
        "outputId": "48825717-a740-4156-f4d1-9d21ad6827c4"
      },
      "execution_count": null,
      "outputs": [
        {
          "output_type": "stream",
          "name": "stdout",
          "text": [
            "epoch 1/2,step 100/600,loss=0.4868\n",
            "epoch 1/2,step 200/600,loss=0.3508\n",
            "epoch 1/2,step 300/600,loss=0.2997\n",
            "epoch 1/2,step 400/600,loss=0.2583\n",
            "epoch 1/2,step 500/600,loss=0.2403\n",
            "epoch 1/2,step 600/600,loss=0.1704\n",
            "epoch 2/2,step 100/600,loss=0.2140\n",
            "epoch 2/2,step 200/600,loss=0.1989\n",
            "epoch 2/2,step 300/600,loss=0.1574\n",
            "epoch 2/2,step 400/600,loss=0.1268\n",
            "epoch 2/2,step 500/600,loss=0.1072\n",
            "epoch 2/2,step 600/600,loss=0.2633\n",
            "accuracy=95.39\n"
          ]
        }
      ]
    },
    {
      "cell_type": "code",
      "source": [
        "import torch\n",
        "from torch.utils.data import DataLoader, random_split\n",
        "import torchvision\n",
        "import torchvision.transforms as transforms\n",
        "\n",
        "# 1) Download MNIST and apply transforms\n",
        "transform = transforms.Compose([\n",
        "    transforms.ToTensor(),\n",
        "    transforms.Normalize((0.1307,), (0.3081,))\n",
        "])\n",
        "\n",
        "full_train_dataset = torchvision.datasets.MNIST(\n",
        "    root=\"./data\",\n",
        "    train=True,\n",
        "    download=True,\n",
        "    transform=transform\n",
        ")\n",
        "\n",
        "# 2) Decide on split sizes (e.g., 90% train, 10% val)\n",
        "train_size = int(0.9 * len(full_train_dataset))   # e.g., 54000 out of 60000\n",
        "val_size   = len(full_train_dataset) - train_size # e.g., 6000\n",
        "\n",
        "train_dataset, val_dataset = random_split(full_train_dataset, [train_size, val_size])\n",
        "\n",
        "# 3) Create DataLoaders\n",
        "batch_size = 64\n",
        "\n",
        "train_loader = DataLoader(train_dataset, batch_size=batch_size, shuffle=True, num_workers=2)\n",
        "val_loader   = DataLoader(val_dataset,   batch_size=batch_size, shuffle=False, num_workers=2)\n",
        "\n",
        "# 4) (Optional) Create a separate test_loader if you want to evaluate on the official test split\n",
        "test_dataset = torchvision.datasets.MNIST(\n",
        "    root=\"./data\",\n",
        "    train=False,\n",
        "    download=True,\n",
        "    transform=transform\n",
        ")\n",
        "test_loader = DataLoader(test_dataset, batch_size=batch_size, shuffle=False, num_workers=2)\n"
      ],
      "metadata": {
        "id": "s4G5jsVAv8mQ"
      },
      "execution_count": null,
      "outputs": []
    },
    {
      "cell_type": "code",
      "source": [
        "import torch\n",
        "import torch.nn as nn\n",
        "import torch.optim as optim\n",
        "import matplotlib.pyplot as plt\n",
        "from torch.utils.data import DataLoader, random_split\n",
        "import torchvision\n",
        "import torchvision.transforms as transforms\n",
        "\n",
        "# 1) Prepare MNIST train/val loaders (90/10 split).\n",
        "transform = transforms.Compose([\n",
        "    transforms.ToTensor(),\n",
        "    transforms.Normalize((0.1307,), (0.3081,))\n",
        "])\n",
        "full_train = torchvision.datasets.MNIST(\n",
        "    root=\"./data\", train=True, download=True, transform=transform\n",
        ")\n",
        "train_size = int(0.9 * len(full_train))      # 54000\n",
        "val_size   = len(full_train) - train_size    # 6000\n",
        "train_ds, val_ds = random_split(full_train, [train_size, val_size])\n",
        "\n",
        "batch_size = 64\n",
        "train_loader = DataLoader(train_ds, batch_size=batch_size, shuffle=True,  num_workers=2)\n",
        "val_loader   = DataLoader(val_ds,   batch_size=batch_size, shuffle=False, num_workers=2)\n",
        "\n",
        "# 2) Define device, model, loss, optimizer.\n",
        "device = torch.device(\"cuda\" if torch.cuda.is_available() else \"cpu\")\n",
        "\n",
        "model = nn.Sequential(\n",
        "    nn.Flatten(),            # flatten 28×28→784\n",
        "    nn.Linear(784, 128),\n",
        "    nn.ReLU(),\n",
        "    nn.Linear(128, 10)\n",
        ").to(device)\n",
        "\n",
        "criterion = nn.CrossEntropyLoss()\n",
        "optimizer = optim.Adam(model.parameters(), lr=0.001)\n",
        "\n",
        "# 3) Set number of epochs to something >2 (e.g., 10).\n",
        "num_epochs = 10\n",
        "\n",
        "# Initialize histories\n",
        "train_loss_history = []\n",
        "train_acc_history  = []\n",
        "val_loss_history   = []\n",
        "val_acc_history    = []\n",
        "\n",
        "# 4) Training + validation loops\n",
        "for epoch in range(1, num_epochs + 1):\n",
        "    # ---- Training phase ----\n",
        "    model.train()\n",
        "    running_train_loss = 0.0\n",
        "    train_correct = 0\n",
        "    train_total   = 0\n",
        "\n",
        "    for X_batch, y_batch in train_loader:\n",
        "        X_batch = X_batch.to(device)\n",
        "        y_batch = y_batch.to(device)\n",
        "\n",
        "        optimizer.zero_grad()\n",
        "        outputs = model(X_batch)    # Flatten happens inside the model\n",
        "        loss = criterion(outputs, y_batch)\n",
        "        loss.backward()\n",
        "        optimizer.step()\n",
        "\n",
        "        running_train_loss += loss.item() * X_batch.size(0)\n",
        "        _, preds = torch.max(outputs, dim=1)\n",
        "        train_correct += (preds == y_batch).sum().item()\n",
        "        train_total   += y_batch.size(0)\n",
        "\n",
        "    avg_train_loss = running_train_loss / train_total\n",
        "    train_acc = train_correct / train_total\n",
        "    train_loss_history.append(avg_train_loss)\n",
        "    train_acc_history.append(train_acc)\n",
        "\n",
        "    # ---- Validation phase ----\n",
        "    model.eval()\n",
        "    running_val_loss = 0.0\n",
        "    val_correct = 0\n",
        "    val_total   = 0\n",
        "\n",
        "    with torch.no_grad():\n",
        "        for X_val, y_val in val_loader:\n",
        "            X_val = X_val.to(device)\n",
        "            y_val = y_val.to(device)\n",
        "\n",
        "            outputs_val = model(X_val)\n",
        "            loss_val = criterion(outputs_val, y_val)\n",
        "\n",
        "            running_val_loss += loss_val.item() * X_val.size(0)\n",
        "            _, preds_val = torch.max(outputs_val, dim=1)\n",
        "            val_correct += (preds_val == y_val).sum().item()\n",
        "            val_total   += y_val.size(0)\n",
        "\n",
        "    avg_val_loss = running_val_loss / val_total\n",
        "    val_acc = val_correct / val_total\n",
        "    val_loss_history.append(avg_val_loss)\n",
        "    val_acc_history.append(val_acc)\n",
        "\n",
        "    print(\n",
        "        f\"Epoch [{epoch}/{num_epochs}]  \"\n",
        "        f\"Train Loss: {avg_train_loss:.4f}, Train Acc: {train_acc:.4f}  \"\n",
        "        f\"Val Loss: {avg_val_loss:.4f}, Val Acc: {val_acc:.4f}\"\n",
        "    )\n",
        "\n",
        "# 5) After loop, you should see 10 printouts—one per epoch.\n",
        "\n",
        "# 6) Plot the histories:\n",
        "epochs_range = range(1, num_epochs + 1)\n",
        "\n",
        "plt.figure(figsize=(8,5))\n",
        "plt.plot(epochs_range, train_acc_history, marker='o', label=\"Train Accuracy\")\n",
        "plt.plot(epochs_range, val_acc_history,   marker='s', label=\"Val Accuracy\")\n",
        "plt.xlabel(\"Epoch\")\n",
        "plt.ylabel(\"Accuracy\")\n",
        "plt.title(\"MLP (PyTorch): Accuracy vs. Epochs\")\n",
        "plt.legend()\n",
        "plt.grid(True)\n",
        "plt.tight_layout()\n",
        "plt.savefig(\"mlp_pytorch_accuracy.png\")\n",
        "plt.show()\n",
        "\n",
        "plt.figure(figsize=(8,5))\n",
        "plt.plot(epochs_range, train_loss_history, marker='o', label=\"Train Loss\")\n",
        "plt.plot(epochs_range, val_loss_history,   marker='s', label=\"Val Loss\")\n",
        "plt.xlabel(\"Epoch\")\n",
        "plt.ylabel(\"Loss\")\n",
        "plt.title(\"MLP (PyTorch): Loss vs. Epochs\")\n",
        "plt.legend()\n",
        "plt.grid(True)\n",
        "plt.tight_layout()\n",
        "plt.savefig(\"mlp_pytorch_loss.png\")\n",
        "plt.show()\n"
      ],
      "metadata": {
        "id": "VqY7TWQZ1gHf",
        "colab": {
          "base_uri": "https://localhost:8080/",
          "height": 1000
        },
        "outputId": "14271027-2f83-4473-e46b-29b5373dd182"
      },
      "execution_count": null,
      "outputs": [
        {
          "output_type": "stream",
          "name": "stdout",
          "text": [
            "Epoch [1/10]  Train Loss: 0.2743, Train Acc: 0.9207  Val Loss: 0.1434, Val Acc: 0.9600\n",
            "Epoch [2/10]  Train Loss: 0.1202, Train Acc: 0.9639  Val Loss: 0.1105, Val Acc: 0.9673\n",
            "Epoch [3/10]  Train Loss: 0.0817, Train Acc: 0.9743  Val Loss: 0.1075, Val Acc: 0.9687\n",
            "Epoch [4/10]  Train Loss: 0.0627, Train Acc: 0.9797  Val Loss: 0.0924, Val Acc: 0.9712\n",
            "Epoch [5/10]  Train Loss: 0.0488, Train Acc: 0.9843  Val Loss: 0.0817, Val Acc: 0.9755\n",
            "Epoch [6/10]  Train Loss: 0.0387, Train Acc: 0.9880  Val Loss: 0.0978, Val Acc: 0.9732\n",
            "Epoch [7/10]  Train Loss: 0.0336, Train Acc: 0.9889  Val Loss: 0.0883, Val Acc: 0.9765\n",
            "Epoch [8/10]  Train Loss: 0.0279, Train Acc: 0.9907  Val Loss: 0.1111, Val Acc: 0.9717\n",
            "Epoch [9/10]  Train Loss: 0.0245, Train Acc: 0.9919  Val Loss: 0.0855, Val Acc: 0.9798\n",
            "Epoch [10/10]  Train Loss: 0.0176, Train Acc: 0.9943  Val Loss: 0.0940, Val Acc: 0.9763\n"
          ]
        },
        {
          "output_type": "display_data",
          "data": {
            "text/plain": [
              "<Figure size 800x500 with 1 Axes>"
            ],
            "image/png": "[encoded data removed]"
          },
          "metadata": {}
        },
        {
          "output_type": "display_data",
          "data": {
            "text/plain": [
              "<Figure size 800x500 with 1 Axes>"
            ],
            "image/png": "[encoded data removed]"
          },
          "metadata": {}
        }
      ]
    },
    {
      "cell_type": "code",
      "source": [],
      "metadata": {
        "id": "18FYVp40ULYH"
      },
      "execution_count": null,
      "outputs": []
    }
  ]
}