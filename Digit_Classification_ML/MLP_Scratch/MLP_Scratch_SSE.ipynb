{
  "nbformat": 4,
  "nbformat_minor": 0,
  "metadata": {
    "colab": {
      "provenance": []
    },
    "kernelspec": {
      "name": "python3",
      "display_name": "Python 3"
    },
    "language_info": {
      "name": "python"
    }
  },
  "cells": [
    {
      "cell_type": "code",
      "execution_count": 2,
      "metadata": {
        "id": "H3S-oU98oyWT"
      },
      "outputs": [],
      "source": [
        "import gzip\n",
        "import pickle\n",
        "import numpy as np\n",
        "\n",
        "def load_data():\n",
        "    f = gzip.open('/content/mnist.pkl.gz', 'rb')\n",
        "    training_data, validation_data, test_data = pickle.load(f, encoding='latin1')\n",
        "    f.close()\n",
        "    return (training_data, validation_data, test_data)\n",
        "\n",
        "def load_data_wrapper():\n",
        "    tr_d, va_d, te_d = load_data()\n",
        "    training_inputs = [np.reshape(x, (784, 1)) for x in tr_d[0]]\n",
        "    training_results = [vectorized_result(y) for y in tr_d[1]]\n",
        "    training_data = list(zip(training_inputs, training_results))\n",
        "    validation_inputs = [np.reshape(x, (784, 1)) for x in va_d[0]]\n",
        "    validation_data = list(zip(validation_inputs, va_d[1]))\n",
        "    test_inputs = [np.reshape(x, (784, 1)) for x in te_d[0]]\n",
        "    test_data = list(zip(test_inputs, te_d[1]))\n",
        "    return (training_data, validation_data, test_data)\n",
        "\n",
        "def vectorized_result(j):\n",
        "    e = np.zeros((10, 1))\n",
        "    e[j] = 1.0\n",
        "    return e\n"
      ]
    },
    {
      "cell_type": "code",
      "source": [
        "import random\n",
        "import numpy as np\n",
        "\n",
        "class Network:\n",
        "\n",
        "    def __init__(self, sizes):\n",
        "        self.num_layers = len(sizes)\n",
        "        self.sizes = sizes\n",
        "        self.biases = [np.random.randn(y, 1) for y in sizes[1:]]\n",
        "        self.weights = [np.random.randn(y, x)\n",
        "                        for x, y in zip(sizes[:-1], sizes[1:])]\n",
        "\n",
        "    def feedforward(self, a):\n",
        "        for b, w in zip(self.biases, self.weights):\n",
        "            a = sigmoid(np.dot(w, a)+b)\n",
        "        return a\n",
        "\n",
        "    def SGD(self, training_data, epochs, mini_batch_size, eta,\n",
        "            test_data=None):\n",
        "        if test_data: n_test = len(test_data)\n",
        "        n = len(training_data)\n",
        "        for j in range(epochs):\n",
        "            random.shuffle(training_data)\n",
        "            mini_batches = [\n",
        "                training_data[k:k+mini_batch_size]\n",
        "                for k in range(0, n, mini_batch_size)]\n",
        "            for mini_batch in mini_batches:\n",
        "                self.update_mini_batch(mini_batch, eta)\n",
        "            if test_data:\n",
        "                print(\"Epoch {}: {} / {}\".format(j, self.evaluate(test_data), n_test))\n",
        "            else:\n",
        "                print(\"Epoch {} complete\".format(j))\n",
        "\n",
        "    def update_mini_batch(self, mini_batch, eta):\n",
        "        nabla_b = [np.zeros(b.shape) for b in self.biases]\n",
        "        nabla_w = [np.zeros(w.shape) for w in self.weights]\n",
        "        for x, y in mini_batch:\n",
        "            delta_nabla_b, delta_nabla_w = self.backprop(x, y)\n",
        "            nabla_b = [nb+dnb for nb, dnb in zip(nabla_b, delta_nabla_b)]\n",
        "            nabla_w = [nw+dnw for nw, dnw in zip(nabla_w, delta_nabla_w)]\n",
        "        self.weights = [w-(eta/len(mini_batch))*nw\n",
        "                        for w, nw in zip(self.weights, nabla_w)]\n",
        "        self.biases = [b-(eta/len(mini_batch))*nb\n",
        "                       for b, nb in zip(self.biases, nabla_b)]\n",
        "\n",
        "    def backprop(self, x, y):\n",
        "        nabla_b = [np.zeros(b.shape) for b in self.biases]\n",
        "        nabla_w = [np.zeros(w.shape) for w in self.weights]\n",
        "        activation = x\n",
        "        activations = [x]\n",
        "        zs = []\n",
        "        for b, w in zip(self.biases, self.weights):\n",
        "            z = np.dot(w, activation)+b\n",
        "            zs.append(z)\n",
        "            activation = sigmoid(z)\n",
        "            activations.append(activation)\n",
        "        delta = self.cost_derivative(activations[-1], y) * sigmoid_prime(zs[-1])\n",
        "        nabla_b[-1] = delta\n",
        "        nabla_w[-1] = np.dot(delta, activations[-2].T)\n",
        "        for l in range(2, self.num_layers):\n",
        "            z = zs[-l]\n",
        "            sp = sigmoid_prime(z)\n",
        "            delta = np.dot(self.weights[-l+1].T, delta) * sp\n",
        "            nabla_b[-l] = delta\n",
        "            nabla_w[-l] = np.dot(delta, activations[-l-1].T)\n",
        "        return (nabla_b, nabla_w)\n",
        "\n",
        "    def evaluate(self, test_data):\n",
        "        test_results = [(np.argmax(self.feedforward(x)), y)\n",
        "                        for (x, y) in test_data]\n",
        "        return sum(int(x == y) for (x, y) in test_results)\n",
        "\n",
        "    def cost_derivative(self, output_activations, y):\n",
        "        return (output_activations - y)\n",
        "\n",
        "def sigmoid(z):\n",
        "    return 1.0 / (1.0 + np.exp(-z))\n",
        "\n",
        "def sigmoid_prime(z):\n",
        "    return sigmoid(z) * (1 - sigmoid(z))\n"
      ],
      "metadata": {
        "id": "b0kFgZRJpNrX"
      },
      "execution_count": 3,
      "outputs": []
    },
    {
      "cell_type": "code",
      "source": [
        "training_data, validation_data, test_data = load_data_wrapper()\n",
        "\n",
        "# Basic network\n",
        "net = Network([784, 30, 10])\n",
        "net.SGD(training_data, 30, 10, 3.0, test_data=test_data)\n",
        "\n",
        "\n"
      ],
      "metadata": {
        "colab": {
          "base_uri": "https://localhost:8080/"
        },
        "id": "klLEz7Nqqff1",
        "outputId": "e333ff35-95a4-483a-fcf7-bd49341e4455"
      },
      "execution_count": 7,
      "outputs": [
        {
          "output_type": "stream",
          "name": "stdout",
          "text": [
            "Epoch 0: 9077 / 10000\n",
            "Epoch 1: 9199 / 10000\n",
            "Epoch 2: 9314 / 10000\n",
            "Epoch 3: 9319 / 10000\n",
            "Epoch 4: 9329 / 10000\n",
            "Epoch 5: 9373 / 10000\n",
            "Epoch 6: 9377 / 10000\n",
            "Epoch 7: 9398 / 10000\n",
            "Epoch 8: 9396 / 10000\n",
            "Epoch 9: 9409 / 10000\n",
            "Epoch 10: 9446 / 10000\n",
            "Epoch 11: 9445 / 10000\n",
            "Epoch 12: 9459 / 10000\n",
            "Epoch 13: 9466 / 10000\n",
            "Epoch 14: 9421 / 10000\n",
            "Epoch 15: 9476 / 10000\n",
            "Epoch 16: 9492 / 10000\n",
            "Epoch 17: 9484 / 10000\n",
            "Epoch 18: 9492 / 10000\n",
            "Epoch 19: 9472 / 10000\n",
            "Epoch 20: 9473 / 10000\n",
            "Epoch 21: 9487 / 10000\n",
            "Epoch 22: 9470 / 10000\n",
            "Epoch 23: 9495 / 10000\n",
            "Epoch 24: 9502 / 10000\n",
            "Epoch 25: 9487 / 10000\n",
            "Epoch 26: 9507 / 10000\n",
            "Epoch 27: 9501 / 10000\n",
            "Epoch 28: 9497 / 10000\n",
            "Epoch 29: 9505 / 10000\n"
          ]
        }
      ]
    },
    {
      "cell_type": "code",
      "source": [
        "# Larger network\n",
        "net = Network([784, 100, 10])\n",
        "net.SGD(training_data, 30, 10, 3.0, test_data=test_data)\n",
        "\n"
      ],
      "metadata": {
        "colab": {
          "base_uri": "https://localhost:8080/"
        },
        "id": "E3yb7D9vqhj6",
        "outputId": "558a1cc9-1822-482b-c999-210bb1674034"
      },
      "execution_count": 8,
      "outputs": [
        {
          "output_type": "stream",
          "name": "stdout",
          "text": [
            "Epoch 0: 5693 / 10000\n",
            "Epoch 1: 5807 / 10000\n",
            "Epoch 2: 5834 / 10000\n",
            "Epoch 3: 5836 / 10000\n",
            "Epoch 4: 5877 / 10000\n",
            "Epoch 5: 5875 / 10000\n",
            "Epoch 6: 5889 / 10000\n",
            "Epoch 7: 6062 / 10000\n",
            "Epoch 8: 6808 / 10000\n",
            "Epoch 9: 7626 / 10000\n",
            "Epoch 10: 7679 / 10000\n",
            "Epoch 11: 7695 / 10000\n",
            "Epoch 12: 7681 / 10000\n",
            "Epoch 13: 7684 / 10000\n",
            "Epoch 14: 7741 / 10000\n",
            "Epoch 15: 7744 / 10000\n",
            "Epoch 16: 7813 / 10000\n",
            "Epoch 17: 8622 / 10000\n",
            "Epoch 18: 8635 / 10000\n",
            "Epoch 19: 8651 / 10000\n",
            "Epoch 20: 8652 / 10000\n",
            "Epoch 21: 8647 / 10000\n",
            "Epoch 22: 8669 / 10000\n",
            "Epoch 23: 8675 / 10000\n",
            "Epoch 24: 8690 / 10000\n",
            "Epoch 25: 8676 / 10000\n",
            "Epoch 26: 8697 / 10000\n",
            "Epoch 27: 8659 / 10000\n",
            "Epoch 28: 8692 / 10000\n",
            "Epoch 29: 8696 / 10000\n"
          ]
        }
      ]
    },
    {
      "cell_type": "code",
      "source": [
        "# High learning rate\n",
        "net = Network([784, 30, 10])\n",
        "net.SGD(training_data, 30, 10, 100.0, test_data=test_data)"
      ],
      "metadata": {
        "colab": {
          "base_uri": "https://localhost:8080/"
        },
        "id": "jk5PEAViwFrP",
        "outputId": "0a5820cb-2a91-4b7f-f88c-8510fe85f021"
      },
      "execution_count": 9,
      "outputs": [
        {
          "output_type": "stream",
          "name": "stdout",
          "text": [
            "Epoch 0: 1039 / 10000\n",
            "Epoch 1: 1039 / 10000\n",
            "Epoch 2: 1039 / 10000\n",
            "Epoch 3: 1039 / 10000\n",
            "Epoch 4: 1039 / 10000\n",
            "Epoch 5: 1039 / 10000\n",
            "Epoch 6: 1039 / 10000\n",
            "Epoch 7: 1039 / 10000\n",
            "Epoch 8: 1039 / 10000\n",
            "Epoch 9: 1039 / 10000\n",
            "Epoch 10: 1039 / 10000\n",
            "Epoch 11: 1039 / 10000\n",
            "Epoch 12: 1039 / 10000\n",
            "Epoch 13: 1039 / 10000\n",
            "Epoch 14: 1039 / 10000\n",
            "Epoch 15: 1039 / 10000\n",
            "Epoch 16: 1039 / 10000\n",
            "Epoch 17: 1039 / 10000\n",
            "Epoch 18: 1039 / 10000\n",
            "Epoch 19: 1039 / 10000\n",
            "Epoch 20: 1039 / 10000\n",
            "Epoch 21: 1039 / 10000\n",
            "Epoch 22: 1039 / 10000\n",
            "Epoch 23: 1039 / 10000\n",
            "Epoch 24: 1039 / 10000\n",
            "Epoch 25: 1039 / 10000\n",
            "Epoch 26: 1039 / 10000\n",
            "Epoch 27: 1039 / 10000\n",
            "Epoch 28: 1039 / 10000\n",
            "Epoch 29: 1039 / 10000\n"
          ]
        }
      ]
    },
    {
      "cell_type": "code",
      "source": [
        "# Low learning rate\n",
        "net = Network([784, 100, 10])\n",
        "net.SGD(training_data, 30, 10, 0.001, test_data=test_data)"
      ],
      "metadata": {
        "colab": {
          "base_uri": "https://localhost:8080/"
        },
        "id": "l27XEldDwGHB",
        "outputId": "5d093406-c89c-4db5-e420-2d573f841d35"
      },
      "execution_count": 11,
      "outputs": [
        {
          "output_type": "stream",
          "name": "stdout",
          "text": [
            "Epoch 0: 989 / 10000\n",
            "Epoch 1: 1033 / 10000\n",
            "Epoch 2: 1532 / 10000\n",
            "Epoch 3: 1641 / 10000\n",
            "Epoch 4: 1702 / 10000\n",
            "Epoch 5: 1741 / 10000\n",
            "Epoch 6: 1777 / 10000\n",
            "Epoch 7: 1814 / 10000\n",
            "Epoch 8: 1841 / 10000\n",
            "Epoch 9: 1883 / 10000\n",
            "Epoch 10: 1912 / 10000\n",
            "Epoch 11: 1956 / 10000\n",
            "Epoch 12: 2011 / 10000\n",
            "Epoch 13: 2048 / 10000\n",
            "Epoch 14: 2079 / 10000\n",
            "Epoch 15: 2110 / 10000\n",
            "Epoch 16: 2143 / 10000\n",
            "Epoch 17: 2209 / 10000\n",
            "Epoch 18: 2251 / 10000\n",
            "Epoch 19: 2297 / 10000\n",
            "Epoch 20: 2355 / 10000\n",
            "Epoch 21: 2406 / 10000\n",
            "Epoch 22: 2450 / 10000\n",
            "Epoch 23: 2496 / 10000\n",
            "Epoch 24: 2538 / 10000\n",
            "Epoch 25: 2578 / 10000\n",
            "Epoch 26: 2623 / 10000\n",
            "Epoch 27: 2655 / 10000\n",
            "Epoch 28: 2700 / 10000\n",
            "Epoch 29: 2732 / 10000\n"
          ]
        }
      ]
    },
    {
      "cell_type": "code",
      "source": [],
      "metadata": {
        "id": "8hTW8dYIwYAT"
      },
      "execution_count": null,
      "outputs": []
    }
  ]
}